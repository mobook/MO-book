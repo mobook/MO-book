{
 "cells": [
  {
   "cell_type": "markdown",
   "metadata": {
    "id": "Y1Wyb2kxvHHj"
   },
   "source": [
    "# Functional Programming with Pyomo\n",
    "\n",
    "Pyomo, an abbreviation for **Py**thon **O**ptimization **M**odeling **O**bjects, might not appear to be a suitable choice for functional programming. Functional programming, after all, relies on pure, stateless functions that operate on immutable data. Pyomo's workflow, instead, is based mutating a model's state using transformations and solvers. These approaches would seem to be fundamentally incompatible at first glance.\n",
    "\n",
    "The objective of this notebook is to demonstrate how encapsulating Pyomo transformations and solvers within relatively pure functions, along with a simple **PyomoMonad**, can create a functional programming environment for optimization that supports a flexible and expressive optimization workflows.\n"
   ]
  },
  {
   "cell_type": "markdown",
   "metadata": {
    "id": "JE9fk1bKMJxp"
   },
   "source": [
    "\n",
    "## Pyomo and Optimization Workflows\n",
    "\n",
    "A typical Pyomo workflow begins with a problem statement and then proceeds through a series of steps that, coupled with inputs of data, model transformations, and solvers, results in a solution. \n",
    "\n",
    "![](../../media/pyomo-workflow.drawio.png)\n",
    "\n",
    "\n",
    "1. A mathematical model is created from a problem statement and model of the available data.\n",
    "\n",
    "2. A Python code is prepared that can read relevant data and generates an instance of a Pyomo ConcreteModel.\n",
    "\n",
    "3. Optional transformations may be applied to convert the model into a solvable form.\n",
    "\n",
    "4. A solver is selected and applied to compute a solution and load into the model object.\n",
    "\n",
    "5. A suitable solution report is extracted from the solved model object.\n",
    "\n",
    "Given the range of possible problem types, modeling choices, transformations, and solvers, this can be complex workflow with opportunities for generating exceptions, and the need to log and display intermediate results.\n",
    "\n",
    "This notebook implements the Pyomo workflow by applying abstractions from functional programming and category theory. A simple **PyomoMonad** is proposed to enable the utilization of pure functions at each stage, from model construction to the presentation of the optimal solution."
   ]
  },
  {
   "cell_type": "markdown",
   "metadata": {
    "id": "spIjNSeeJxiN"
   },
   "source": [
    "## Functional Programming and Monads\n",
    "\n",
    "This section provides a brief and generic introduction to functional programming and monads. Readers familiar with these topics can skip forward to the section where these concepts are applied to the Pyomo workflow.\n",
    "\n",
    "### Pure functions\n",
    "\n",
    "A characteristic feature of functional programming is the use of \"pure\" functions. Pure functions always returns the same result for identical arguments with no side effects such as changing non-local variables or call-by-reference arguments, printing, or data base interactions. Because there are no side effects, there is no change in state between invocations of a pure function. All results of calling a pure function are restricted to the result returned by the function.\n",
    "\n",
    "There are important practical advantages for pure function that result from from these restrictions. For example, pure functions are generally short with a single purpose, they can be executed concurrency because there is no common state, are easily tested, and allow recursion. These advantages make pure functions useful building blocks for complex applications.\n",
    "\n",
    "\n",
    "Python lambda functions are examples of pure functions. Here we create a series of three lambda functions:\n",
    "\n",
    "* `trim` that strips white space from a string, \n",
    "* `upper` that converts a string to upper case,\n",
    "* `exclaim` that appends an exclamation symbol.\n"
   ]
  },
  {
   "cell_type": "code",
   "execution_count": 1,
   "metadata": {
    "executionInfo": {
     "elapsed": 19,
     "status": "ok",
     "timestamp": 1681152168098,
     "user": {
      "displayName": "Jeffrey Kantor",
      "userId": "09038942003589296665"
     },
     "user_tz": 240
    },
    "id": "uYB_h2PtvlMA"
   },
   "outputs": [],
   "source": [
    "# pure functions\n",
    "trim = lambda s : s.strip()\n",
    "upper = lambda s : s.upper()\n",
    "exclaim = lambda s : s + \"!\""
   ]
  },
  {
   "cell_type": "markdown",
   "metadata": {
    "id": "LgOCM19N4ppN"
   },
   "source": [
    "These can be nested in various combinations and applied to a string."
   ]
  },
  {
   "cell_type": "code",
   "execution_count": 2,
   "metadata": {
    "colab": {
     "base_uri": "https://localhost:8080/",
     "height": 35
    },
    "executionInfo": {
     "elapsed": 19,
     "status": "ok",
     "timestamp": 1681152168099,
     "user": {
      "displayName": "Jeffrey Kantor",
      "userId": "09038942003589296665"
     },
     "user_tz": 240
    },
    "id": "Jq2NOg1V4zN8",
    "outputId": "8c9a1254-3c9c-4cb0-e3a6-213586e21318"
   },
   "outputs": [
    {
     "data": {
      "text/plain": [
       "'GET OFF MY LAWN!'"
      ]
     },
     "execution_count": 2,
     "metadata": {},
     "output_type": "execute_result"
    }
   ],
   "source": [
    "exclaim(upper(trim(\" get off my lawn\")))"
   ]
  },
  {
   "cell_type": "markdown",
   "metadata": {
    "id": "On5Yn1OT7sUR"
   },
   "source": [
    "### Function composition\n",
    "\n",
    "A composition of these functions is useful for combining the effects of these functions. Given two functions, $f$ and $g$,\n",
    "\n",
    "$$\n",
    "\\begin{align}\n",
    "f : A & \\rightarrow B \\\\\n",
    "g : B & \\rightarrow C \\\\\n",
    "\\end{align}\n",
    "$$\n",
    "\n",
    "the composition of $f$ and $g$ is defined as\n",
    "\n",
    "$$\n",
    "\\begin{align}\n",
    "g \\circ f: A & \\rightarrow C \\\\\n",
    "\\end{align}\n",
    "$$\n",
    "\n",
    "where\n",
    "\n",
    "$$\\text{compose(f, g)(x)} = (g\\circ f) (x) = g(f(x))$$"
   ]
  },
  {
   "cell_type": "code",
   "execution_count": 3,
   "metadata": {
    "executionInfo": {
     "elapsed": 18,
     "status": "ok",
     "timestamp": 1681152168100,
     "user": {
      "displayName": "Jeffrey Kantor",
      "userId": "09038942003589296665"
     },
     "user_tz": 240
    },
    "id": "cpFKUbBEjPwf"
   },
   "outputs": [],
   "source": [
    "# function composition\n",
    "compose = lambda f, g : lambda x : g(f(x))"
   ]
  },
  {
   "cell_type": "markdown",
   "metadata": {
    "id": "7Ioh4esNz3i_"
   },
   "source": [
    "To demonstrate, a new function `enthuse` is created from the composition of `trim`, `upper` and `exclaim`."
   ]
  },
  {
   "cell_type": "code",
   "execution_count": 4,
   "metadata": {
    "colab": {
     "base_uri": "https://localhost:8080/",
     "height": 35
    },
    "executionInfo": {
     "elapsed": 18,
     "status": "ok",
     "timestamp": 1681152168100,
     "user": {
      "displayName": "Jeffrey Kantor",
      "userId": "09038942003589296665"
     },
     "user_tz": 240
    },
    "id": "1-xYnDKE0Hfm",
    "outputId": "5b049b95-e49d-4670-f305-0d37634d3a88"
   },
   "outputs": [
    {
     "data": {
      "text/plain": [
       "'GET OFF MY LAWN!'"
      ]
     },
     "execution_count": 4,
     "metadata": {},
     "output_type": "execute_result"
    }
   ],
   "source": [
    "enthuse = compose(compose(trim, upper), exclaim)\n",
    "enthuse(\" get off my lawn\")"
   ]
  },
  {
   "cell_type": "markdown",
   "metadata": {
    "id": "77Pzjjxq0fQ6"
   },
   "source": [
    "Composition is associative. Given three functions\n",
    "\n",
    "$$\n",
    "\\begin{align}\n",
    "f : A & \\rightarrow B \\\\\n",
    "g : B & \\rightarrow C \\\\\n",
    "h : C & \\rightarrow D \\\\\n",
    "\\end{align}\n",
    "$$\n",
    "\n",
    "then \n",
    "\n",
    "$$h\\circ g\\circ f = (h\\circ g)\\circ f = h\\circ (g\\circ f)$$"
   ]
  },
  {
   "cell_type": "code",
   "execution_count": 5,
   "metadata": {
    "colab": {
     "base_uri": "https://localhost:8080/"
    },
    "executionInfo": {
     "elapsed": 17,
     "status": "ok",
     "timestamp": 1681152168100,
     "user": {
      "displayName": "Jeffrey Kantor",
      "userId": "09038942003589296665"
     },
     "user_tz": 240
    },
    "id": "fuH827wY0e80",
    "outputId": "9e8589ef-d328-440a-ec9c-989982f267d0"
   },
   "outputs": [
    {
     "name": "stdout",
     "output_type": "stream",
     "text": [
      "GET OFF MY LAWN!\n",
      "GET OFF MY LAWN!\n"
     ]
    }
   ],
   "source": [
    "print(compose(compose(trim, upper), exclaim)(\" get off my lawn\"))\n",
    "print(compose(trim, compose(upper, exclaim))(\" get off my lawn\"))"
   ]
  },
  {
   "cell_type": "markdown",
   "metadata": {
    "id": "p_y40J9L3I9S"
   },
   "source": [
    "### `map`, `filter`, and `functools.reduce`"
   ]
  },
  {
   "cell_type": "markdown",
   "metadata": {
    "id": "NwQxMLIm5v20"
   },
   "source": [
    "The functions `map`, `filter`, and `functools.reduce` extend the utility of pure functions. Note that `map` actually returns an iterator, so `list` is required to apply the function to every element of the data given in `map`."
   ]
  },
  {
   "cell_type": "code",
   "execution_count": 6,
   "metadata": {
    "colab": {
     "base_uri": "https://localhost:8080/"
    },
    "executionInfo": {
     "elapsed": 343,
     "status": "ok",
     "timestamp": 1681152168431,
     "user": {
      "displayName": "Jeffrey Kantor",
      "userId": "09038942003589296665"
     },
     "user_tz": 240
    },
    "id": "a0HWN1DC5vH4",
    "outputId": "91bf724c-2aeb-4504-893c-01c66d16f5ff"
   },
   "outputs": [
    {
     "data": {
      "text/plain": [
       "['HELLO!', 'GO AWAY!', 'GET OFF MY LAWN!']"
      ]
     },
     "execution_count": 6,
     "metadata": {},
     "output_type": "execute_result"
    }
   ],
   "source": [
    "list(map(enthuse, [\"hello\", \"go away\", \" get off my lawn\"]))"
   ]
  },
  {
   "cell_type": "markdown",
   "metadata": {
    "id": "nHMtgOC-3YUF"
   },
   "source": [
    "`reduce` applies a function of two values recursively to a tuple, list, or iterator to reduce it to a single cumulative value. This provides a convenient means to construct of composition of two or more functions."
   ]
  },
  {
   "cell_type": "code",
   "execution_count": 7,
   "metadata": {
    "colab": {
     "base_uri": "https://localhost:8080/",
     "height": 35
    },
    "executionInfo": {
     "elapsed": 51,
     "status": "ok",
     "timestamp": 1681152168432,
     "user": {
      "displayName": "Jeffrey Kantor",
      "userId": "09038942003589296665"
     },
     "user_tz": 240
    },
    "id": "oWSmkCSRjjwL",
    "outputId": "40a74c5c-7319-4703-e60e-2276ee9b58be"
   },
   "outputs": [
    {
     "data": {
      "text/plain": [
       "'GET OFF MY LAWN!'"
      ]
     },
     "execution_count": 7,
     "metadata": {},
     "output_type": "execute_result"
    }
   ],
   "source": [
    "from functools import reduce\n",
    "\n",
    "enthuse = reduce(compose, (trim, upper, exclaim))\n",
    "enthuse(\" get off my lawn\")"
   ]
  },
  {
   "cell_type": "markdown",
   "metadata": {
    "id": "PIJRWlwkiSMA"
   },
   "source": [
    "### Why monads? \n",
    "\n",
    "Composing pure functions is a highly expressive and flexible style of programming, but consider what happens when something happens that causes a change of state. In the following cell, for example, an exception is generated when a composite function is applied to an input with the wrong type."
   ]
  },
  {
   "cell_type": "code",
   "execution_count": 8,
   "metadata": {
    "colab": {
     "base_uri": "https://localhost:8080/"
    },
    "executionInfo": {
     "elapsed": 50,
     "status": "ok",
     "timestamp": 1681152168432,
     "user": {
      "displayName": "Jeffrey Kantor",
      "userId": "09038942003589296665"
     },
     "user_tz": 240
    },
    "id": "WYJvlewjvxtm",
    "outputId": "4443fce3-c007-42a9-8ca4-cff3947c3006"
   },
   "outputs": [
    {
     "name": "stdout",
     "output_type": "stream",
     "text": [
      "'int' object has no attribute 'strip'\n"
     ]
    }
   ],
   "source": [
    "# this will produce an error message\n",
    "try:\n",
    "    enthuse(2)\n",
    "except Exception as e:\n",
    "    print(e)"
   ]
  },
  {
   "cell_type": "markdown",
   "metadata": {
    "id": "-iJzvRfs7Aou"
   },
   "source": [
    "This may not be a desirable result for a more complex workflow. This is where monads fit in.\n",
    "\n",
    "A monad wraps the inputs and outputs of a pure function into a structure that can perform additional computation. There two basic methods for monads:\n",
    "\n",
    "* **unit** which wraps a value into a monad.\n",
    "* **bind** which chains pure functions together."
   ]
  },
  {
   "cell_type": "markdown",
   "metadata": {
    "id": "Tk2gXzZ1Le0v"
   },
   "source": [
    "### The **Maybe** monad\n",
    "\n",
    " The following cell shows a Python implementation for a **Maybe** monad. The **Maybe** monad wraps a value the may contain a value. If the result of bind produces an error, the value stored is `None` and a flag is set."
   ]
  },
  {
   "cell_type": "code",
   "execution_count": 9,
   "metadata": {
    "executionInfo": {
     "elapsed": 46,
     "status": "ok",
     "timestamp": 1681152168432,
     "user": {
      "displayName": "Jeffrey Kantor",
      "userId": "09038942003589296665"
     },
     "user_tz": 240
    },
    "id": "X60J0e-pxKzH"
   },
   "outputs": [],
   "source": [
    "class Maybe:\n",
    "    def __init__(self, value=None, contains_value=True):\n",
    "        self.value = value\n",
    "        self.contains_value = contains_value\n",
    "\n",
    "    def bind(self, func):\n",
    "        if not self.contains_value:\n",
    "            return Maybe(None, False)\n",
    "\n",
    "        try:\n",
    "            result = func(self.value)\n",
    "            return Maybe(result)\n",
    "\n",
    "        except:\n",
    "            return Maybe(None, False)\n",
    "\n",
    "    def __call__(self):\n",
    "        return self.value"
   ]
  },
  {
   "cell_type": "markdown",
   "metadata": {
    "id": "H4e4-IwIAatd"
   },
   "source": [
    "To see how this works, let's create an instance of **Maybe** and bind the composite function `enthuse`."
   ]
  },
  {
   "cell_type": "code",
   "execution_count": 10,
   "metadata": {
    "colab": {
     "base_uri": "https://localhost:8080/",
     "height": 35
    },
    "executionInfo": {
     "elapsed": 46,
     "status": "ok",
     "timestamp": 1681152168433,
     "user": {
      "displayName": "Jeffrey Kantor",
      "userId": "09038942003589296665"
     },
     "user_tz": 240
    },
    "id": "FmihAviq_lUv",
    "outputId": "43a3d41e-d1fb-4b73-f3a6-bd41cddc23e3"
   },
   "outputs": [
    {
     "data": {
      "text/plain": [
       "'GET OFF MY LAWN!'"
      ]
     },
     "execution_count": 10,
     "metadata": {},
     "output_type": "execute_result"
    }
   ],
   "source": [
    "Maybe(\" get off my lawn\").bind(enthuse)()"
   ]
  },
  {
   "cell_type": "markdown",
   "metadata": {
    "id": "_6veosolnhky"
   },
   "source": [
    "The important thing to notice is that the pure functions previously defined can be applied and composed with no changes. All of the boilerplate code need to check for errors has been encapsulated in the **Maybe** monad."
   ]
  },
  {
   "cell_type": "code",
   "execution_count": 11,
   "metadata": {
    "colab": {
     "base_uri": "https://localhost:8080/",
     "height": 35
    },
    "executionInfo": {
     "elapsed": 44,
     "status": "ok",
     "timestamp": 1681152168433,
     "user": {
      "displayName": "Jeffrey Kantor",
      "userId": "09038942003589296665"
     },
     "user_tz": 240
    },
    "id": "K3y7O72T3K1V",
    "outputId": "07f6d395-e6b0-43c4-ae4e-d6e08007eb03"
   },
   "outputs": [
    {
     "data": {
      "text/plain": [
       "'GET OFF MY LAWN!'"
      ]
     },
     "execution_count": 11,
     "metadata": {},
     "output_type": "execute_result"
    }
   ],
   "source": [
    "Maybe(\" get off my lawn\").bind(trim).bind(upper).bind(exclaim)()"
   ]
  },
  {
   "cell_type": "markdown",
   "metadata": {
    "id": "ZizekQq5_l48"
   },
   "source": [
    "Why do this? One benefit of **Maybe** is that we now have a way to avoid or capture error messages produced when from a composition of functions."
   ]
  },
  {
   "cell_type": "code",
   "execution_count": 12,
   "metadata": {
    "executionInfo": {
     "elapsed": 44,
     "status": "ok",
     "timestamp": 1681152168434,
     "user": {
      "displayName": "Jeffrey Kantor",
      "userId": "09038942003589296665"
     },
     "user_tz": 240
    },
    "id": "8-ATDof4Ax0P"
   },
   "outputs": [],
   "source": [
    "# this will not generate an error\n",
    "Maybe(2).bind(enthuse)()"
   ]
  },
  {
   "cell_type": "markdown",
   "metadata": {
    "id": "NT3iDI5hCLhi"
   },
   "source": [
    "### The Failure monad\n",
    "\n",
    "The **Failure** monad is designed to handle exceptions. Without modifying any of the previously defined functions, **Failure** captures the first exception and pushes it to the end of a chain of calculations. All of the boilerplate is in the monad, not the functions."
   ]
  },
  {
   "cell_type": "code",
   "execution_count": 13,
   "metadata": {
    "executionInfo": {
     "elapsed": 43,
     "status": "ok",
     "timestamp": 1681152168434,
     "user": {
      "displayName": "Jeffrey Kantor",
      "userId": "09038942003589296665"
     },
     "user_tz": 240
    },
    "id": "eD2P-VKCCBpv"
   },
   "outputs": [],
   "source": [
    "class Failure:\n",
    "\n",
    "    def __init__(self, value=None, status=None):\n",
    "        self.value = value\n",
    "        self.status = status\n",
    "\n",
    "    def bind(self, f):\n",
    "        if self.status is not None:\n",
    "            return Failure(None, self.status)\n",
    "\n",
    "        try:\n",
    "            result = f(self.value)\n",
    "            return Failure(result, None)\n",
    "\n",
    "        except Exception as e:\n",
    "            return Failure(None, e)\n",
    "\n",
    "    def __call__(self):\n",
    "        return self.value"
   ]
  },
  {
   "cell_type": "code",
   "execution_count": 14,
   "metadata": {
    "colab": {
     "base_uri": "https://localhost:8080/",
     "height": 35
    },
    "executionInfo": {
     "elapsed": 23,
     "status": "ok",
     "timestamp": 1681152168434,
     "user": {
      "displayName": "Jeffrey Kantor",
      "userId": "09038942003589296665"
     },
     "user_tz": 240
    },
    "id": "ldOgFQpJEy4J",
    "outputId": "b9bc24c5-a1c6-4f05-e403-ee7dcbcaa862"
   },
   "outputs": [
    {
     "data": {
      "text/plain": [
       "'GET OFF MY LAWN!'"
      ]
     },
     "execution_count": 14,
     "metadata": {},
     "output_type": "execute_result"
    }
   ],
   "source": [
    "Failure(\" get off my lawn\").bind(enthuse)()"
   ]
  },
  {
   "cell_type": "code",
   "execution_count": 15,
   "metadata": {
    "colab": {
     "base_uri": "https://localhost:8080/"
    },
    "executionInfo": {
     "elapsed": 22,
     "status": "ok",
     "timestamp": 1681152168435,
     "user": {
      "displayName": "Jeffrey Kantor",
      "userId": "09038942003589296665"
     },
     "user_tz": 240
    },
    "id": "uGKYiHQDE7iA",
    "outputId": "ce0f8f2b-81c9-4647-92b4-89def0865553"
   },
   "outputs": [
    {
     "data": {
      "text/plain": [
       "AttributeError(\"'int' object has no attribute 'strip'\")"
      ]
     },
     "execution_count": 15,
     "metadata": {},
     "output_type": "execute_result"
    }
   ],
   "source": [
    "Failure(2).bind(enthuse).status"
   ]
  },
  {
   "cell_type": "markdown",
   "metadata": {
    "id": "ZqPCpFTrLNlv"
   },
   "source": [
    "## A Pyomo monad\n",
    "\n",
    "\n",
    "In brief, a monad is a structure that wraps a value inside an object so that it can be passed through a series of functions. \n",
    "\n",
    "\n",
    "The functions are assumed to be stateless and without side effect. In other words, given the same input the functions will always the same output. The purpose of the monad is handle situations where a function results in\n",
    "\n",
    "for restricting access to a value. The reasons for restricting access are specific to the application. For Pyomo models, for example, \n",
    "\n",
    "* spe that are specific to the scenario. In Pyomo, for example, we ca\n",
    "\n",
    "This first implementation of a Pyomo monad comprises three elements:\n",
    "\n",
    "* Wrapping Pyomo solvers and transformers as functions. The solvers and transfers clone the model to avoid changes in the state of the model that is passed by reference.\n",
    "\n",
    "* A **PyomoMonad** with a unit and bind functions. The monad will \"lift\" the Pyomo model by adding attributes for status and an effect. The effect is what will executed when the monad is executed.\n",
    "\n",
    "* Pyomo models are created by model builders that take problem data and produce a Pyomo model encapsulated in a **PyomoMonad**. The monad can include an optional effect. The effect should produce any desired side effects, such as plots or reports written to files, and return any desired output from the model. The effect is called by call the monad."
   ]
  },
  {
   "cell_type": "markdown",
   "metadata": {
    "id": "KCk4fpz3aKsv"
   },
   "source": [
    "### Import Pyomo and solvers"
   ]
  },
  {
   "cell_type": "code",
   "execution_count": 16,
   "metadata": {
    "colab": {
     "base_uri": "https://localhost:8080/"
    },
    "executionInfo": {
     "elapsed": 12910,
     "status": "ok",
     "timestamp": 1681152181326,
     "user": {
      "displayName": "Jeffrey Kantor",
      "userId": "09038942003589296665"
     },
     "user_tz": 240
    },
    "id": "iZoNOTftPsrj",
    "outputId": "28a6c4de-b2aa-43ac-cc53-dc476f0bc58f"
   },
   "outputs": [],
   "source": [
    "# for use on Google Colab\n",
    "import sys\n",
    "if \"google.colab\" in sys.modules:\n",
    "    !pip install -q idaes-pse\n",
    "    !idaes get-extensions"
   ]
  },
  {
   "cell_type": "markdown",
   "metadata": {
    "id": "6VQfJzerYDZG"
   },
   "source": [
    "### Wrapping Pyomo solvers and transformations as \"pure\" functions\n",
    "\n",
    "Create some \"pure\" functions for processing Pyomo models. These are "
   ]
  },
  {
   "cell_type": "code",
   "execution_count": 17,
   "metadata": {
    "executionInfo": {
     "elapsed": 6,
     "status": "ok",
     "timestamp": 1681152181327,
     "user": {
      "displayName": "Jeffrey Kantor",
      "userId": "09038942003589296665"
     },
     "user_tz": 240
    },
    "id": "lY99clWZYDt7"
   },
   "outputs": [],
   "source": [
    "# given a string specification, returns a solver created by pyomo.SolverFactory\n",
    "def solver(s=None):\n",
    "    if s is None:\n",
    "        _solver = lambda model : model.clone()\n",
    "    else:\n",
    "        def _solver(model):\n",
    "            new_model = model.clone()\n",
    "            pyo.SolverFactory(s).solve(new_model)\n",
    "            return new_model\n",
    "    return _solver"
   ]
  },
  {
   "cell_type": "code",
   "execution_count": 18,
   "metadata": {
    "executionInfo": {
     "elapsed": 5,
     "status": "ok",
     "timestamp": 1681152181327,
     "user": {
      "displayName": "Jeffrey Kantor",
      "userId": "09038942003589296665"
     },
     "user_tz": 240
    },
    "id": "-_u6Mxwvd_kh"
   },
   "outputs": [],
   "source": [
    "# given a string specification, returns a transformer created by pyomo.TransformationFactory\n",
    "def transformer(s=None):\n",
    "    if s is None:\n",
    "        _transformer = lambda model : model.clone()\n",
    "    else:\n",
    "        def _transformer(model):\n",
    "            new_model = model.clone()\n",
    "            pyo.TransformationFactory(s).apply_to(new_model)\n",
    "            return new_model\n",
    "    return _transformer"
   ]
  },
  {
   "cell_type": "markdown",
   "metadata": {
    "id": "WplT--QAYL_C"
   },
   "source": [
    "### **PyomoMonad**\n",
    "\n",
    "The an implementation of a simple Pyomo monad. The monad can bind a functions that operates on a model object. A bound function must return a model object. Errors are captured and added to the status. An effect can be specified that will be the returned by the monad when called as a function. The \">>\" operator is overridden to provide a little syntax sugar for representing workflows."
   ]
  },
  {
   "cell_type": "code",
   "execution_count": 19,
   "metadata": {
    "executionInfo": {
     "elapsed": 5,
     "status": "ok",
     "timestamp": 1681152181327,
     "user": {
      "displayName": "Jeffrey Kantor",
      "userId": "09038942003589296665"
     },
     "user_tz": 240
    },
    "id": "mMJyesZ-LMwF"
   },
   "outputs": [],
   "source": [
    "class PyomoMonad:\n",
    "    \"\"\"A simple monad class for handling Pyomo operations with error handling.\n",
    "    \n",
    "    This class is designed to simplify Pyomo operations by providing a way to\n",
    "    handle errors and chaining operations together. The bind method is used to\n",
    "    chain operations, and the __call__ method is used to execute the monad.\n",
    "    \"\"\"\n",
    "\n",
    "    def __init__(self, value=None, effect=None, status=None):\n",
    "        \"\"\"\n",
    "        Initialize the PyomoMonad instance.\n",
    "        \n",
    "        :param value: The value to be processed by the monad\n",
    "        :type value: Any\n",
    "        :param effect: A function to be applied on the value\n",
    "        :type effect: callable, optional\n",
    "        :param status: The current status of the monad, used for error handling\n",
    "        :type status: Any, optional\n",
    "        \"\"\"\n",
    "        self.value = value\n",
    "        self.status = status\n",
    "        self.effect = effect\n",
    "\n",
    "    def bind(self, func):\n",
    "        \"\"\"Bind a function to the current monad instance.\n",
    "        \n",
    "        :param func: The function to be bound to the current monad\n",
    "        :type func: callable\n",
    "        :return: A new PyomoMonad instance\n",
    "        :rtype: PyomoMonad\n",
    "        \"\"\"\n",
    "        if self.status is not None:\n",
    "            return PyomoMonad(None, self.effect, self.status)\n",
    "\n",
    "        try:\n",
    "            result = func(self.value)\n",
    "            return PyomoMonad(result, self.effect, self.status)\n",
    "\n",
    "        except Exception as e:\n",
    "            return PyomoMonad(None, lambda value: print(self.status), status=e)\n",
    "\n",
    "    def __call__(self):\n",
    "        \"\"\"Execute the monad by calling its effect if it exists, or return its value.\n",
    "        \n",
    "        :return: The result of executing the monad's effect or its value\n",
    "        :rtype: Any\n",
    "        \"\"\"\n",
    "        if self.effect is not None:\n",
    "            return self.effect(self.value)\n",
    "        else:\n",
    "            return self.value\n",
    "\n",
    "    def __rshift__(self, func):\n",
    "        \"\"\"Implement the '>>' operator for chaining operations.\n",
    "        \n",
    "        :param func: The function to be bound to the current monad\n",
    "        :type func: callable\n",
    "        :return: A new PyomoMonad instance\n",
    "        :rtype: PyomoMonad\n",
    "        \"\"\"\n",
    "        return self.bind(func)\n"
   ]
  },
  {
   "cell_type": "markdown",
   "metadata": {
    "id": "L1t2maCYKumE"
   },
   "source": [
    "## Example: Production Planning"
   ]
  },
  {
   "cell_type": "code",
   "execution_count": 20,
   "metadata": {
    "executionInfo": {
     "elapsed": 5,
     "status": "ok",
     "timestamp": 1681152181328,
     "user": {
      "displayName": "Jeffrey Kantor",
      "userId": "09038942003589296665"
     },
     "user_tz": 240
    },
    "id": "VhmRbcMNMSpS"
   },
   "outputs": [],
   "source": [
    "products = {\n",
    "    \"U\": {\"price\": 270, \"demand\": 40},\n",
    "    \"V\": {\"price\": 210, \"demand\": None},\n",
    "}\n",
    "\n",
    "resources = {\n",
    "    \"M\": {\"price\": 10, \"available\": None},\n",
    "    \"labor A\": {\"price\": 50, \"available\": 100},\n",
    "    \"labor B\": {\"price\": 40, \"available\":  80},\n",
    "}\n",
    "\n",
    "processes = {\n",
    "    \"U\": {\"M\": 10, \"labor A\": 2, \"labor B\": 1},\n",
    "    \"V\": {\"M\":  9, \"labor A\": 1, \"labor B\": 1},\n",
    "}"
   ]
  },
  {
   "cell_type": "code",
   "execution_count": 21,
   "metadata": {
    "executionInfo": {
     "elapsed": 838,
     "status": "ok",
     "timestamp": 1681152182161,
     "user": {
      "displayName": "Jeffrey Kantor",
      "userId": "09038942003589296665"
     },
     "user_tz": 240
    },
    "id": "guj5Yq6D-DnV"
   },
   "outputs": [],
   "source": [
    "import pyomo.environ as pyo\n",
    "import pandas as pd\n",
    "from functools import reduce\n",
    "\n",
    "def production_model(products, resources, processes):\n",
    "\n",
    "    m = pyo.ConcreteModel()\n",
    "\n",
    "    m.PRODUCTS = pyo.Set(initialize=list(products.keys()))\n",
    "    m.RESOURCES = pyo.Set(initialize=list(resources.keys()))\n",
    "\n",
    "    # create decision variables\n",
    "    m.x = pyo.Var(m.RESOURCES, bounds=lambda m, r: (0,  resources[r][\"available\"]))\n",
    "    m.y = pyo.Var(m.PRODUCTS, bounds=lambda m, p: (0, products[p][\"demand\"]))\n",
    "\n",
    "    # create expressions\n",
    "    m.revenue = sum(products[p]['price'] * m.y[p] for p in m.PRODUCTS)\n",
    "    m.cost = sum(resources[r]['price'] * m.x[r] for r in m.RESOURCES)\n",
    "\n",
    "    # create objective\n",
    "    @m.Objective(sense=pyo.maximize)\n",
    "    def profit(m):\n",
    "        return m.revenue - m.cost\n",
    "\n",
    "    # create indexed constraint\n",
    "    @m.Constraint(m.RESOURCES)\n",
    "    def materials_used(m, r):\n",
    "        return sum(processes[p][r] * m.y[p] for p in m.PRODUCTS) <= m.x[r]\n",
    "\n",
    "    # create a call back to return solution\n",
    "    def report(m):\n",
    "        x = pd.Series({r: m.x[r].value for r in m.RESOURCES})\n",
    "        y = pd.Series({p: m.y[p].value for p in m.PRODUCTS})\n",
    "        return m.profit(), x, y\n",
    "\n",
    "    # return a PyomoMonad\n",
    "    return PyomoMonad(m, effect=report)"
   ]
  },
  {
   "cell_type": "code",
   "execution_count": 22,
   "metadata": {
    "colab": {
     "base_uri": "https://localhost:8080/",
     "height": 156
    },
    "executionInfo": {
     "elapsed": 11,
     "status": "ok",
     "timestamp": 1681152182161,
     "user": {
      "displayName": "Jeffrey Kantor",
      "userId": "09038942003589296665"
     },
     "user_tz": 240
    },
    "id": "CSR2FR0TWeym",
    "outputId": "22e778e4-6048-4464-92d9-40539db1efad"
   },
   "outputs": [
    {
     "name": "stdout",
     "output_type": "stream",
     "text": [
      "2400.0\n"
     ]
    },
    {
     "data": {
      "text/plain": [
       "M          740.0\n",
       "labor A    100.0\n",
       "labor B     80.0\n",
       "dtype: float64"
      ]
     },
     "metadata": {},
     "output_type": "display_data"
    },
    {
     "data": {
      "text/plain": [
       "U    20.0\n",
       "V    60.0\n",
       "dtype: float64"
      ]
     },
     "metadata": {},
     "output_type": "display_data"
    }
   ],
   "source": [
    "profit, x, y = production_model(products, resources, processes).bind(solver('cbc'))()\n",
    "\n",
    "print(profit)\n",
    "display(x)\n",
    "display(y)"
   ]
  },
  {
   "cell_type": "markdown",
   "metadata": {
    "id": "-3cjAFAzYRL2"
   },
   "source": [
    "## Example: Batch Reactor\n",
    "\n",
    "The following example demonstrates a somewhat longer workflow where Pyomo.DAE is used to transform a set of differential equations into a nonlinear optimization problem that can be solved with ipopt. The model output includes a plot and a few key model values.\n",
    "\n",
    "### Problem statement\n",
    "\n",
    "Consider a sequence of two chemical reactions\n",
    "\n",
    "$$\n",
    "A  \\stackrel{k_1}{\\longrightarrow} B  \\stackrel{k_2}{\\longrightarrow} C\n",
    "$$\n",
    "\n",
    "that take place in batch reactor under isothermal conditions. The feed initially consists of pure $A$. The goal is to maximize the production of $B$. Ultimately it is necessary to account for the turnaround time needed between successive batches, but as a first attempt we will settle for finding the maximum achievable concentration of $B$, and time required to achieve that concentration.\n",
    "\n",
    "### Mathematical model\n",
    "\n",
    "Let $a$ and $b$ refer to the concentrations of $A$ and $B$, respectively. Then the problem is to find $t_f$ where\n",
    "\n",
    "$$\n",
    "\\begin{align*}\n",
    "t_f & = \\arg \\max_t\\  b(t) \\\\\n",
    "\\\\\n",
    "\\text{s.t.}\\quad& \\frac{da}{dt} = - k_1 a & a(0) = 1\\\\\n",
    "& \\frac{db}{dt} = k_1 a - k_2 b & b(0) = 0 \\\\\n",
    "\\end{align*}\n",
    "$$\n",
    "\n",
    "Rescaling time so that $t' = t/t_f$ yields the more tractable optimization problem\n",
    "\n",
    "$$\n",
    "\\begin{align*}\n",
    "& \\max\\  b(1) \\\\\n",
    "\\\\\n",
    "\\text{s.t.}\\quad& \\frac{da}{dt'} = - t_f k_1 a & a(0) = 1\\\\\n",
    "& \\frac{db}{dt'} = t_ff k_1 a - t_f k_2 b & b(0) = 0 \\\\\n",
    "& t_f \\geq 0\n",
    "\\end{align*}\n",
    "$$\n",
    "\n",
    "where $t_f$ is now embedded as a parameter within the model, and the integration is now over a fixed interval $t' \\in [0, 1]$.\n",
    "\n",
    "### Pyomo model builder"
   ]
  },
  {
   "cell_type": "code",
   "execution_count": 23,
   "metadata": {
    "executionInfo": {
     "elapsed": 7,
     "status": "ok",
     "timestamp": 1681152182162,
     "user": {
      "displayName": "Jeffrey Kantor",
      "userId": "09038942003589296665"
     },
     "user_tz": 240
    },
    "id": "iFudcDzlQHGl"
   },
   "outputs": [],
   "source": [
    "import pyomo.environ as pyo\n",
    "import pyomo.dae as dae\n",
    "import pandas as pd\n",
    "\n",
    "def ode_model_builder(k1=0.5, k2=0.1):\n",
    "\n",
    "    m = pyo.ConcreteModel()\n",
    "\n",
    "    m.t = dae.ContinuousSet(bounds=(0, 1))\n",
    "\n",
    "    m.a = pyo.Var(m.t)\n",
    "    m.b = pyo.Var(m.t)\n",
    "    m.tf = pyo.Var(domain=pyo.NonNegativeReals)\n",
    "\n",
    "    m.dadt = dae.DerivativeVar(m.a)\n",
    "    m.dbdt = dae.DerivativeVar(m.b)\n",
    "\n",
    "    @m.Objective(sense=pyo.maximize)\n",
    "    def max_b(m):\n",
    "        return m.b[1]\n",
    "\n",
    "    @m.Constraint(m.t)\n",
    "    def odeA(m, t):\n",
    "        return m.dadt[t] == -k1 * m.tf * m.a[t]\n",
    "\n",
    "    @m.Constraint(m.t)\n",
    "    def odeB(m, t):\n",
    "        return m.dbdt[t] == k1 * m.tf * m.a[t] - k2 * m.tf * m.b[t]\n",
    "\n",
    "    m.a[0].fix(1)\n",
    "    m.b[0].fix(0)\n",
    "\n",
    "    def report(m):\n",
    "        df = pd.DataFrame.from_dict({\n",
    "            't' : [m.tf() * t for t in m.t],\n",
    "            'A' : [m.a[t]() for t in m.t],\n",
    "            'B' : [m.b[t]() for t in m.t],\n",
    "        })\n",
    "        ax = df.plot(x='t', y=['A', 'B'], grid=True, xlabel=\"time\", ylabel=\"concentration\",\n",
    "                     title=f\"k1 = {k1:0.3f}, k2 = {k2:0.3f}\")\n",
    "        ax.plot(m.tf(), m.b[1].value, '.', ms=10)\n",
    "        return (m.tf.value , m.b[1].value)\n",
    "\n",
    "    return PyomoMonad(m, effect=report)\n"
   ]
  },
  {
   "cell_type": "markdown",
   "metadata": {
    "id": "MTpxE2tEYWRH"
   },
   "source": [
    "### Executing a workflow\n",
    "\n",
    "A typical use of **PyomoMonad**."
   ]
  },
  {
   "cell_type": "code",
   "execution_count": 24,
   "metadata": {
    "colab": {
     "base_uri": "https://localhost:8080/",
     "height": 507
    },
    "executionInfo": {
     "elapsed": 660,
     "status": "ok",
     "timestamp": 1681152182816,
     "user": {
      "displayName": "Jeffrey Kantor",
      "userId": "09038942003589296665"
     },
     "user_tz": 240
    },
    "id": "yviBtWh6RRAl",
    "outputId": "ef610d44-0521-432c-cb9b-2244e17a2d75"
   },
   "outputs": [
    {
     "name": "stdout",
     "output_type": "stream",
     "text": [
      "   tf = 4.024\n",
      "b(tf) = 0.669\n"
     ]
    },
    {
     "data": {
      "image/png": "[encoded data removed]",
      "text/plain": [
       "<Figure size 640x480 with 1 Axes>"
      ]
     },
     "metadata": {
      "filenames": {
       "image/png": "/Users/ale/My Drive/GitHub repositories/MO-book/_build/jupyter_execute/notebooks/appendix/functional-programming-pyomo_47_1.png"
      }
     },
     "output_type": "display_data"
    }
   ],
   "source": [
    "soln = ode_model_builder().bind(transformer('dae.collocation')).bind(solver('ipopt'))\n",
    "tf, b = soln()\n",
    "print(f\"   tf = {tf:0.3f}\")\n",
    "print(f\"b(tf) = {b:0.3f}\")"
   ]
  },
  {
   "cell_type": "markdown",
   "metadata": {
    "id": "IBGNnzgW55Sc"
   },
   "source": [
    "### Alterntive syntax\n",
    "\n",
    "Show how the workflow functions can be composed into a single operation."
   ]
  },
  {
   "cell_type": "code",
   "execution_count": 25,
   "metadata": {
    "colab": {
     "base_uri": "https://localhost:8080/",
     "height": 489
    },
    "executionInfo": {
     "elapsed": 828,
     "status": "ok",
     "timestamp": 1681152183640,
     "user": {
      "displayName": "Jeffrey Kantor",
      "userId": "09038942003589296665"
     },
     "user_tz": 240
    },
    "id": "eBqMS8nTb4iH",
    "outputId": "da5dfb46-eaa9-45e0-f586-6e322823f1e4"
   },
   "outputs": [
    {
     "data": {
      "text/plain": [
       "(0.15767005981401438, 0.8541314382648219)"
      ]
     },
     "execution_count": 25,
     "metadata": {},
     "output_type": "execute_result"
    },
    {
     "data": {
      "image/png": "[encoded data removed]",
      "text/plain": [
       "<Figure size 640x480 with 1 Axes>"
      ]
     },
     "metadata": {
      "filenames": {
       "image/png": "/Users/ale/My Drive/GitHub repositories/MO-book/_build/jupyter_execute/notebooks/appendix/functional-programming-pyomo_49_1.png"
      }
     },
     "output_type": "display_data"
    }
   ],
   "source": [
    "collocation = transformer('dae.collocation')\n",
    "ipopt = solver('ipopt')\n",
    "\n",
    "(soln := ode_model_builder(20, 1) >> collocation >> ipopt)()"
   ]
  },
  {
   "cell_type": "markdown",
   "metadata": {
    "id": "nmKotMElRuFb"
   },
   "source": [
    "### Composition\n",
    "\n",
    "Show how a workflow can be written as a composition of functions."
   ]
  },
  {
   "cell_type": "code",
   "execution_count": 26,
   "metadata": {
    "colab": {
     "base_uri": "https://localhost:8080/",
     "height": 489
    },
    "executionInfo": {
     "elapsed": 613,
     "status": "ok",
     "timestamp": 1681152184249,
     "user": {
      "displayName": "Jeffrey Kantor",
      "userId": "09038942003589296665"
     },
     "user_tz": 240
    },
    "id": "pnraDllSR6RO",
    "outputId": "685c3159-3f3c-4e39-9da9-724a7f365998"
   },
   "outputs": [
    {
     "data": {
      "text/plain": [
       "(4.023594361612317, 0.6687402900841761)"
      ]
     },
     "execution_count": 26,
     "metadata": {},
     "output_type": "execute_result"
    },
    {
     "data": {
      "image/png": "[encoded data removed]",
      "text/plain": [
       "<Figure size 640x480 with 1 Axes>"
      ]
     },
     "metadata": {
      "filenames": {
       "image/png": "/Users/ale/My Drive/GitHub repositories/MO-book/_build/jupyter_execute/notebooks/appendix/functional-programming-pyomo_51_1.png"
      }
     },
     "output_type": "display_data"
    }
   ],
   "source": [
    "ode_solver = compose(collocation, ipopt)\n",
    "\n",
    "(soln := ode_model_builder().bind(ode_solver))()"
   ]
  },
  {
   "cell_type": "markdown",
   "metadata": {
    "id": "N_cciKcw_BlS"
   },
   "source": [
    "## Useful references\n",
    "\n",
    "* Wikipedia: [Monad (functional programming)]( https://en.wikipedia.org/w/index.php?title=Monad_(functional_programming)&oldid=1143728441) \n",
    "* https://www.philliams.com/monads-in-python/\n",
    "* https://www.codeproject.com/Articles/5290753/Simple-Introduction-to-Monads"
   ]
  },
  {
   "cell_type": "code",
   "execution_count": null,
   "metadata": {
    "executionInfo": {
     "elapsed": 8,
     "status": "ok",
     "timestamp": 1681152184250,
     "user": {
      "displayName": "Jeffrey Kantor",
      "userId": "09038942003589296665"
     },
     "user_tz": 240
    },
    "id": "evOy2cVDpxHB"
   },
   "outputs": [],
   "source": []
  }
 ],
 "metadata": {
  "colab": {
   "authorship_tag": "ABX9TyODWvXq+WTri9gf+nPxf9Tg",
   "provenance": []
  },
  "kernelspec": {
   "display_name": "Python 3 (ipykernel)",
   "language": "python",
   "name": "python3"
  },
  "language_info": {
   "codemirror_mode": {
    "name": "ipython",
    "version": 3
   },
   "file_extension": ".py",
   "mimetype": "text/x-python",
   "name": "python",
   "nbconvert_exporter": "python",
   "pygments_lexer": "ipython3",
   "version": "3.9.16"
  }
 },
 "nbformat": 4,
 "nbformat_minor": 4
}