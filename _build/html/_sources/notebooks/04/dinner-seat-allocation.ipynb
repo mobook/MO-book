{
 "cells": [
  {
   "cell_type": "markdown",
   "metadata": {
    "id": "uRtp1E6mSnM2"
   },
   "source": [
    "```{index} single: application; seating allocation\n",
    "```\n",
    "```{index} single: solver; cbc\n",
    "```\n",
    "```{index} single: Pyomo; parameters\n",
    "```\n",
    "```{index} single: Pyomo; sets\n",
    "```\n",
    "```{index} network optimization\n",
    "```\n",
    "```{index} max flow problem\n",
    "```\n",
    "```{index} networkx\n",
    "```\n",
    "```{index} feasibility problem\n",
    "```\n",
    "\n",
    "# Dinner seating arrangement"
   ]
  },
  {
   "cell_type": "markdown",
   "metadata": {},
   "source": [
    "## Preamble: Install Pyomo and a solver\n",
    "\n",
    "This cell selects and verifies a global SOLVER for the notebook.\n",
    "\n",
    "If run on Google Colab, the cell installs Pyomo and HiGHS, then sets SOLVER to \n",
    "use the Highs solver via the appsi module. If run elsewhere, it assumes Pyomo and CBC\n",
    "have been previously installed and sets SOLVER to use the CBC solver via the Pyomo \n",
    "SolverFactory. It then verifies that SOLVER is available."
   ]
  },
  {
   "cell_type": "code",
   "execution_count": 1,
   "metadata": {
    "colab": {
     "base_uri": "https://localhost:8080/"
    },
    "id": "5ssUqKOaPVaE",
    "outputId": "38c1005a-39f4-4307-e305-19a4c9819396"
   },
   "outputs": [],
   "source": [
    "import sys\n",
    "\n",
    "if 'google.colab' in sys.modules:\n",
    "    !pip install pyomo >/dev/null 2>/dev/null\n",
    "    !pip install highspy >/dev/null 2>/dev/null\n",
    "\n",
    "    from pyomo.contrib import appsi\n",
    "    SOLVER = appsi.solvers.Highs(only_child_vars=False)\n",
    "    \n",
    "else:\n",
    "    from pyomo.environ import SolverFactory\n",
    "    SOLVER = SolverFactory('cbc')\n",
    "\n",
    "assert SOLVER.available(), f\"Solver {SOLVER} is not available.\""
   ]
  },
  {
   "cell_type": "markdown",
   "metadata": {
    "id": "uRtp1E6mSnM2"
   },
   "source": [
    "## Problem description\n",
    "\n",
    "Assume that you are organizing a wedding dinner at which your objective is to have guests from different families mingle with each other. One way to do this is to seat people at tables so that no more people than a given threshold $k$ from the same family sit at the same table. How could we solve a problem like this? \n",
    "\n",
    "First, we need the problem data -- for each family $f$ we need to know the number of its members $m_f$, and for each table $t$ we need to know its capacity $c_t$. Using these data and the tools we have learned so far, we can formulate this problem as a LO problem.\n",
    "\n",
    "If we do not care about the specific people, but only about the number of people in a given family, then we can use variable $x_{ft}$ to determine the number of people in family $f$ who will sit at table $t$. In the problem formulation, we were not given any objective function, since our goal is to find a feasible seating arrangement. For this reason, we can set the objective function to a constant value, say $0$, and, in this way, do not differentiate between the various feasible solutions. \n",
    "\n",
    "The mathematical formulation of this seating problem is:\n",
    "\n",
    "$$\n",
    "\\begin{align*}\n",
    "    \\min \\quad & 0\\\\\n",
    "    \\text{s.t.} \\quad & \\sum\\limits_{f} x_{ft} \\leq c_t & \\forall \\, t \\in T \\\\\n",
    "    & \\sum\\limits_{t} x_{ft} = m_f & \\forall \\, f \\in F \\\\\n",
    "    & 0 \\leq x_{ft} \\leq k.\n",
    "\\end{align*}\n",
    "$$\n",
    "\n",
    "The constraints ensure that the seating capacity for each table is not exceeded, that each family is fully seated, and that the number of elements of each family at each table does not exceed the threshold $k$."
   ]
  },
  {
   "cell_type": "markdown",
   "metadata": {
    "id": "AqUu7i2kxV98"
   },
   "source": [
    "## Implementation\n",
    "\n",
    "The problem statement will be satisfied by finding a feasible solution, if one exists. Because no specific objective has been specified, the mathematical formulation uses a constant 0 as essentially a placeholder for the objective function. Some optimization solvers, however, issue warning messages if they detect a constant objective, and others will fail to execute at all. A simple work around for these cases is to replace the constant objective with a 'dummy' variable that doesn't  appear elsewhere in the optimization problem. "
   ]
  },
  {
   "cell_type": "code",
   "execution_count": 37,
   "metadata": {
    "id": "g3Jo-pwb4ltx"
   },
   "outputs": [],
   "source": [
    "import pyomo.environ as pyo\n",
    "from IPython.display import display\n",
    "import networkx as nx\n",
    "import matplotlib.pyplot as plt\n",
    "import pandas as pd\n",
    "\n",
    "def table_seat(members, capacity, k, domain=pyo.NonNegativeReals):\n",
    "    \n",
    "    m = pyo.ConcreteModel(\"Dina's seat plan\")\n",
    "    \n",
    "    m.F = pyo.Set(initialize=range(len(members)))\n",
    "    m.T = pyo.Set(initialize=range(len(capacity)))\n",
    "    \n",
    "    m.M = pyo.Param(m.F, initialize=members)\n",
    "    m.C = pyo.Param(m.T, initialize=capacity)\n",
    "    \n",
    "    m.x = pyo.Var(m.F, m.T, bounds=(0, k), domain=domain)\n",
    "    m.dummy = pyo.Var(bounds=(0, 1), initialize=0)\n",
    "    \n",
    "    @m.Objective(sense=pyo.minimize)\n",
    "    def goal(m):\n",
    "        return m.dummy\n",
    "\n",
    "    @m.Constraint(m.T)    \n",
    "    def capacity(m, t):\n",
    "        return pyo.quicksum(m.x[f, t] for f in m.F) <= m.C[t]\n",
    "    \n",
    "    @m.Constraint(m.F)\n",
    "    def seat(m, f):\n",
    "        return pyo.quicksum(m.x[f, t] for t in m.T) == m.M[f]\n",
    "        \n",
    "    return m\n",
    "\n",
    "def get_solution(model):\n",
    "    df = pd.DataFrame()\n",
    "    for idx, x in model.x.items():\n",
    "        f, t = idx\n",
    "        df.loc[f, t] = x()\n",
    "    df.index.name = \"family\"\n",
    "    df.columns = [f\"table {i}\" for i in model.T]\n",
    "    return df.round(5)\n",
    "    \n",
    "def report(model, results, type=int):\n",
    "    print(f\"Solver status: {results.solver.status}\")\n",
    "    print(f\"Termination condition: {results.solver.termination_condition}\")\n",
    "    if results.solver.termination_condition == 'optimal':\n",
    "        soln = get_solution(model).astype(type)\n",
    "        display(soln)\n",
    "        print(f'objective:       {pyo.value(seatplan.goal)}')\n",
    "        print(f'places at table: {list(soln.sum(axis=0))}')\n",
    "        print(f'members seated:  {list(soln.sum(axis=1))}')"
   ]
  },
  {
   "cell_type": "markdown",
   "metadata": {},
   "source": [
    "Let us now consider and solve a specific instance of this problem with six families with sizes $m = (6, 8, 2, 9, 13, 1)$, five tables with capacities $c = (8, 8, 10, 4, 9)$, and a threshold $k=3$ for the number of members of each family that can be seated at the same table. "
   ]
  },
  {
   "cell_type": "code",
   "execution_count": 38,
   "metadata": {
    "colab": {
     "base_uri": "https://localhost:8080/",
     "height": 337
    },
    "executionInfo": {
     "elapsed": 293,
     "status": "ok",
     "timestamp": 1623769075200,
     "user": {
      "displayName": "Joaquim Gromicho",
      "photoUrl": "",
      "userId": "14375950305363805729"
     },
     "user_tz": -120
    },
    "id": "glauQ3YqSnM6",
    "outputId": "5d75d95c-4176-4d59-f4fa-4d1d27adbdf4"
   },
   "outputs": [
    {
     "name": "stdout",
     "output_type": "stream",
     "text": [
      "CPU times: user 6.78 ms, sys: 8.16 ms, total: 14.9 ms\n",
      "Wall time: 100 ms\n",
      "Solver status: ok\n",
      "Termination condition: optimal\n"
     ]
    },
    {
     "data": {
      "text/html": [
       "<div>\n",
       "<style scoped>\n",
       "    .dataframe tbody tr th:only-of-type {\n",
       "        vertical-align: middle;\n",
       "    }\n",
       "\n",
       "    .dataframe tbody tr th {\n",
       "        vertical-align: top;\n",
       "    }\n",
       "\n",
       "    .dataframe thead th {\n",
       "        text-align: right;\n",
       "    }\n",
       "</style>\n",
       "<table border=\"1\" class=\"dataframe\">\n",
       "  <thead>\n",
       "    <tr style=\"text-align: right;\">\n",
       "      <th></th>\n",
       "      <th>table 0</th>\n",
       "      <th>table 1</th>\n",
       "      <th>table 2</th>\n",
       "      <th>table 3</th>\n",
       "      <th>table 4</th>\n",
       "    </tr>\n",
       "    <tr>\n",
       "      <th>family</th>\n",
       "      <th></th>\n",
       "      <th></th>\n",
       "      <th></th>\n",
       "      <th></th>\n",
       "      <th></th>\n",
       "    </tr>\n",
       "  </thead>\n",
       "  <tbody>\n",
       "    <tr>\n",
       "      <th>0</th>\n",
       "      <td>2.0</td>\n",
       "      <td>3.0</td>\n",
       "      <td>1.0</td>\n",
       "      <td>0.0</td>\n",
       "      <td>0.0</td>\n",
       "    </tr>\n",
       "    <tr>\n",
       "      <th>1</th>\n",
       "      <td>2.0</td>\n",
       "      <td>0.0</td>\n",
       "      <td>3.0</td>\n",
       "      <td>0.0</td>\n",
       "      <td>3.0</td>\n",
       "    </tr>\n",
       "    <tr>\n",
       "      <th>2</th>\n",
       "      <td>2.0</td>\n",
       "      <td>0.0</td>\n",
       "      <td>0.0</td>\n",
       "      <td>0.0</td>\n",
       "      <td>0.0</td>\n",
       "    </tr>\n",
       "    <tr>\n",
       "      <th>3</th>\n",
       "      <td>0.0</td>\n",
       "      <td>2.0</td>\n",
       "      <td>3.0</td>\n",
       "      <td>1.0</td>\n",
       "      <td>3.0</td>\n",
       "    </tr>\n",
       "    <tr>\n",
       "      <th>4</th>\n",
       "      <td>1.0</td>\n",
       "      <td>3.0</td>\n",
       "      <td>3.0</td>\n",
       "      <td>3.0</td>\n",
       "      <td>3.0</td>\n",
       "    </tr>\n",
       "    <tr>\n",
       "      <th>5</th>\n",
       "      <td>1.0</td>\n",
       "      <td>0.0</td>\n",
       "      <td>0.0</td>\n",
       "      <td>0.0</td>\n",
       "      <td>0.0</td>\n",
       "    </tr>\n",
       "  </tbody>\n",
       "</table>\n",
       "</div>"
      ],
      "text/plain": [
       "        table 0  table 1  table 2  table 3  table 4\n",
       "family                                             \n",
       "0           2.0      3.0      1.0      0.0      0.0\n",
       "1           2.0      0.0      3.0      0.0      3.0\n",
       "2           2.0      0.0      0.0      0.0      0.0\n",
       "3           0.0      2.0      3.0      1.0      3.0\n",
       "4           1.0      3.0      3.0      3.0      3.0\n",
       "5           1.0      0.0      0.0      0.0      0.0"
      ]
     },
     "metadata": {},
     "output_type": "display_data"
    },
    {
     "name": "stdout",
     "output_type": "stream",
     "text": [
      "objective:       0.0\n",
      "places at table: [8.0, 8.0, 10.0, 4.0, 9.0]\n",
      "members seated:  [6.0, 8.0, 2.0, 9.0, 13.0, 1.0]\n"
     ]
    }
   ],
   "source": [
    "seatplan = table_seat(\n",
    "    members=[6, 8, 2, 9, 13, 1], \n",
    "    capacity=[8, 8, 10, 4, 9], \n",
    "    k=3\n",
    ")\n",
    "%time results = SOLVER.solve(seatplan)\n",
    "report(seatplan, results, type=float)"
   ]
  },
  {
   "cell_type": "markdown",
   "metadata": {},
   "source": [
    "A peculiar fact is that although we did not explicitly require that all variables $x_{ft}$ be integer, the optimal solution turned out to be integer anyway. This is no coincidence as it follows from a certain property of the problem we solve. This also means we can solve  larger versions of this problem with LO instead of MILO solvers to find integer solutions, gaining a large computational advantage."
   ]
  },
  {
   "cell_type": "markdown",
   "metadata": {},
   "source": [
    "## Minimize the maximum group size\n",
    "\n",
    "Our objective was that we make members of different families mingle as much as possible. Is $k = 3$ the lowest possible number for which a feasible table allocation exists or can we make the tables even more diverse by bringing this number down?\n",
    "\n",
    "In order to find out, we change the objective function and try to minimize $k$, obtaining the following problem:"
   ]
  },
  {
   "cell_type": "code",
   "execution_count": 39,
   "metadata": {
    "id": "GJxtvN9gS2xW"
   },
   "outputs": [],
   "source": [
    "def table_seat_minimize_max_group_at_table(members, capacity, domain=pyo.NonNegativeReals):\n",
    "    \n",
    "    m   = pyo.ConcreteModel(\"Dina's seat plan\")\n",
    "    \n",
    "    m.F = pyo.Set(initialize=range(len(members)))\n",
    "    m.T = pyo.Set(initialize=range(len(capacity)))\n",
    "    \n",
    "    m.M = pyo.Param(m.F, initialize=members)\n",
    "    m.C = pyo.Param(m.T, initialize=capacity)\n",
    "    \n",
    "    m.x = pyo.Var(m.F, m.T, domain=domain)\n",
    "    m.k = pyo.Var( domain=domain)\n",
    "    \n",
    "    @m.Objective(sense=pyo.minimize)\n",
    "    def goal(m):\n",
    "        return m.k\n",
    "    \n",
    "    @m.Constraint(m.T)    \n",
    "    def capacity(m, t):\n",
    "        return pyo.quicksum(m.x[f,t] for f in m.F  ) <= m.C[t]\n",
    "    \n",
    "    @m.Constraint(m.F)\n",
    "    def seat(m, f):\n",
    "        return pyo.quicksum(m.x[f,t] for t in m.T ) == m.M[f]\n",
    "\n",
    "    @m.Constraint(m.F, m.T)\n",
    "    def bound(m, f, t):\n",
    "        return m.x[f,t] <= m.k\n",
    "\n",
    "    return m"
   ]
  },
  {
   "cell_type": "markdown",
   "metadata": {},
   "source": [
    "We now solve the same instance as before."
   ]
  },
  {
   "cell_type": "code",
   "execution_count": 40,
   "metadata": {
    "colab": {
     "base_uri": "https://localhost:8080/",
     "height": 337
    },
    "executionInfo": {
     "elapsed": 269,
     "status": "ok",
     "timestamp": 1623768701481,
     "user": {
      "displayName": "Joaquim Gromicho",
      "photoUrl": "",
      "userId": "14375950305363805729"
     },
     "user_tz": -120
    },
    "id": "amuwHXmGt_va",
    "outputId": "9056e7b0-1a7e-4017-e31b-ecbffa4a312b"
   },
   "outputs": [
    {
     "name": "stdout",
     "output_type": "stream",
     "text": [
      "CPU times: user 8.45 ms, sys: 8.99 ms, total: 17.4 ms\n",
      "Wall time: 42.7 ms\n",
      "Solver status: ok\n",
      "Termination condition: optimal\n"
     ]
    },
    {
     "data": {
      "text/html": [
       "<div>\n",
       "<style scoped>\n",
       "    .dataframe tbody tr th:only-of-type {\n",
       "        vertical-align: middle;\n",
       "    }\n",
       "\n",
       "    .dataframe tbody tr th {\n",
       "        vertical-align: top;\n",
       "    }\n",
       "\n",
       "    .dataframe thead th {\n",
       "        text-align: right;\n",
       "    }\n",
       "</style>\n",
       "<table border=\"1\" class=\"dataframe\">\n",
       "  <thead>\n",
       "    <tr style=\"text-align: right;\">\n",
       "      <th></th>\n",
       "      <th>table 0</th>\n",
       "      <th>table 1</th>\n",
       "      <th>table 2</th>\n",
       "      <th>table 3</th>\n",
       "      <th>table 4</th>\n",
       "    </tr>\n",
       "    <tr>\n",
       "      <th>family</th>\n",
       "      <th></th>\n",
       "      <th></th>\n",
       "      <th></th>\n",
       "      <th></th>\n",
       "      <th></th>\n",
       "    </tr>\n",
       "  </thead>\n",
       "  <tbody>\n",
       "    <tr>\n",
       "      <th>0</th>\n",
       "      <td>2.6</td>\n",
       "      <td>2.2</td>\n",
       "      <td>0.0</td>\n",
       "      <td>0.0</td>\n",
       "      <td>1.2</td>\n",
       "    </tr>\n",
       "    <tr>\n",
       "      <th>1</th>\n",
       "      <td>1.0</td>\n",
       "      <td>2.6</td>\n",
       "      <td>1.8</td>\n",
       "      <td>0.0</td>\n",
       "      <td>2.6</td>\n",
       "    </tr>\n",
       "    <tr>\n",
       "      <th>2</th>\n",
       "      <td>0.0</td>\n",
       "      <td>0.0</td>\n",
       "      <td>2.0</td>\n",
       "      <td>0.0</td>\n",
       "      <td>0.0</td>\n",
       "    </tr>\n",
       "    <tr>\n",
       "      <th>3</th>\n",
       "      <td>1.8</td>\n",
       "      <td>0.6</td>\n",
       "      <td>2.6</td>\n",
       "      <td>1.4</td>\n",
       "      <td>2.6</td>\n",
       "    </tr>\n",
       "    <tr>\n",
       "      <th>4</th>\n",
       "      <td>2.6</td>\n",
       "      <td>2.6</td>\n",
       "      <td>2.6</td>\n",
       "      <td>2.6</td>\n",
       "      <td>2.6</td>\n",
       "    </tr>\n",
       "    <tr>\n",
       "      <th>5</th>\n",
       "      <td>0.0</td>\n",
       "      <td>0.0</td>\n",
       "      <td>1.0</td>\n",
       "      <td>0.0</td>\n",
       "      <td>0.0</td>\n",
       "    </tr>\n",
       "  </tbody>\n",
       "</table>\n",
       "</div>"
      ],
      "text/plain": [
       "        table 0  table 1  table 2  table 3  table 4\n",
       "family                                             \n",
       "0           2.6      2.2      0.0      0.0      1.2\n",
       "1           1.0      2.6      1.8      0.0      2.6\n",
       "2           0.0      0.0      2.0      0.0      0.0\n",
       "3           1.8      0.6      2.6      1.4      2.6\n",
       "4           2.6      2.6      2.6      2.6      2.6\n",
       "5           0.0      0.0      1.0      0.0      0.0"
      ]
     },
     "metadata": {},
     "output_type": "display_data"
    },
    {
     "name": "stdout",
     "output_type": "stream",
     "text": [
      "objective:       2.6\n",
      "places at table: [8.0, 8.0, 10.0, 4.0, 9.0]\n",
      "members seated:  [6.000000000000001, 8.0, 2.0, 9.0, 13.0, 1.0]\n"
     ]
    }
   ],
   "source": [
    "seatplan = table_seat_minimize_max_group_at_table(\n",
    "    members=[6, 8, 2, 9, 13, 1], \n",
    "    capacity=[8, 8, 10, 4, 9], \n",
    "    domain=pyo.NonNegativeReals \n",
    ")\n",
    "%time results = SOLVER.solve(seatplan)\n",
    "report(seatplan, results, type=float)"
   ]
  },
  {
   "cell_type": "markdown",
   "metadata": {},
   "source": [
    "Unfortunately, this solution is no longer integer. Mathematically, this is because the \"structure\" that previously ensured integer solutions at no extra cost has been lost as a result of making $k$ a decision variable. To find the solution to this problem we need to impose that the variables are integers.\n",
    "\n",
    "Using an MILO solver such as `cbc` or `highs`, we recover the original optimal value $k = 3$."
   ]
  },
  {
   "cell_type": "code",
   "execution_count": 41,
   "metadata": {
    "colab": {
     "base_uri": "https://localhost:8080/",
     "height": 337
    },
    "executionInfo": {
     "elapsed": 264,
     "status": "ok",
     "timestamp": 1623769068597,
     "user": {
      "displayName": "Joaquim Gromicho",
      "photoUrl": "",
      "userId": "14375950305363805729"
     },
     "user_tz": -120
    },
    "id": "ouJSU34n38KF",
    "outputId": "7e40163d-ddd3-4a07-9009-fd40d68b52c0"
   },
   "outputs": [
    {
     "name": "stdout",
     "output_type": "stream",
     "text": [
      "CPU times: user 8.39 ms, sys: 8.11 ms, total: 16.5 ms\n",
      "Wall time: 57.9 ms\n",
      "Solver status: ok\n",
      "Termination condition: optimal\n"
     ]
    },
    {
     "data": {
      "text/html": [
       "<div>\n",
       "<style scoped>\n",
       "    .dataframe tbody tr th:only-of-type {\n",
       "        vertical-align: middle;\n",
       "    }\n",
       "\n",
       "    .dataframe tbody tr th {\n",
       "        vertical-align: top;\n",
       "    }\n",
       "\n",
       "    .dataframe thead th {\n",
       "        text-align: right;\n",
       "    }\n",
       "</style>\n",
       "<table border=\"1\" class=\"dataframe\">\n",
       "  <thead>\n",
       "    <tr style=\"text-align: right;\">\n",
       "      <th></th>\n",
       "      <th>table 0</th>\n",
       "      <th>table 1</th>\n",
       "      <th>table 2</th>\n",
       "      <th>table 3</th>\n",
       "      <th>table 4</th>\n",
       "    </tr>\n",
       "    <tr>\n",
       "      <th>family</th>\n",
       "      <th></th>\n",
       "      <th></th>\n",
       "      <th></th>\n",
       "      <th></th>\n",
       "      <th></th>\n",
       "    </tr>\n",
       "  </thead>\n",
       "  <tbody>\n",
       "    <tr>\n",
       "      <th>0</th>\n",
       "      <td>2</td>\n",
       "      <td>2</td>\n",
       "      <td>0</td>\n",
       "      <td>0</td>\n",
       "      <td>2</td>\n",
       "    </tr>\n",
       "    <tr>\n",
       "      <th>1</th>\n",
       "      <td>1</td>\n",
       "      <td>3</td>\n",
       "      <td>2</td>\n",
       "      <td>0</td>\n",
       "      <td>2</td>\n",
       "    </tr>\n",
       "    <tr>\n",
       "      <th>2</th>\n",
       "      <td>0</td>\n",
       "      <td>0</td>\n",
       "      <td>2</td>\n",
       "      <td>0</td>\n",
       "      <td>0</td>\n",
       "    </tr>\n",
       "    <tr>\n",
       "      <th>3</th>\n",
       "      <td>2</td>\n",
       "      <td>2</td>\n",
       "      <td>2</td>\n",
       "      <td>1</td>\n",
       "      <td>2</td>\n",
       "    </tr>\n",
       "    <tr>\n",
       "      <th>4</th>\n",
       "      <td>3</td>\n",
       "      <td>1</td>\n",
       "      <td>3</td>\n",
       "      <td>3</td>\n",
       "      <td>3</td>\n",
       "    </tr>\n",
       "    <tr>\n",
       "      <th>5</th>\n",
       "      <td>0</td>\n",
       "      <td>0</td>\n",
       "      <td>1</td>\n",
       "      <td>0</td>\n",
       "      <td>0</td>\n",
       "    </tr>\n",
       "  </tbody>\n",
       "</table>\n",
       "</div>"
      ],
      "text/plain": [
       "        table 0  table 1  table 2  table 3  table 4\n",
       "family                                             \n",
       "0             2        2        0        0        2\n",
       "1             1        3        2        0        2\n",
       "2             0        0        2        0        0\n",
       "3             2        2        2        1        2\n",
       "4             3        1        3        3        3\n",
       "5             0        0        1        0        0"
      ]
     },
     "metadata": {},
     "output_type": "display_data"
    },
    {
     "name": "stdout",
     "output_type": "stream",
     "text": [
      "objective:       3.0\n",
      "places at table: [8, 8, 10, 4, 9]\n",
      "members seated:  [6, 8, 2, 9, 13, 1]\n"
     ]
    }
   ],
   "source": [
    "seatplan = table_seat_minimize_max_group_at_table(\n",
    "    members=[6, 8, 2, 9, 13, 1], \n",
    "    capacity=[8, 8, 10, 4, 9], \n",
    "    domain=pyo.NonNegativeIntegers\n",
    ")\n",
    "%time results = SOLVER.solve(seatplan)\n",
    "report(seatplan, results, type=int)"
   ]
  },
  {
   "cell_type": "markdown",
   "metadata": {},
   "source": [
    "## Minimize number of tables"
   ]
  },
  {
   "cell_type": "code",
   "execution_count": 42,
   "metadata": {
    "id": "9mHD-wjuuLg2"
   },
   "outputs": [],
   "source": [
    "def table_seat_minimize_number_of_tables(members, capacity, k, domain=pyo.NonNegativeReals):\n",
    "    m   = pyo.ConcreteModel(\"Dina's seat plan\")\n",
    "    m.F = pyo.Set(initialize=range(len(members)))\n",
    "    m.T = pyo.Set(initialize=range(len(capacity)))\n",
    "    m.M = pyo.Param(m.F, initialize=members)\n",
    "    m.C = pyo.Param(m.T, initialize=capacity)\n",
    "    m.x = pyo.Var(m.F, m.T, bounds=(0,k), domain=domain)\n",
    "    m.y = pyo.Var(m.T, domain=pyo.Binary)\n",
    "    \n",
    "    @m.Objective(sense=pyo.minimize)\n",
    "    def goal(m):\n",
    "        return pyo.quicksum(m.y[t] for t in m.T)\n",
    "    \n",
    "    @m.Constraint(m.T)    \n",
    "    def capacity(m, t):\n",
    "        return pyo.quicksum(m.x[f,t] for f in m.F  ) <= m.C[t]*m.y[t]\n",
    "    \n",
    "    @m.Constraint(m.F)\n",
    "    def seat(m, f):\n",
    "        return pyo.quicksum(m.x[f,t] for t in m.T) == m.M[f]\n",
    "\n",
    "    return m"
   ]
  },
  {
   "cell_type": "code",
   "execution_count": 43,
   "metadata": {},
   "outputs": [
    {
     "name": "stdout",
     "output_type": "stream",
     "text": [
      "CPU times: user 8.46 ms, sys: 9.26 ms, total: 17.7 ms\n",
      "Wall time: 46.3 ms\n",
      "Solver status: ok\n",
      "Termination condition: optimal\n"
     ]
    },
    {
     "data": {
      "text/html": [
       "<div>\n",
       "<style scoped>\n",
       "    .dataframe tbody tr th:only-of-type {\n",
       "        vertical-align: middle;\n",
       "    }\n",
       "\n",
       "    .dataframe tbody tr th {\n",
       "        vertical-align: top;\n",
       "    }\n",
       "\n",
       "    .dataframe thead th {\n",
       "        text-align: right;\n",
       "    }\n",
       "</style>\n",
       "<table border=\"1\" class=\"dataframe\">\n",
       "  <thead>\n",
       "    <tr style=\"text-align: right;\">\n",
       "      <th></th>\n",
       "      <th>table 0</th>\n",
       "      <th>table 1</th>\n",
       "      <th>table 2</th>\n",
       "      <th>table 3</th>\n",
       "      <th>table 4</th>\n",
       "    </tr>\n",
       "    <tr>\n",
       "      <th>family</th>\n",
       "      <th></th>\n",
       "      <th></th>\n",
       "      <th></th>\n",
       "      <th></th>\n",
       "      <th></th>\n",
       "    </tr>\n",
       "  </thead>\n",
       "  <tbody>\n",
       "    <tr>\n",
       "      <th>0</th>\n",
       "      <td>3</td>\n",
       "      <td>0</td>\n",
       "      <td>3</td>\n",
       "      <td>0</td>\n",
       "      <td>0</td>\n",
       "    </tr>\n",
       "    <tr>\n",
       "      <th>1</th>\n",
       "      <td>3</td>\n",
       "      <td>2</td>\n",
       "      <td>0</td>\n",
       "      <td>0</td>\n",
       "      <td>3</td>\n",
       "    </tr>\n",
       "    <tr>\n",
       "      <th>2</th>\n",
       "      <td>0</td>\n",
       "      <td>0</td>\n",
       "      <td>1</td>\n",
       "      <td>1</td>\n",
       "      <td>0</td>\n",
       "    </tr>\n",
       "    <tr>\n",
       "      <th>3</th>\n",
       "      <td>0</td>\n",
       "      <td>3</td>\n",
       "      <td>3</td>\n",
       "      <td>0</td>\n",
       "      <td>3</td>\n",
       "    </tr>\n",
       "    <tr>\n",
       "      <th>4</th>\n",
       "      <td>1</td>\n",
       "      <td>3</td>\n",
       "      <td>3</td>\n",
       "      <td>3</td>\n",
       "      <td>3</td>\n",
       "    </tr>\n",
       "    <tr>\n",
       "      <th>5</th>\n",
       "      <td>1</td>\n",
       "      <td>0</td>\n",
       "      <td>0</td>\n",
       "      <td>0</td>\n",
       "      <td>0</td>\n",
       "    </tr>\n",
       "  </tbody>\n",
       "</table>\n",
       "</div>"
      ],
      "text/plain": [
       "        table 0  table 1  table 2  table 3  table 4\n",
       "family                                             \n",
       "0             3        0        3        0        0\n",
       "1             3        2        0        0        3\n",
       "2             0        0        1        1        0\n",
       "3             0        3        3        0        3\n",
       "4             1        3        3        3        3\n",
       "5             1        0        0        0        0"
      ]
     },
     "metadata": {},
     "output_type": "display_data"
    },
    {
     "name": "stdout",
     "output_type": "stream",
     "text": [
      "objective:       5.0\n",
      "places at table: [8, 8, 10, 4, 9]\n",
      "members seated:  [6, 8, 2, 9, 13, 1]\n"
     ]
    }
   ],
   "source": [
    "seatplan = table_seat_minimize_number_of_tables(\n",
    "    members=[6, 8, 2, 9, 13, 1], \n",
    "    capacity=[8, 8, 10, 4, 9], \n",
    "    k=3, \n",
    "    domain=pyo.NonNegativeIntegers\n",
    ")\n",
    "%time results = SOLVER.solve(seatplan)\n",
    "report(seatplan, results, type=int)"
   ]
  },
  {
   "cell_type": "markdown",
   "metadata": {
    "id": "5klBA6ebVDf3"
   },
   "source": [
    "# Reformulation as max flow problem"
   ]
  },
  {
   "cell_type": "markdown",
   "metadata": {},
   "source": [
    "However, using an MILO solver is not necessarily the best approach for problems like this. Many real-life situations (assigning people to work/course groups) require solving really large problems.  There are existing algorithms that can leverage the special **network structure** of the problem at hand and scale better than LO solvers. To see this we can visualize the seating problem using a graph where:\n",
    "\n",
    "* the nodes on the left-hand side stand for the families and the numbers next to them provide the family size\n",
    "* the nodes on the left-hand side stand for the tables and the numbers next to them provide the table size\n",
    "* each left-to-right arrow stand comes with a number denoting the capacity of arc $(f, t)$ -- how many people of family $f$ can be assigned to table $t$.\n",
    "\n",
    "![](dina_model_basic.png)"
   ]
  },
  {
   "cell_type": "markdown",
   "metadata": {},
   "source": [
    "If we see each family as a place of supply (people) and tables as places of demand (people), then we can see our original problem as literally sending people from families $f$ to tables $t$ so that everyone is assigned to some table, the tables' capacities are respected, and no table gets more than $k = 3$ members of the same family.\n",
    "\n",
    "A Pyomo version of this model is given in the next cell. After that we will show how to reformulate the calculation using network algorithms."
   ]
  },
  {
   "cell_type": "code",
   "execution_count": 44,
   "metadata": {},
   "outputs": [
    {
     "name": "stdout",
     "output_type": "stream",
     "text": [
      "CPU times: user 7.69 ms, sys: 8.7 ms, total: 16.4 ms\n",
      "Wall time: 47.7 ms\n",
      "Solver status: ok\n",
      "Termination condition: optimal\n"
     ]
    },
    {
     "data": {
      "text/html": [
       "<div>\n",
       "<style scoped>\n",
       "    .dataframe tbody tr th:only-of-type {\n",
       "        vertical-align: middle;\n",
       "    }\n",
       "\n",
       "    .dataframe tbody tr th {\n",
       "        vertical-align: top;\n",
       "    }\n",
       "\n",
       "    .dataframe thead th {\n",
       "        text-align: right;\n",
       "    }\n",
       "</style>\n",
       "<table border=\"1\" class=\"dataframe\">\n",
       "  <thead>\n",
       "    <tr style=\"text-align: right;\">\n",
       "      <th></th>\n",
       "      <th>table 0</th>\n",
       "      <th>table 1</th>\n",
       "      <th>table 2</th>\n",
       "      <th>table 3</th>\n",
       "      <th>table 4</th>\n",
       "    </tr>\n",
       "    <tr>\n",
       "      <th>family</th>\n",
       "      <th></th>\n",
       "      <th></th>\n",
       "      <th></th>\n",
       "      <th></th>\n",
       "      <th></th>\n",
       "    </tr>\n",
       "  </thead>\n",
       "  <tbody>\n",
       "    <tr>\n",
       "      <th>0</th>\n",
       "      <td>1</td>\n",
       "      <td>2</td>\n",
       "      <td>1</td>\n",
       "      <td>0</td>\n",
       "      <td>2</td>\n",
       "    </tr>\n",
       "    <tr>\n",
       "      <th>1</th>\n",
       "      <td>1</td>\n",
       "      <td>3</td>\n",
       "      <td>0</td>\n",
       "      <td>1</td>\n",
       "      <td>3</td>\n",
       "    </tr>\n",
       "    <tr>\n",
       "      <th>2</th>\n",
       "      <td>0</td>\n",
       "      <td>0</td>\n",
       "      <td>2</td>\n",
       "      <td>0</td>\n",
       "      <td>0</td>\n",
       "    </tr>\n",
       "    <tr>\n",
       "      <th>3</th>\n",
       "      <td>3</td>\n",
       "      <td>0</td>\n",
       "      <td>3</td>\n",
       "      <td>0</td>\n",
       "      <td>3</td>\n",
       "    </tr>\n",
       "    <tr>\n",
       "      <th>4</th>\n",
       "      <td>3</td>\n",
       "      <td>3</td>\n",
       "      <td>3</td>\n",
       "      <td>3</td>\n",
       "      <td>1</td>\n",
       "    </tr>\n",
       "    <tr>\n",
       "      <th>5</th>\n",
       "      <td>0</td>\n",
       "      <td>0</td>\n",
       "      <td>1</td>\n",
       "      <td>0</td>\n",
       "      <td>0</td>\n",
       "    </tr>\n",
       "  </tbody>\n",
       "</table>\n",
       "</div>"
      ],
      "text/plain": [
       "        table 0  table 1  table 2  table 3  table 4\n",
       "family                                             \n",
       "0             1        2        1        0        2\n",
       "1             1        3        0        1        3\n",
       "2             0        0        2        0        0\n",
       "3             3        0        3        0        3\n",
       "4             3        3        3        3        1\n",
       "5             0        0        1        0        0"
      ]
     },
     "metadata": {},
     "output_type": "display_data"
    },
    {
     "name": "stdout",
     "output_type": "stream",
     "text": [
      "objective:       39.0\n",
      "places at table: [8, 8, 10, 4, 9]\n",
      "members seated:  [6, 8, 2, 9, 13, 1]\n"
     ]
    }
   ],
   "source": [
    "def table_seat_maximize_members_flow_to_tables(members, capacity, k, domain=pyo.NonNegativeReals):\n",
    "    m   = pyo.ConcreteModel(\"Dina's seat plan\")\n",
    "    m.F = pyo.Set(initialize=range(len(members)))\n",
    "    m.T = pyo.Set(initialize=range(len(capacity)))\n",
    "    m.M = pyo.Param(m.F, initialize=members)\n",
    "    m.C = pyo.Param( m.T, initialize=capacity)\n",
    "    m.x = pyo.Var(m.F, m.T, bounds=(0, k), domain=domain)\n",
    "    \n",
    "    @m.Objective(sense=pyo.maximize)\n",
    "    def goal(m):\n",
    "        return pyo.quicksum(m.x[f, t] for f in m.F for t in m.T)\n",
    "    \n",
    "    @m.Constraint(m.T)    \n",
    "    def capacity(m, t):\n",
    "        return pyo.quicksum(m.x[f,t] for f in m.F  ) <= m.C[t]\n",
    "    \n",
    "    @m.Constraint(m.F)\n",
    "    def seat(m, f):\n",
    "        return pyo.quicksum(m.x[f,t] for t in m.T ) == m.M[f]\n",
    "\n",
    "    return m\n",
    "\n",
    "seatplan = table_seat_maximize_members_flow_to_tables(\n",
    "    members=[6, 8, 2, 9, 13, 1], \n",
    "    capacity=[8, 8, 10, 4, 9], \n",
    "    k=3, \n",
    "    domain=pyo.NonNegativeIntegers\n",
    ")\n",
    "%time results = SOLVER.solve(seatplan)\n",
    "report(seatplan, results, type=int)"
   ]
  },
  {
   "cell_type": "markdown",
   "metadata": {},
   "source": [
    "By adding two more nodes to the graph above, we can formulate the problem as a slightly different flow problem where all the data is formulated as the arc capacity, see figure below. In a network like this, we can imagine a problem of sending resources from the _root node_ \"door\" to the _sink node_ \"seat\", subject to the restriction that for any node apart from $s$ and $t$, the sum of incoming and outgoing flows are equal (_balance constraint_). If there exists a flow in this new graph that respects the arc capacities and the sum of outgoing flows at $s$ is equal to $\\sum_{f \\in F} m_f = 39$, it means that there exists a family-to-table assignment that meets our requirements.\n",
    "\n",
    "![](dina_model.png)"
   ]
  },
  {
   "cell_type": "code",
   "execution_count": 9,
   "metadata": {
    "id": "aSJ7UOokVfnu"
   },
   "outputs": [],
   "source": [
    "def model_as_network(members, capacity, k):\n",
    "    \n",
    "    # create lists of families and tables\n",
    "    families = [f'f{i}' for i in range(len(members))]\n",
    "    tables = [f't{j}' for j in range(len(capacity))]\n",
    "    \n",
    "    # create digraphy object\n",
    "    G = nx.DiGraph()\n",
    "    \n",
    "    # add edges\n",
    "    G.add_edges_from(['door', f, {'capacity': n}] for f, n in zip(families, members))\n",
    "    G.add_edges_from([(f, t) for f in families for t in tables], capacity=k)\n",
    "    G.add_edges_from([t, 'seat', {'capacity': n}] for t, n in zip(tables, capacity))\n",
    "\n",
    "    return G"
   ]
  },
  {
   "cell_type": "code",
   "execution_count": 10,
   "metadata": {},
   "outputs": [],
   "source": [
    "members = [6, 8, 2, 9, 13, 1]\n",
    "capacity = [8, 8, 10, 4, 9]\n",
    "\n",
    "G = model_as_network(members, capacity=[8, 8, 10, 4, 9], k=3)\n",
    "\n",
    "labels = {(e[0], e[1]) : e[2] for e in G.edges(data='capacity')}"
   ]
  },
  {
   "cell_type": "code",
   "execution_count": 11,
   "metadata": {
    "id": "vRHT74fEV6KX"
   },
   "outputs": [
    {
     "name": "stdout",
     "output_type": "stream",
     "text": [
      "CPU times: user 1.03 ms, sys: 53 µs, total: 1.09 ms\n",
      "Wall time: 1.09 ms\n"
     ]
    }
   ],
   "source": [
    "%time flow_value, flow_dict = nx.maximum_flow(G, 'door', 'seat')"
   ]
  },
  {
   "cell_type": "code",
   "execution_count": 52,
   "metadata": {
    "colab": {
     "base_uri": "https://localhost:8080/",
     "height": 206
    },
    "executionInfo": {
     "elapsed": 214,
     "status": "ok",
     "timestamp": 1643283766270,
     "user": {
      "displayName": "Joaquim Gromicho",
      "photoUrl": "https://lh3.googleusercontent.com/a/default-user=s64",
      "userId": "14375950305363805729"
     },
     "user_tz": -60
    },
    "id": "JL9vgcULV-TG",
    "outputId": "15de4861-1a77-485e-e91f-c03f8d55a917",
    "tags": []
   },
   "outputs": [
    {
     "data": {
      "text/html": [
       "<div>\n",
       "<style scoped>\n",
       "    .dataframe tbody tr th:only-of-type {\n",
       "        vertical-align: middle;\n",
       "    }\n",
       "\n",
       "    .dataframe tbody tr th {\n",
       "        vertical-align: top;\n",
       "    }\n",
       "\n",
       "    .dataframe thead th {\n",
       "        text-align: right;\n",
       "    }\n",
       "</style>\n",
       "<table border=\"1\" class=\"dataframe\">\n",
       "  <thead>\n",
       "    <tr style=\"text-align: right;\">\n",
       "      <th></th>\n",
       "      <th>f0</th>\n",
       "      <th>f1</th>\n",
       "      <th>f2</th>\n",
       "      <th>f3</th>\n",
       "      <th>f4</th>\n",
       "      <th>f5</th>\n",
       "    </tr>\n",
       "  </thead>\n",
       "  <tbody>\n",
       "    <tr>\n",
       "      <th>t0</th>\n",
       "      <td>1</td>\n",
       "      <td>0</td>\n",
       "      <td>0</td>\n",
       "      <td>3</td>\n",
       "      <td>3</td>\n",
       "      <td>1</td>\n",
       "    </tr>\n",
       "    <tr>\n",
       "      <th>t1</th>\n",
       "      <td>0</td>\n",
       "      <td>2</td>\n",
       "      <td>0</td>\n",
       "      <td>3</td>\n",
       "      <td>3</td>\n",
       "      <td>0</td>\n",
       "    </tr>\n",
       "    <tr>\n",
       "      <th>t2</th>\n",
       "      <td>1</td>\n",
       "      <td>3</td>\n",
       "      <td>0</td>\n",
       "      <td>3</td>\n",
       "      <td>3</td>\n",
       "      <td>0</td>\n",
       "    </tr>\n",
       "    <tr>\n",
       "      <th>t3</th>\n",
       "      <td>1</td>\n",
       "      <td>0</td>\n",
       "      <td>0</td>\n",
       "      <td>0</td>\n",
       "      <td>3</td>\n",
       "      <td>0</td>\n",
       "    </tr>\n",
       "    <tr>\n",
       "      <th>t4</th>\n",
       "      <td>3</td>\n",
       "      <td>3</td>\n",
       "      <td>2</td>\n",
       "      <td>0</td>\n",
       "      <td>1</td>\n",
       "      <td>0</td>\n",
       "    </tr>\n",
       "  </tbody>\n",
       "</table>\n",
       "</div>"
      ],
      "text/plain": [
       "    f0  f1  f2  f3  f4  f5\n",
       "t0   1   0   0   3   3   1\n",
       "t1   0   2   0   3   3   0\n",
       "t2   1   3   0   3   3   0\n",
       "t3   1   0   0   0   3   0\n",
       "t4   3   3   2   0   1   0"
      ]
     },
     "execution_count": 52,
     "metadata": {},
     "output_type": "execute_result"
    }
   ],
   "source": [
    "families = [f'f{i:.0f}' for i in range(len(members))]\n",
    "tables = [f't{j:.0f}' for j in range(len(capacity))]\n",
    "\n",
    "pd.DataFrame(flow_dict).loc[tables, families].astype('int')"
   ]
  },
  {
   "cell_type": "markdown",
   "metadata": {},
   "source": [
    "Even for this very small example, we see that network algorithms generate a solution significantly faster."
   ]
  },
  {
   "cell_type": "code",
   "execution_count": null,
   "metadata": {},
   "outputs": [],
   "source": []
  }
 ],
 "metadata": {
  "kernelspec": {
   "display_name": "Python 3 (ipykernel)",
   "language": "python",
   "name": "python3"
  },
  "language_info": {
   "codemirror_mode": {
    "name": "ipython",
    "version": 3
   },
   "file_extension": ".py",
   "mimetype": "text/x-python",
   "name": "python",
   "nbconvert_exporter": "python",
   "pygments_lexer": "ipython3",
   "version": "3.9.16"
  }
 },
 "nbformat": 4,
 "nbformat_minor": 4
}
