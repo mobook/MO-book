{
 "cells": [
  {
   "cell_type": "markdown",
   "id": "229dff1b-612f-46a6-8ae8-9c7581cb1782",
   "metadata": {},
   "source": [
    "# Production model using disjunctions"
   ]
  },
  {
   "cell_type": "markdown",
   "id": "8ff16b30-ee4f-47f5-bafe-b5e93f8f03ed",
   "metadata": {
    "tags": []
   },
   "source": [
    "## Preamble: Install Pyomo and a solver\n",
    "\n",
    "This cell selects and verifies a global SOLVER for the notebook.\n",
    "\n",
    "If run on Google Colab, the cell installs Pyomo and HiGHS, then sets SOLVER to \n",
    "use the Highs solver via the appsi module. If run elsewhere, it assumes Pyomo and CBC\n",
    "have been previously installed and sets SOLVER to use the CBC solver via the Pyomo \n",
    "SolverFactory. It then verifies that SOLVER is available."
   ]
  },
  {
   "cell_type": "code",
   "execution_count": 1,
   "id": "79b4873b-9185-4b55-bc1e-4ebb8933abf3",
   "metadata": {
    "colab": {
     "base_uri": "https://localhost:8080/"
    },
    "id": "5ssUqKOaPVaE",
    "outputId": "38c1005a-39f4-4307-e305-19a4c9819396"
   },
   "outputs": [],
   "source": [
    "import sys\n",
    "\n",
    "if 'google.colab' in sys.modules:\n",
    "    !pip install pyomo >/dev/null 2>/dev/null\n",
    "    !pip install highspy >/dev/null 2>/dev/null\n",
    "\n",
    "    from pyomo.contrib import appsi\n",
    "    SOLVER = appsi.solvers.Highs(only_child_vars=False)\n",
    "    \n",
    "else:\n",
    "    from pyomo.environ import SolverFactory\n",
    "    SOLVER = SolverFactory('cbc')\n",
    "\n",
    "assert SOLVER.available(), f\"Solver {SOLVER} is not available.\""
   ]
  },
  {
   "cell_type": "markdown",
   "id": "cf9db689-23e6-4d6d-8dd3-68149c42301c",
   "metadata": {},
   "source": [
    "## Disjunctions\n",
    "\n",
    "Disjunctions appear in applications where there is choice among discrete alternatives. Given two logical propositions $\\alpha$ and $\\beta$, the \"or\" disjunction is denoted by $\\vee$ and defined by the truth table\n",
    "\n",
    "| $\\alpha$ | $\\beta$ | $\\alpha \\vee \\beta$ |\n",
    "| :-: | :-: | :-: |\n",
    "| False | False | False |\n",
    "| True | False | True |\n",
    "| False | True | True |\n",
    "| True | True | True |\n",
    "\n",
    "The \"exclusive or\" is denoted by $\\veebar$ and defined by the truth table\n",
    "\n",
    "| $\\alpha$ | $\\beta$ | $\\alpha \\veebar \\beta$ |\n",
    "| :-: | :-: | :-: |\n",
    "| False | False | False |\n",
    "| True | False | True |\n",
    "| False | True | True |\n",
    "| True | True | False |\n",
    "\n",
    "This notebook shows how to express disjunctions in Pyomo models using the Generalized Disjunctive Programming (GDP) extension for a simple production model.\n"
   ]
  },
  {
   "cell_type": "markdown",
   "id": "c1e98d83-34eb-45a4-a6e6-5eb733f80fcc",
   "metadata": {
    "tags": []
   },
   "source": [
    "## Multi-product factory optimization\n",
    "\n",
    "A small production facility produces two products, $X$ and $Y$. With current technology $\\alpha$, the facility is subject to the following conditions and constraints:\n",
    "\n",
    "* Product $X$ requires 1 hour of labor A, 2 hours of labor B, and 100€ of raw material. Product $X$ sells for 270€ per unit. The daily demand is limited to 40 units.\n",
    "\n",
    "* Product $Y$ requires 1 hour of labor A, 1 hour of labor B, and 90€ of raw material. Product $Y$ sells for 210€ per unit with unlimited demand. \n",
    "\n",
    "* There are 80 hours per day of labor A available at a cost of 50€/hour.\n",
    "\n",
    "* There are 100 hours per day of labor B available at a cost of 40€/hour.\n",
    "\n",
    "Using the given data we see that the net profit for each unit of $X$ and $Y$ is 40€ and 30€, respectively. The optimal product strategy is the solution to a linear optimization\n",
    "\n",
    "$$\n",
    "\\begin{align*}\n",
    "\\max_{x, y \\geq 0} \\quad & \\text{profit}\\\\\n",
    "\\text{s.t.} \\quad \n",
    "& \\text{profit}  = 40 x + 30 y\\\\\n",
    "& x  \\leq 40 & \\text{(demand)}\\\\\n",
    "& x + y  \\leq 80 & \\text{(labor A)} \\\\\n",
    "& 2 x + y  \\leq 100 & \\text{(labor B)}\n",
    "\\end{align*}\n",
    "$$\n"
   ]
  },
  {
   "cell_type": "code",
   "execution_count": 2,
   "id": "0291f0fe-a9f6-4427-900a-70bd0e5ac916",
   "metadata": {},
   "outputs": [
    {
     "name": "stdout",
     "output_type": "stream",
     "text": [
      "Profit = 2600.00 €\n",
      "Production X = 20.0\n",
      "Production Y = 60.0\n"
     ]
    }
   ],
   "source": [
    "import pyomo.environ as pyo\n",
    "\n",
    "m = pyo.ConcreteModel(\"Multi-Product Factory\")\n",
    "\n",
    "# decision variables\n",
    "m.profit = pyo.Var()\n",
    "m.production_x = pyo.Var(domain=pyo.NonNegativeReals)\n",
    "m.production_y = pyo.Var(domain=pyo.NonNegativeReals)\n",
    "\n",
    "# profit objective\n",
    "@m.Objective(sense=pyo.maximize)\n",
    "def maximize_profit(model):\n",
    "    return  m.profit\n",
    "\n",
    "# constraints\n",
    "@m.Constraint()\n",
    "def profit_expr(model):\n",
    "    return m.profit == 40*m.production_x + 30*m.production_y\n",
    "\n",
    "@m.Constraint()\n",
    "def demand(model):\n",
    "    return m.production_x <= 40\n",
    "\n",
    "@m.Constraint()\n",
    "def laborA(model):\n",
    "    return m.production_x + m.production_y <= 80\n",
    "\n",
    "@m.Constraint()\n",
    "def laborB(model):\n",
    "    return 2*m.production_x + m.production_y <= 100\n",
    "\n",
    "SOLVER.solve(m)\n",
    "\n",
    "print(f\"Profit = {m.profit():.2f} €\")\n",
    "print(f\"Production X = {m.production_x()}\")\n",
    "print(f\"Production Y = {m.production_y()}\")"
   ]
  },
  {
   "cell_type": "markdown",
   "id": "017223c6-7b4d-42c3-8af3-64e6586594a2",
   "metadata": {},
   "source": [
    "Now suppose a new technology $\\beta$ is available that affects that lowers the cost of product $X$. With the new technology, only 1.5 hours of labor B is required per unit of $X$.\n",
    "\n",
    "The net profit for unit of product $X$ with technology $\\alpha$ is equal to $270 - 100 - 50 - 2 \\cdot 40 = 40$€\n",
    "\n",
    "The net profit for unit of product $X$ with technology $\\beta$ is equal to $270 - 100 - 50 - 1.5 \\cdot 40 = 60$€\n",
    "\n",
    "The decision here is whether to use technology $\\alpha$ or $\\beta$. There are several commonly used techniques for embedding disjunctions into mixed-integer linear optimization problems. The \"big-M\" technique introduces a binary decision variable for every exclusive-or disjunction between two constraints. "
   ]
  },
  {
   "cell_type": "markdown",
   "id": "3a4f3501-72d0-4908-b95c-1b4c373abc59",
   "metadata": {},
   "source": [
    "## MILO implementation\n",
    "\n",
    "We can formulate this problem as the following mixed-integer linear optimization (MILO) problem:\n",
    "\n",
    "$$\n",
    "\\begin{align*}\n",
    "    \\max_{x, y \\geq 0, z \\in \\mathbb{B}} \\quad & \\text{profit}\\\\\n",
    "    \\text{s.t.} \\quad \n",
    "    & x  \\leq 40 & \\text{(demand)}\\\\\n",
    "    & x + y  \\leq 80 & \\text{(labor A)} \\\\\n",
    "    & \\text{profit} \\leq 40x + 30y + M z \\\\\n",
    "    & \\text{profit} \\leq 60x + 30y + M (1 - z) \\\\\n",
    "    & 2 x + y \\leq 100  + M z \\\\ \n",
    "    & 1.5 x + y \\leq 100 + M (1 - z).\n",
    "\\end{align*}\n",
    "$$\n",
    "\n",
    "where the variable $z \\in \\{ 0, 1\\}$ \"activates\" the constraints related to the old or new technology, respectively, and $M$ is a big enough number. The corresponding Pyomo implementation is given by:"
   ]
  },
  {
   "cell_type": "code",
   "execution_count": 3,
   "id": "5e9a7dc7-d427-4f85-b0de-bb7e6db4af8d",
   "metadata": {},
   "outputs": [
    {
     "name": "stdout",
     "output_type": "stream",
     "text": [
      "Profit = 3600.00 €\n",
      "Production X = 40.0\n",
      "Production Y = 40.0\n"
     ]
    }
   ],
   "source": [
    "m = pyo.ConcreteModel(\"Multi-Product Factory - MILO\")\n",
    "\n",
    "# decision variables\n",
    "m.profit = pyo.Var()\n",
    "m.production_x = pyo.Var(domain=pyo.NonNegativeReals)\n",
    "m.production_y = pyo.Var(domain=pyo.NonNegativeReals)\n",
    "m.z = pyo.Var(domain=pyo.Binary)\n",
    "M = 10000\n",
    "\n",
    "# profit objective\n",
    "@m.Objective(sense=pyo.maximize)\n",
    "def maximize_profit(m):\n",
    "    return  m.profit\n",
    "\n",
    "# constraints\n",
    "@m.Constraint()\n",
    "def profit_constr_1(m):\n",
    "    return m.profit <= 40*m.production_x + 30*m.production_y + M * m.z\n",
    "\n",
    "@m.Constraint()\n",
    "def profit_constr_2(m):\n",
    "    return m.profit <= 60*m.production_x + 30*m.production_y + M * (1 - m.z)\n",
    "\n",
    "@m.Constraint()\n",
    "def demand(m):\n",
    "    return m.production_x <= 40\n",
    "\n",
    "@m.Constraint()\n",
    "def laborA(m):\n",
    "    return m.production_x + m.production_y <= 80\n",
    "\n",
    "@m.Constraint()\n",
    "def laborB_1(m):\n",
    "    return 2*m.production_x + m.production_y <= 100 + M * m.z\n",
    "\n",
    "@m.Constraint()\n",
    "def laborB_2(m):\n",
    "    return 1.5*m.production_x + m.production_y <= 100 + M * (1 - m.z)\n",
    "\n",
    "SOLVER.solve(m)\n",
    "\n",
    "print(f\"Profit = {m.profit():.2f} €\")\n",
    "print(f\"Production X = {m.production_x()}\")\n",
    "print(f\"Production Y = {m.production_y()}\")"
   ]
  },
  {
   "cell_type": "markdown",
   "id": "31dfdc49-c671-4cf6-966e-74985de748e1",
   "metadata": {},
   "source": [
    "## Disjunctive programming implementation\n",
    "\n",
    "Alternatively, we can formulate our problem using a disjunction, preserving the logical structure, as follows:\n",
    "\n",
    "$$\n",
    "\\begin{align*}\n",
    "\\max_{x, y \\geq 0} \\quad & \\text{profit}\\\\\n",
    "\\text{s.t.} \\quad \n",
    "& x  \\leq 40 & \\text{(demand)}\\\\\n",
    "& x + y  \\leq 80 & \\text{(labor A)} \\\\\n",
    "& \\begin{bmatrix}\n",
    "    \\text{profit} = 40x + 30y\\\\\n",
    "    2 x + y \\leq 100\n",
    "\\end{bmatrix}\n",
    " \\veebar\n",
    "\\begin{bmatrix}\n",
    "    \\text{profit} = 60x + 30y\\\\\n",
    "    1.5 x + y \\leq 100\n",
    "    \\end{bmatrix}\n",
    "\\end{align*}\n",
    "$$\n",
    "\n",
    "This formulation, if allowed by the software at hand, has the benefit that the software can smartly divide the solution of this problem into sub-possibilities depending on the disjunction. Pyomo supports disjunctions, as illustrated in the following implementation:"
   ]
  },
  {
   "cell_type": "code",
   "execution_count": 4,
   "id": "7e0dcacb-16d3-4031-99b0-e10c7b68050e",
   "metadata": {},
   "outputs": [
    {
     "name": "stdout",
     "output_type": "stream",
     "text": [
      "Profit = 3600.00 €\n",
      "x = 40.0\n",
      "y = 40.0\n"
     ]
    }
   ],
   "source": [
    "m = pyo.ConcreteModel()\n",
    "          \n",
    "m.profit = pyo.Var(bounds=(-1000, 10000))\n",
    "m.x = pyo.Var(domain=pyo.NonNegativeReals, bounds=(0, 1000))\n",
    "m.y = pyo.Var(domain=pyo.NonNegativeReals, bounds=(0, 1000))\n",
    "\n",
    "@m.Objective(sense=pyo.maximize)\n",
    "def maximize_profit(model):\n",
    "    return m.profit\n",
    "\n",
    "@m.Constraint()\n",
    "def demand(model):\n",
    "    return m.x <= 40\n",
    "\n",
    "@m.Constraint()\n",
    "def laborA(model):\n",
    "    return m.x + m.y <= 80\n",
    "\n",
    "@m.Disjunction(xor=True)\n",
    "def technologies(model):\n",
    "    return [[m.profit == 40*m.x + 30*m.y,\n",
    "             2*m.x + m.y <= 100],\n",
    "            \n",
    "            [m.profit == 60*m.x + 30*m.y,\n",
    "             1.5*m.x + m.y <= 100]]\n",
    "            \n",
    "pyo.TransformationFactory(\"gdp.bigm\").apply_to(m)\n",
    "SOLVER.solve(m)\n",
    "\n",
    "print(f\"Profit = {m.profit():.2f} €\")\n",
    "print(f\"x = {m.x()}\")\n",
    "print(f\"y = {m.y()}\")"
   ]
  },
  {
   "cell_type": "code",
   "execution_count": null,
   "id": "835da80f-4a4c-4656-8b1d-ef21a727d430",
   "metadata": {},
   "outputs": [],
   "source": []
  }
 ],
 "metadata": {
  "kernelspec": {
   "display_name": "Python 3 (ipykernel)",
   "language": "python",
   "name": "python3"
  },
  "language_info": {
   "codemirror_mode": {
    "name": "ipython",
    "version": 3
   },
   "file_extension": ".py",
   "mimetype": "text/x-python",
   "name": "python",
   "nbconvert_exporter": "python",
   "pygments_lexer": "ipython3",
   "version": "3.9.16"
  }
 },
 "nbformat": 4,
 "nbformat_minor": 5
}
