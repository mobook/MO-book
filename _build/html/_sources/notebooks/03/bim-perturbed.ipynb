{
 "cells": [
  {
   "cell_type": "markdown",
   "id": "236fc575-3f76-4906-b795-7ff47cdcb2b8",
   "metadata": {},
   "source": [
    "```{index} single: solver; cbc\n",
    "```\n",
    "```{index} single: application; production planning\n",
    "```\n",
    "\n",
    "# BIM production with perturbed data"
   ]
  },
  {
   "cell_type": "markdown",
   "id": "c4a33c1c-e9c0-465c-8de1-b7133eaa825a",
   "metadata": {},
   "source": [
    "## Preamble: Install Pyomo and a solver\n",
    "\n",
    "This cell selects and verifies a global SOLVER for the notebook.\n",
    "\n",
    "If run on Google Colab, the cell installs Pyomo and HiGHS, then sets SOLVER to \n",
    "use the Highs solver via the appsi module. If run elsewhere, it assumes Pyomo and CBC\n",
    "have been previously installed and sets SOLVER to use the CBC solver via the Pyomo \n",
    "SolverFactory. It then verifies that SOLVER is available."
   ]
  },
  {
   "cell_type": "code",
   "execution_count": 1,
   "id": "b97ff6f2-b423-4f2c-9626-4f77a71bbc7f",
   "metadata": {
    "colab": {
     "base_uri": "https://localhost:8080/"
    },
    "id": "5ssUqKOaPVaE",
    "outputId": "38c1005a-39f4-4307-e305-19a4c9819396"
   },
   "outputs": [],
   "source": [
    "import sys\n",
    "\n",
    "if 'google.colab' in sys.modules:\n",
    "    !pip install pyomo >/dev/null 2>/dev/null\n",
    "    !pip install highspy >/dev/null 2>/dev/null\n",
    "\n",
    "    from pyomo.contrib import appsi\n",
    "    SOLVER = appsi.solvers.Highs(only_child_vars=False)\n",
    "    \n",
    "else:\n",
    "    from pyomo.environ import SolverFactory\n",
    "    SOLVER = SolverFactory('cbc')\n",
    "\n",
    "assert SOLVER.available(), f\"Solver {SOLVER} is not available.\""
   ]
  },
  {
   "cell_type": "markdown",
   "id": "69b647c3-f706-4591-8287-f10921ff6efa",
   "metadata": {},
   "source": [
    "## Problem description\n",
    "\n",
    "The company BIM realizes that a $1\\%$ fraction of the copper always gets wasted while producing both types of microchips, more specifically $1\\%$ of the required amount. This means that it actually takes $4.04$ gr of copper to produce a logic chip and $2.02$ gr of copper to produce a memory chip. If we rewrite the linear problem of [the basic BIM problem](../02/bim.ipynb) and modify accordingly the coefficients in the corresponding constraints, we obtain the following problem \n",
    "\n",
    "$$\n",
    "\\begin{align*}\n",
    "        \\max \\quad & 12x_1+9x_2  \\\\\n",
    "        \\text{s.t.} \\quad & x_1 \\leq 1000 & \\text{(silicon)}\\\\\n",
    "        & x_2 \\leq 1500 & \\text{(germanium)}\\\\\n",
    "        & x_1+x_2 \\leq 1750 & \\text{(plastic)}\\\\\n",
    "        & 4.04 x_1+2.02 x_2 \\leq 4800 & \\text{(copper with waste)}\\\\\n",
    "        &x_1, x_2 \\geq 0.\n",
    "\\end{align*}\n",
    "$$\n",
    "\n",
    "If we solve it, we obtain a different optimal solution than the original one, namely $(x_1,x_2) \\approx (626.238,1123.762)$ and an optimal value of roughly $17628.713$. Note, in particular, that this new optimal solution is not integer, but on the other hand in the linear optimization problem above there is no constraint requiring $x_1$ and $x_2$ to be such."
   ]
  },
  {
   "cell_type": "code",
   "execution_count": 2,
   "id": "a0c47721-754d-421c-93d1-a5539852ff41",
   "metadata": {},
   "outputs": [
    {
     "name": "stdout",
     "output_type": "stream",
     "text": [
      "x = (626.238, 1123.762), optimal value = 17628.713\n"
     ]
    }
   ],
   "source": [
    "import pyomo.environ as pyo\n",
    "\n",
    "m    = pyo.ConcreteModel('BIM perturbed LO')\n",
    "\n",
    "m.x1 = pyo.Var(domain=pyo.NonNegativeReals)\n",
    "m.x2 = pyo.Var(domain=pyo.NonNegativeReals)\n",
    "\n",
    "m.profit    = pyo.Objective( expr = 12*m.x1 + 9*m.x2, sense= pyo.maximize)\n",
    "\n",
    "m.silicon   = pyo.Constraint(expr =       m.x1             <= 1000)\n",
    "m.germanium = pyo.Constraint(expr =                   m.x2 <= 1500)\n",
    "m.plastic   = pyo.Constraint(expr =       m.x1 +      m.x2 <= 1750)\n",
    "m.copper    = pyo.Constraint(expr =  4.04*m.x1 + 2.02*m.x2 <= 4800)\n",
    "\n",
    "SOLVER.solve(m)\n",
    "\n",
    "print('x = ({:.3f}, {:.3f}), optimal value = {:.3f}'.format(\n",
    "    pyo.value(m.x1),\n",
    "    pyo.value(m.x2),\n",
    "    pyo.value(m.profit)))"
   ]
  },
  {
   "cell_type": "markdown",
   "id": "fc74513f-5b6a-4aac-9284-619533ac64b1",
   "metadata": {},
   "source": [
    "In terms of production, of course, we would simply produce entire chips but it is not clear how to implement the fractional solution $(x_1,x_2) \\approx (626.238,1123.762)$. Rounding down to $(x_1,x_2) = (626,1123)$ will intuitively yield a feasible solution, but we might be giving away some profit and/or not using efficiently the available material. Rounding up to $(x_1,x_2) = (627,1124)$ could possibly lead to an unfeasible solution for which the available material is not enough. We can of course manually inspect by hand all these candidate integer solutions, but if the problem involved many more decision variables or had a more complex structure, this would become much harder and possibly not lead to the true optimal solution.\n",
    "\n",
    "A much safer approach is to explicitly require the two decision variables to be non-negative integers, thus transforming the original into the following mixed-integer linear optimization (MILO) problem:\n",
    "\n",
    "$$\n",
    "\\begin{align*}\n",
    "        \\max \\quad & 12x_1+9x_2  \\\\\n",
    "        \\text{s.t.} \\quad & x_1 \\leq 1000 & \\text{(silicon)}\\\\\n",
    "        & x_2 \\leq 1500 & \\text{(germanium)}\\\\\n",
    "        & x_1+x_2 \\leq 1750 & \\text{(plastic)}\\\\\n",
    "        & 4.04 x_1+2.02 x_2 \\leq 4800 & \\text{(copper with waste)}\\\\\n",
    "        &x_1, x_2 \\in \\mathbb{N}.\n",
    "\\end{align*}\n",
    "$$\n",
    "\n",
    "The optimal solution is $(x_1,x_2) = (626,1124)$ with a profit of $17628$. Note that for this specific problem both the naive rounding strategies outlined above would have not yielded the true optimal solution. The Python code for obtaining the optimal solution using MILO solvers is given below."
   ]
  },
  {
   "cell_type": "code",
   "execution_count": 3,
   "id": "19ddcf89-0efb-443e-87b3-567286c57ecc",
   "metadata": {
    "tags": []
   },
   "outputs": [
    {
     "name": "stdout",
     "output_type": "stream",
     "text": [
      "x = (626.000, 1124.000), optimal value = 17628.000\n"
     ]
    }
   ],
   "source": [
    "m    = pyo.ConcreteModel('BIM perturbed MILO')\n",
    "\n",
    "m.x1 = pyo.Var(domain=pyo.NonNegativeIntegers)\n",
    "m.x2 = pyo.Var(domain=pyo.NonNegativeIntegers)\n",
    "\n",
    "m.profit    = pyo.Objective( expr = 12*m.x1 + 9*m.x2, sense= pyo.maximize)\n",
    "\n",
    "m.silicon   = pyo.Constraint(expr =       m.x1             <= 1000)\n",
    "m.germanium = pyo.Constraint(expr =                   m.x2 <= 1500)\n",
    "m.plastic   = pyo.Constraint(expr =       m.x1 +      m.x2 <= 1750)\n",
    "m.copper    = pyo.Constraint(expr =  4.04*m.x1 + 2.02*m.x2 <= 4800)\n",
    "\n",
    "SOLVER.solve(m)\n",
    "\n",
    "print('x = ({:.3f}, {:.3f}), optimal value = {:.3f}'.format(\n",
    "    pyo.value(m.x1),\n",
    "    pyo.value(m.x2),\n",
    "    pyo.value(m.profit)))"
   ]
  }
 ],
 "metadata": {
  "kernelspec": {
   "display_name": "Python 3 (ipykernel)",
   "language": "python",
   "name": "python3"
  },
  "language_info": {
   "codemirror_mode": {
    "name": "ipython",
    "version": 3
   },
   "file_extension": ".py",
   "mimetype": "text/x-python",
   "name": "python",
   "nbconvert_exporter": "python",
   "pygments_lexer": "ipython3",
   "version": "3.9.16"
  }
 },
 "nbformat": 4,
 "nbformat_minor": 5
}
