{
 "cells": [
  {
   "cell_type": "markdown",
   "metadata": {
    "id": "AVkGJGu-Ob6L"
   },
   "source": [
    "```{index} single: Pyomo; variables \n",
    "```\n",
    "```{index} single: Pyomo; expressions \n",
    "```\n",
    "```{index} single: Pyomo; objectives \n",
    "```\n",
    "```{index} single: Pyomo; constraints\n",
    "```\n",
    "```{index} single: Pyomo; decorators\n",
    "```\n",
    "```{index} single: solver; cbc\n",
    "```\n",
    "\n",
    "# A Basic Pyomo Model\n",
    "\n",
    "Pyomo is an algebraic modeling language for mathematical optimization that is integrated within the Python programming environment. It enables users to create optimization models consisting of decision variables, expressions, objective functions, and constraints. Pyomo provides tools to transform models, and then solve them using a variety of open-source and commercial solvers. As an open-source project, Pyomo is not tied to any specific vendor, solver, or class of mathematical optimization problems, and is constantly evolving through contributions from third-party developers.\n",
    "\n",
    "This notebook introduces basic elements of Pyomo common to most applications for the small [production planning problem](https://mobook.github.io/MO-book/notebooks/01/production-planning.html) introduced in a companion notebook:\n",
    "\n",
    "* [Variables](https://pyomo.readthedocs.io/en/latest/pyomo_modeling_components/Variables.html)\n",
    "* [Expressions](https://pyomo.readthedocs.io/en/latest/pyomo_modeling_components/Expressions.html)\n",
    "* [Objectives](https://pyomo.readthedocs.io/en/latest/pyomo_modeling_components/Objectives.html)\n",
    "* [Constraints](https://pyomo.readthedocs.io/en/latest/pyomo_modeling_components/Constraints.html)\n",
    "* [SolverFactory](https://pyomo.readthedocs.io/en/stable/solving_pyomo_models.html)\n",
    "\n",
    "The Pyomo model shown below is a direct translation of the mathematical model into basic Pyomo components. In this approach, parameter values from the mathematical model are included directly in the Pyomo model for simplicity. This method works well for problems with a small number of decision variables and constraints, but it limits the reuse of the model. Another notebook will demonstrate Pyomo features for writing models for more generic, \"data-driven\" applications.\n",
    "\n",
    "This notebook also introduces the use of Python decorators to designate Pyomo expressions, objectives, and constraints. While decorators may be unfamiliar to some Python users, or even current Pyomo users, they offer a significant improvement in the readability of Pyomo model. This feature is relatively new and is available in recent versions of Pyomo."
   ]
  },
  {
   "cell_type": "markdown",
   "metadata": {},
   "source": [
    "## Preamble: Install Pyomo and a solver\n",
    "\n",
    "This collection of notebooks is intended to be run in the cloud on [Google Colab](https://colab.google/) or on a personal computer. To meet this goal, We start each notebook by verifying the installation of Pyomo and an appropriate solver. When run on Google Colab, an installation of Pyomo and a solver must be done for each new Colab session. The [HiGHS solver](https://highs.dev/) is a high performance open source solver for linear and mixed integer optimization on Google Colab.  For a personal computer, we assume Python, Pyomo and the [Cbc solver](https://coin-or.github.io/Cbc/intro.html) have been previously installed. \n",
    "\n",
    "The following cell checks if the notebook is running on Google Colab. If so, it does a quiet installations of Pyomo and a solver. A solver is then selected, a test performed to verify that the solver is available, and the solver interface is stored in a global object `SOLVER` for later use."
   ]
  },
  {
   "cell_type": "code",
   "execution_count": 1,
   "metadata": {
    "colab": {
     "base_uri": "https://localhost:8080/"
    },
    "executionInfo": {
     "elapsed": 29660,
     "status": "ok",
     "timestamp": 1669503785335,
     "user": {
      "displayName": "Jeffrey Kantor",
      "userId": "09038942003589296665"
     },
     "user_tz": 300
    },
    "id": "4AYeavKO4ze7",
    "outputId": "ca2adb8b-b6cc-4a90-f2d8-e91e2718c4b1",
    "tags": []
   },
   "outputs": [],
   "source": [
    "\"\"\"\n",
    "This cell sets and verifies a global SOLVER for the notebook.\n",
    "\n",
    "If run on Google Colab, the cell installs Pyomo and HiGHS, then sets SOLVER to use\n",
    "the Highs solver via the appsi module. If run elsewhere, it assumes Pyomo and CBC\n",
    "have been previously installed and sets SOLVER to use the CBC solver via the Pyomo \n",
    "SolverFactory. For both cases, it then verifies that SOLVER is available.\n",
    "\"\"\"\n",
    "\n",
    "import sys\n",
    "\n",
    "if 'google.colab' in sys.modules:\n",
    "    !pip install pyomo >/dev/null 2>/dev/null\n",
    "    !pip install highspy >/dev/null 2>/dev/null\n",
    "\n",
    "    from pyomo.contrib import appsi\n",
    "    SOLVER = appsi.solvers.Highs(only_child_vars=False)\n",
    "    \n",
    "else:\n",
    "    from pyomo.environ import SolverFactory\n",
    "    SOLVER = SolverFactory('cbc')\n",
    "\n",
    "assert SOLVER.available(), f\"Solver {SOLVER} is not available.\""
   ]
  },
  {
   "cell_type": "markdown",
   "metadata": {},
   "source": [
    "## Step 1. Import Pyomo\n",
    "\n",
    "The first step for a new Pyomo model is to import the needed components into the Python environment. The module `pyomo.environ` provides the most commonly used components for Pyomo model building. This collection of notebooks uses a consistent convention of importing `pyomo.environ` with the  `pyo` prefix."
   ]
  },
  {
   "cell_type": "code",
   "execution_count": 2,
   "metadata": {
    "tags": []
   },
   "outputs": [],
   "source": [
    "import pyomo.environ as pyo"
   ]
  },
  {
   "cell_type": "markdown",
   "metadata": {},
   "source": [
    "## Step 2. The `ConcreteModel` object\n",
    "\n",
    "Pyomo models can be named using any standard Python variable name. In the following code cell, an instance of `ConcreteModel` is created and stored in a Python variable named `model`. It is best to use a short name since it will appear as a prefix for every Pyomo variable and constraint. `ConcreteModel` accepts an optional string argument used to title subsequent reports.\n",
    "\n",
    "`pyo.ConcreteModel()` is used to create a model object when the problem data is known at the time of construction. Alternatively, pyo.AbstractModel() can create models where the problem data will be provided later to create specific model instances. But this is normally not needed when using the \"data-driven\" approach demonstrated in this collection of notebooks.\n"
   ]
  },
  {
   "cell_type": "code",
   "execution_count": 3,
   "metadata": {
    "tags": []
   },
   "outputs": [],
   "source": [
    "# create model with optional problem title\n",
    "model = pyo.ConcreteModel(\"Production Planning: Version 1\")"
   ]
  },
  {
   "cell_type": "markdown",
   "metadata": {},
   "source": [
    "The `.display()` method displays the current content of a Pyomo model. When developing new models, this is a useful tool for verifying the model is being constructed as intended. At this stage the major components of the model are empty."
   ]
  },
  {
   "cell_type": "code",
   "execution_count": 4,
   "metadata": {},
   "outputs": [
    {
     "name": "stdout",
     "output_type": "stream",
     "text": [
      "Model 'Production Planning: Version 1'\n",
      "\n",
      "  Variables:\n",
      "    None\n",
      "\n",
      "  Objectives:\n",
      "    None\n",
      "\n",
      "  Constraints:\n",
      "    None\n"
     ]
    }
   ],
   "source": [
    "#display model\n",
    "model.display()"
   ]
  },
  {
   "cell_type": "markdown",
   "metadata": {},
   "source": [
    "## Step 3. Decision variables\n",
    "\n",
    "Decision variables are created with `pyo.Var()`. The decision variables can be assigned to any valid Python identifier. Here we assign decision variables to the model instance using the Python 'dot' notation. The variable names are chosen to reflect their names in the mathematical model. \n",
    "\n",
    "`pyo.Var()` accepts optional keyword arguments. The most commonly used keyword arguments are:\n",
    "\n",
    "* `domain` specifies a set of values for a decision variable. By default, the domain is the set of all real numbers. Other commonly used domains are `pyo.NonNegativeReals`, `pyo.NonNegativeIntegers`, and `pyo.Binary`.\n",
    "\n",
    "* `bounds` is an optional keyword argument to specify a tuple containing values for the lower and upper bounds. It is good modeling practice to specify any known and fixed bounds on the decision variables. `None` can be used as a placeholder if one of the two bounds is unknown. Specifying the bounds as `(0, None)` is equivalent to specifying the domain as `pyo.NonNegativeReals`.\n",
    "\n",
    "The use of the optional keywords is shown in the following cell. Displaying the model shows the value of the decision variables is not yet known."
   ]
  },
  {
   "cell_type": "code",
   "execution_count": 5,
   "metadata": {
    "tags": []
   },
   "outputs": [
    {
     "name": "stdout",
     "output_type": "stream",
     "text": [
      "Model 'Production Planning: Version 1'\n",
      "\n",
      "  Variables:\n",
      "    x_M : Size=1, Index=None\n",
      "        Key  : Lower : Value : Upper : Fixed : Stale : Domain\n",
      "        None :     0 :  None :  None : False :  True :  Reals\n",
      "    x_A : Size=1, Index=None\n",
      "        Key  : Lower : Value : Upper : Fixed : Stale : Domain\n",
      "        None :     0 :  None :    80 : False :  True :  Reals\n",
      "    x_B : Size=1, Index=None\n",
      "        Key  : Lower : Value : Upper : Fixed : Stale : Domain\n",
      "        None :     0 :  None :   100 : False :  True :  Reals\n",
      "    y_U : Size=1, Index=None\n",
      "        Key  : Lower : Value : Upper : Fixed : Stale : Domain\n",
      "        None :     0 :  None :    40 : False :  True :  Reals\n",
      "    y_V : Size=1, Index=None\n",
      "        Key  : Lower : Value : Upper : Fixed : Stale : Domain\n",
      "        None :     0 :  None :  None : False :  True :  Reals\n",
      "\n",
      "  Objectives:\n",
      "    None\n",
      "\n",
      "  Constraints:\n",
      "    None\n"
     ]
    }
   ],
   "source": [
    "# create decision variables\n",
    "model.x_M = pyo.Var(bounds=(0, None))\n",
    "model.x_A = pyo.Var(bounds=(0, 80))\n",
    "model.x_B = pyo.Var(bounds=(0, 100))\n",
    "\n",
    "model.y_U = pyo.Var(bounds=(0, 40))\n",
    "model.y_V = pyo.Var(bounds=(0, None))\n",
    "\n",
    "# display updated model\n",
    "model.display()"
   ]
  },
  {
   "cell_type": "markdown",
   "metadata": {},
   "source": [
    "## Step 4. Expressions\n",
    "\n",
    "Pyomo expressions are mathematical formulas involving the decision variables. The following cell creates expressions for revenue and cost that are assigned to `model.revenue` and `model.cost`, respectively."
   ]
  },
  {
   "cell_type": "code",
   "execution_count": 6,
   "metadata": {
    "tags": []
   },
   "outputs": [
    {
     "name": "stdout",
     "output_type": "stream",
     "text": [
      "270*y_U + 210*y_V\n",
      "10*x_M + 50*x_A + 40*x_B\n"
     ]
    }
   ],
   "source": [
    "# create expressions\n",
    "model.revenue = 270 * model.y_U + 210 * model.y_V\n",
    "model.cost = 10 * model.x_M + 50 * model.x_A + 40 * model.x_B\n",
    "\n",
    "# expressions can be printed\n",
    "print(model.revenue)\n",
    "print(model.cost)"
   ]
  },
  {
   "cell_type": "markdown",
   "metadata": {},
   "source": [
    "## Step 5. Objective\n",
    "\n",
    "The objective for this example is to maximize profit which is given by the difference between revenue and cost. There are two ways this objective could be specified in Pyomo.\n",
    "\n",
    "The first method is to use `pyo.Objective()` where the expression to be optimized is assigned with the `expr` keyword and the type of objective is assigned with the `sense` keyword.\n",
    "\n",
    "    model.profit = pyo.Objective(expr = model.revenue - model.cost, sense = pyo.maximize)\n",
    "    \n",
    "Recent releases of Pyomo provide a second method that uses Python [decorators](https://peps.python.org/pep-0318/) to specify an objective. With a decorator, the same objective is written as\n",
    "\n",
    "    @model.Objective(sense = pyo.maximize)\n",
    "    def profit(model):\n",
    "        return model.revenue - model.cost\n",
    "\n",
    "Python decorators modify the behavior of the function defined in the next line.  In this case, the decorator `@model.Objective()` modifies the behavior of `profit()` so that it returns an expression for the profit to Pyomo. The keyword `sense` sets the type of objective, which can either be to maximize or minimize the value returned by the objective function. The function `profit()`, after being decorated, takes the Pyomo model as its first argument and adds its name to the model attributes.\n",
    "\n",
    "In effect, Pyomo decorators are tags that insert functions into a Pyomo model to serve as expressions, objectives, or constraints. Decorators can improve the readability and maintainability of more complex models. They also simplify the syntax for creating other Pyomo objects expressions, constraints, and other optimization-related elements."
   ]
  },
  {
   "cell_type": "code",
   "execution_count": 7,
   "metadata": {
    "tags": []
   },
   "outputs": [
    {
     "name": "stdout",
     "output_type": "stream",
     "text": [
      "Model 'Production Planning: Version 1'\n",
      "\n",
      "  Variables:\n",
      "    x_M : Size=1, Index=None\n",
      "        Key  : Lower : Value : Upper : Fixed : Stale : Domain\n",
      "        None :     0 :  None :  None : False :  True :  Reals\n",
      "    x_A : Size=1, Index=None\n",
      "        Key  : Lower : Value : Upper : Fixed : Stale : Domain\n",
      "        None :     0 :  None :    80 : False :  True :  Reals\n",
      "    x_B : Size=1, Index=None\n",
      "        Key  : Lower : Value : Upper : Fixed : Stale : Domain\n",
      "        None :     0 :  None :   100 : False :  True :  Reals\n",
      "    y_U : Size=1, Index=None\n",
      "        Key  : Lower : Value : Upper : Fixed : Stale : Domain\n",
      "        None :     0 :  None :    40 : False :  True :  Reals\n",
      "    y_V : Size=1, Index=None\n",
      "        Key  : Lower : Value : Upper : Fixed : Stale : Domain\n",
      "        None :     0 :  None :  None : False :  True :  Reals\n",
      "\n",
      "  Objectives:\n",
      "    profit : Size=1, Index=None, Active=True\n",
      "ERROR: evaluating object as numeric value: y_U\n",
      "        (object: <class 'pyomo.core.base.var.ScalarVar'>)\n",
      "    No value for uninitialized NumericValue object y_U\n",
      "ERROR: evaluating object as numeric value: profit\n",
      "        (object: <class 'pyomo.core.base.objective.ScalarObjective'>)\n",
      "    No value for uninitialized NumericValue object y_U\n",
      "        Key : Active : Value\n",
      "        None :   None :  None\n",
      "\n",
      "  Constraints:\n",
      "    None\n"
     ]
    }
   ],
   "source": [
    "@model.Objective(sense=pyo.maximize)\n",
    "def profit(model):\n",
    "    return model.revenue - model.cost\n",
    "\n",
    "model.display()"
   ]
  },
  {
   "cell_type": "markdown",
   "metadata": {},
   "source": [
    "## Step 6. Constraints\n",
    "\n",
    "Constraints are logical relationships between expressions that define the range of feasible solutions in an optimization problem. A constraint consists of two expressions separated by one of the logical relationships. The logical relationships can be equality (`==`), less-than (`<=`), or greater-than (`>=`). \n",
    "\n",
    "Constraints can be created with `pyo.Constraint()`. The constraint is passed as a keyword argument `expr` to `pyo.Constraint()`. For this application the constraints could be expressed as  \n",
    "\n",
    "    model.raw_materials = pyo.Constraint(expr = 10 * model.y_U + 9 * model.y_V <= model.x_M)\n",
    "    model.labor_A = pyo.Constraint(expr = 1 * model.y_U + 1 * model.y_V <= model.x_A)\n",
    "    model.labor_B = pyo.Constraint(expr = 2 * model.y_U + 1 * model.y_V <= model.x_B)\n",
    "    \n",
    "Alternatively, the `@model.Constraint()` decorator 'tags' the output of the following function as a constraint. For the present example, the constraints are expressed with decorators below. This collection of notebooks uses decorators whenever possible to improve the readability and maintainability of Pyomo models."
   ]
  },
  {
   "cell_type": "code",
   "execution_count": 8,
   "metadata": {
    "tags": []
   },
   "outputs": [
    {
     "name": "stdout",
     "output_type": "stream",
     "text": [
      "5 Var Declarations\n",
      "    x_A : Size=1, Index=None\n",
      "        Key  : Lower : Value : Upper : Fixed : Stale : Domain\n",
      "        None :     0 :  None :    80 : False :  True :  Reals\n",
      "    x_B : Size=1, Index=None\n",
      "        Key  : Lower : Value : Upper : Fixed : Stale : Domain\n",
      "        None :     0 :  None :   100 : False :  True :  Reals\n",
      "    x_M : Size=1, Index=None\n",
      "        Key  : Lower : Value : Upper : Fixed : Stale : Domain\n",
      "        None :     0 :  None :  None : False :  True :  Reals\n",
      "    y_U : Size=1, Index=None\n",
      "        Key  : Lower : Value : Upper : Fixed : Stale : Domain\n",
      "        None :     0 :  None :    40 : False :  True :  Reals\n",
      "    y_V : Size=1, Index=None\n",
      "        Key  : Lower : Value : Upper : Fixed : Stale : Domain\n",
      "        None :     0 :  None :  None : False :  True :  Reals\n",
      "\n",
      "1 Objective Declarations\n",
      "    profit : Size=1, Index=None, Active=True\n",
      "        Key  : Active : Sense    : Expression\n",
      "        None :   True : maximize : 270*y_U + 210*y_V - (10*x_M + 50*x_A + 40*x_B)\n",
      "\n",
      "3 Constraint Declarations\n",
      "    labor_A : Size=1, Index=None, Active=True\n",
      "        Key  : Lower : Body            : Upper : Active\n",
      "        None :  -Inf : y_U + y_V - x_A :   0.0 :   True\n",
      "    labor_B : Size=1, Index=None, Active=True\n",
      "        Key  : Lower : Body              : Upper : Active\n",
      "        None :  -Inf : 2*y_U + y_V - x_B :   0.0 :   True\n",
      "    raw_materials : Size=1, Index=None, Active=True\n",
      "        Key  : Lower : Body                 : Upper : Active\n",
      "        None :  -Inf : 10*y_U + 9*y_V - x_M :   0.0 :   True\n",
      "\n",
      "9 Declarations: x_M x_A x_B y_U y_V profit raw_materials labor_A labor_B\n"
     ]
    }
   ],
   "source": [
    "@model.Constraint()\n",
    "def raw_materials(model):\n",
    "    return 10 * model.y_U + 9 * model.y_V <= model.x_M\n",
    "\n",
    "@model.Constraint()\n",
    "def labor_A(model):\n",
    "    return 1 * model.y_U + 1 * model.y_V <= model.x_A\n",
    "\n",
    "@model.Constraint()\n",
    "def labor_B(model):\n",
    "    return 2 * model.y_U + 1 * model.y_V <= model.x_B\n",
    "\n",
    "model.pprint()"
   ]
  },
  {
   "cell_type": "markdown",
   "metadata": {},
   "source": [
    "## Step 7. Solve the model\n",
    "\n",
    "With the model now fully specified, the next step is to compute a solution. A solver object is created with `SolverFactory` then applied to the model as shown in the following cell. Here we have chosen to use the open source [COIN-OR Cbc](https://github.com/coin-or/Cbc)  (\"COIN-OR branch and cut\") solver for mixed integer linear programming. There are other suitable solvers such as the open-source [HiGHS](https://highs.dev/), or commercial solvers such as CPLEX, Gurobi, and Mosek.\n",
    "\n",
    "The optional keyword `tee=True` causes the solver to print its output to the output. This can be useful for debugging problems that arise when developing a new model."
   ]
  },
  {
   "cell_type": "code",
   "execution_count": 9,
   "metadata": {
    "tags": []
   },
   "outputs": [
    {
     "name": "stdout",
     "output_type": "stream",
     "text": [
      "Welcome to the CBC MILP Solver \n",
      "Version: 2.10.8 \n",
      "Build Date: Mar 31 2023 \n",
      "\n",
      "command line - /Users/jeff/opt/anaconda3/bin/cbc -printingOptions all -import /var/folders/cm/z3t28j296f98jdp1vqyplkz00000gn/T/tmpuuj7ikau.pyomo.lp -stat=1 -solve -solu /var/folders/cm/z3t28j296f98jdp1vqyplkz00000gn/T/tmpuuj7ikau.pyomo.soln (default strategy 1)\n",
      "Option for printingOptions changed from normal to all\n",
      " CoinLpIO::readLp(): Maximization problem reformulated as minimization\n",
      "Coin0009I Switching back to maximization to get correct duals etc\n",
      "Presolve 3 (-1) rows, 5 (-1) columns and 9 (-1) elements\n",
      "Statistics for presolved model\n",
      "\n",
      "\n",
      "Problem has 3 rows, 5 columns (5 with objective) and 9 elements\n",
      "There are 3 singletons with objective \n",
      "Column breakdown:\n",
      "2 of type 0.0->inf, 3 of type 0.0->up, 0 of type lo->inf, \n",
      "0 of type lo->up, 0 of type free, 0 of type fixed, \n",
      "0 of type -inf->0.0, 0 of type -inf->up, 0 of type 0.0->1.0 \n",
      "Row breakdown:\n",
      "2 of type E 0.0, 0 of type E 1.0, 0 of type E -1.0, \n",
      "0 of type E other, 0 of type G 0.0, 0 of type G 1.0, \n",
      "0 of type G other, 1 of type L 0.0, 0 of type L 1.0, \n",
      "0 of type L other, 0 of type Range 0.0->1.0, 0 of type Range other, \n",
      "0 of type Free \n",
      "Presolve 3 (-1) rows, 5 (-1) columns and 9 (-1) elements\n",
      "0  Obj -0 Dual inf 480 (2)\n",
      "3  Obj 2600\n",
      "Optimal - objective value 2600\n",
      "After Postsolve, objective 2600, infeasibilities - dual 0 (0), primal 0 (0)\n",
      "Optimal objective 2600 - 3 iterations time 0.002, Presolve 0.00\n",
      "Total time (CPU seconds):       0.00   (Wallclock seconds):       0.01\n",
      "\n"
     ]
    }
   ],
   "source": [
    "results = SOLVER.solve(model, tee=True)"
   ]
  },
  {
   "cell_type": "markdown",
   "metadata": {},
   "source": [
    "## Step 8. Reporting the solution\n",
    "\n",
    "The final step in most applications is to report the solution in a suitable format. For this example, we demonstrate simple tabular and graphic reports using the Pandas library. For an overview of other ways to report and visualize the solutions, see also the appendix of [this notebook](../04/gasoline-distribution.ipynb)."
   ]
  },
  {
   "cell_type": "markdown",
   "metadata": {},
   "source": [
    "### Pyomo `pprint()`\n",
    "\n",
    "Pyomo provides several functions for creating model reports that contain solution values. The `pprint()` method can be applied to the entire model, or to individual components of the model, as shown in the following cells."
   ]
  },
  {
   "cell_type": "code",
   "execution_count": 10,
   "metadata": {},
   "outputs": [
    {
     "name": "stdout",
     "output_type": "stream",
     "text": [
      "5 Var Declarations\n",
      "    x_A : Size=1, Index=None\n",
      "        Key  : Lower : Value : Upper : Fixed : Stale : Domain\n",
      "        None :     0 :  80.0 :    80 : False : False :  Reals\n",
      "    x_B : Size=1, Index=None\n",
      "        Key  : Lower : Value : Upper : Fixed : Stale : Domain\n",
      "        None :     0 : 100.0 :   100 : False : False :  Reals\n",
      "    x_M : Size=1, Index=None\n",
      "        Key  : Lower : Value : Upper : Fixed : Stale : Domain\n",
      "        None :     0 : 740.0 :  None : False : False :  Reals\n",
      "    y_U : Size=1, Index=None\n",
      "        Key  : Lower : Value : Upper : Fixed : Stale : Domain\n",
      "        None :     0 :  20.0 :    40 : False : False :  Reals\n",
      "    y_V : Size=1, Index=None\n",
      "        Key  : Lower : Value : Upper : Fixed : Stale : Domain\n",
      "        None :     0 :  60.0 :  None : False : False :  Reals\n",
      "\n",
      "1 Objective Declarations\n",
      "    profit : Size=1, Index=None, Active=True\n",
      "        Key  : Active : Sense    : Expression\n",
      "        None :   True : maximize : 270*y_U + 210*y_V - (10*x_M + 50*x_A + 40*x_B)\n",
      "\n",
      "3 Constraint Declarations\n",
      "    labor_A : Size=1, Index=None, Active=True\n",
      "        Key  : Lower : Body            : Upper : Active\n",
      "        None :  -Inf : y_U + y_V - x_A :   0.0 :   True\n",
      "    labor_B : Size=1, Index=None, Active=True\n",
      "        Key  : Lower : Body              : Upper : Active\n",
      "        None :  -Inf : 2*y_U + y_V - x_B :   0.0 :   True\n",
      "    raw_materials : Size=1, Index=None, Active=True\n",
      "        Key  : Lower : Body                 : Upper : Active\n",
      "        None :  -Inf : 10*y_U + 9*y_V - x_M :   0.0 :   True\n",
      "\n",
      "9 Declarations: x_M x_A x_B y_U y_V profit raw_materials labor_A labor_B\n"
     ]
    }
   ],
   "source": [
    "# display the whole model\n",
    "model.pprint()"
   ]
  },
  {
   "cell_type": "code",
   "execution_count": 11,
   "metadata": {},
   "outputs": [
    {
     "name": "stdout",
     "output_type": "stream",
     "text": [
      "profit : Size=1, Index=None, Active=True\n",
      "    Key  : Active : Sense    : Expression\n",
      "    None :   True : maximize : 270*y_U + 210*y_V - (10*x_M + 50*x_A + 40*x_B)\n"
     ]
    }
   ],
   "source": [
    "# display a component of the model\n",
    "model.profit.pprint()"
   ]
  },
  {
   "cell_type": "markdown",
   "metadata": {},
   "source": [
    "### Accessing solution values with `pyo.value()`\n",
    "\n",
    "After a solution to a Pyomo model has been successfully computed, values for the objective, expressions, and decisions variables can be accessed with `pyo.value()`."
   ]
  },
  {
   "cell_type": "code",
   "execution_count": 12,
   "metadata": {},
   "outputs": [
    {
     "data": {
      "text/plain": [
       "2600.0"
      ]
     },
     "execution_count": 12,
     "metadata": {},
     "output_type": "execute_result"
    }
   ],
   "source": [
    "pyo.value(model.profit)"
   ]
  },
  {
   "cell_type": "markdown",
   "metadata": {},
   "source": [
    "When combined with [Python f strings](https://docs.python.org/3/tutorial/inputoutput.html), `pyo.value()` provides a convenient means of creating formatted reports."
   ]
  },
  {
   "cell_type": "code",
   "execution_count": 13,
   "metadata": {},
   "outputs": [
    {
     "name": "stdout",
     "output_type": "stream",
     "text": [
      " Profit =   2600.00\n",
      "Revenue =  18000.00\n",
      "   Cost =  15400.00\n"
     ]
    }
   ],
   "source": [
    "print(f\" Profit = {pyo.value(model.profit): 9.2f}\")\n",
    "print(f\"Revenue = {pyo.value(model.revenue): 9.2f}\")\n",
    "print(f\"   Cost = {pyo.value(model.cost): 9.2f}\")"
   ]
  },
  {
   "cell_type": "markdown",
   "metadata": {},
   "source": [
    "Pyomo provides a shortcut notation for accessing solution. After a solution has been computed, a function with the same name as decision variable is created that will report the solution value. "
   ]
  },
  {
   "cell_type": "code",
   "execution_count": 14,
   "metadata": {},
   "outputs": [
    {
     "name": "stdout",
     "output_type": "stream",
     "text": [
      "x_A = 80.0\n",
      "x_B = 100.0\n",
      "x_M = 740.0\n"
     ]
    }
   ],
   "source": [
    "print(\"x_A =\", model.x_A())\n",
    "print(\"x_B =\", model.x_B())\n",
    "print(\"x_M =\", model.x_M())"
   ]
  },
  {
   "cell_type": "markdown",
   "metadata": {},
   "source": [
    "### Creating reports with Pandas\n",
    "\n",
    "Pandas is an open-source library for working with data in Python and is widely used in the data science community. Here we use a Pandas `Series()` object to hold and display solution data. We can then visualize them using the matplotlib library, for instance with a bar chart."
   ]
  },
  {
   "cell_type": "code",
   "execution_count": 15,
   "metadata": {},
   "outputs": [
    {
     "data": {
      "text/plain": [
       "U    20.0\n",
       "V    60.0\n",
       "dtype: float64"
      ]
     },
     "metadata": {},
     "output_type": "display_data"
    },
    {
     "data": {
      "text/plain": [
       "A     80.0\n",
       "B    100.0\n",
       "M    740.0\n",
       "dtype: float64"
      ]
     },
     "metadata": {},
     "output_type": "display_data"
    }
   ],
   "source": [
    "import pandas as pd\n",
    "\n",
    "# create pandas series for production and raw materials\n",
    "production = pd.Series({\n",
    "    \"U\": pyo.value(model.y_U),\n",
    "    \"V\": pyo.value(model.y_V),\n",
    "})\n",
    "\n",
    "raw_materials = pd.Series({\n",
    "    \"A\": pyo.value(model.x_A),\n",
    "    \"B\": pyo.value(model.x_B),\n",
    "    \"M\": pyo.value(model.x_M),\n",
    "})\n",
    "\n",
    "# display pandas series\n",
    "display(production)\n",
    "display(raw_materials)"
   ]
  },
  {
   "cell_type": "code",
   "execution_count": 16,
   "metadata": {},
   "outputs": [
    {
     "data": {
      "image/png": "[encoded data removed]",
      "text/plain": [
       "<Figure size 800x200 with 2 Axes>"
      ]
     },
     "metadata": {},
     "output_type": "display_data"
    }
   ],
   "source": [
    "import matplotlib.pyplot as plt\n",
    "\n",
    "# create grid of subplots\n",
    "fig, ax = plt.subplots(1, 2, figsize=(8, 2))\n",
    "\n",
    "# show pandas series as horizontal bar plots\n",
    "production.plot(ax=ax[0], kind=\"barh\", title=\"Production\")\n",
    "raw_materials.plot(ax=ax[1], kind=\"barh\", title=\"Raw Materials\")\n",
    "\n",
    "# show vertical axis in descending order\n",
    "ax[0].invert_yaxis()\n",
    "ax[1].invert_yaxis()"
   ]
  },
  {
   "cell_type": "code",
   "execution_count": null,
   "metadata": {},
   "outputs": [],
   "source": []
  }
 ],
 "metadata": {
  "colab": {
   "authorship_tag": "ABX9TyNdeOT6zd9sxPjQMDuW2VRf",
   "provenance": []
  },
  "kernelspec": {
   "display_name": "Python 3 (ipykernel)",
   "language": "python",
   "name": "python3"
  },
  "language_info": {
   "codemirror_mode": {
    "name": "ipython",
    "version": 3
   },
   "file_extension": ".py",
   "mimetype": "text/x-python",
   "name": "python",
   "nbconvert_exporter": "python",
   "pygments_lexer": "ipython3",
   "version": "3.9.16"
  },
  "latex_envs": {
   "LaTeX_envs_menu_present": true,
   "autoclose": false,
   "autocomplete": true,
   "bibliofile": "biblio.bib",
   "cite_by": "apalike",
   "current_citInitial": 1,
   "eqLabelWithNumbers": true,
   "eqNumInitial": 1,
   "hotkeys": {
    "equation": "Ctrl-E",
    "itemize": "Ctrl-I"
   },
   "labels_anchors": false,
   "latex_user_defs": false,
   "report_style_numbering": false,
   "user_envs_cfg": false
  }
 },
 "nbformat": 4,
 "nbformat_minor": 4
}
