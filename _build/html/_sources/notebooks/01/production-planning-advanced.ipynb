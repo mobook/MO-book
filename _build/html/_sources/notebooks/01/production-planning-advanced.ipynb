{
 "cells": [
  {
   "cell_type": "markdown",
   "metadata": {
    "id": "AVkGJGu-Ob6L",
    "tags": []
   },
   "source": [
    "```{index} single: Pyomo; variables \n",
    "```\n",
    "```{index} single: Pyomo; expressions \n",
    "```\n",
    "```{index} single: Pyomo; sets \n",
    "```\n",
    "```{index} single: Pyomo; decorators\n",
    "```\n",
    "```{index} single: solver; cbc\n",
    "```\n",
    "\n",
    "# A data-driven Pyomo Model\n",
    "\n",
    "In this notebook, we'll revisit the production planning example. However, this time we'll demonstrate how Python's data structures, combined with Pyomo's capabilities, can create an optimization model scales with problem data. This enables the model to adjust to new products, varying prices, or changing demand. We refer to this as \"data-driven\" modeling.\n",
    "\n",
    "The additional Pyomo components used in this notebook are:\n",
    "\n",
    "* [Sets](https://pyomo.readthedocs.io/en/latest/pyomo_modeling_components/Sets.html)\n",
    "* [Parameters](https://pyomo.readthedocs.io/en/latest/pyomo_modeling_components/Parameters.html)\n",
    "\n",
    "These components enable the use indexed variables and constraints. The combination of sets and indices are essential to building scalable and maintainable models for more complex applications. \n",
    "\n",
    "We will begin this analysis by examining the problem data sets to identify the underlying problem structure."
   ]
  },
  {
   "cell_type": "markdown",
   "metadata": {},
   "source": [
    "## Preamble: Install Pyomo and a solver\n",
    "\n",
    "This cell selects and verifies a global SOLVER for the notebook.\n",
    "\n",
    "If run on Google Colab, the cell installs Pyomo and HiGHS, then sets SOLVER to \n",
    "use the Highs solver via the appsi module. If run elsewhere, it assumes Pyomo and CBC\n",
    "have been previously installed and sets SOLVER to use the CBC solver via the Pyomo \n",
    "SolverFactory. It then verifies that SOLVER is available."
   ]
  },
  {
   "cell_type": "code",
   "execution_count": 12,
   "metadata": {
    "colab": {
     "base_uri": "https://localhost:8080/"
    },
    "id": "5ssUqKOaPVaE",
    "outputId": "38c1005a-39f4-4307-e305-19a4c9819396"
   },
   "outputs": [],
   "source": [
    "import sys\n",
    "\n",
    "if 'google.colab' in sys.modules:\n",
    "    !pip install pyomo >/dev/null 2>/dev/null\n",
    "    !pip install highspy >/dev/null 2>/dev/null\n",
    "\n",
    "    from pyomo.contrib import appsi\n",
    "    SOLVER = appsi.solvers.Highs(only_child_vars=False)\n",
    "    \n",
    "else:\n",
    "    from pyomo.environ import SolverFactory\n",
    "    SOLVER = SolverFactory('cbc')\n",
    "\n",
    "assert SOLVER.available(), f\"Solver {SOLVER} is not available.\""
   ]
  },
  {
   "cell_type": "markdown",
   "metadata": {
    "tags": []
   },
   "source": [
    "## Data representations\n",
    "\n",
    "We begin by revisiting the data sets and mathematical model developed for the basic production planning problem presented in the [previous notebook](production-planning-basic.ipynb). The original data sets were given as:\n",
    "\n",
    "| Product | Material <br> required | Labor A <br> required | Labor B <br> required | Market <br> Demand | Price |\n",
    "| :-: | :-: | :-: | :-: | :-: | :-: | \n",
    "| U | 10 g | 1 hr | 2 hr | $\\leq$ 40 units | 270€ |\n",
    "| V |  9 g | 1 hr | 1 hr | unlimited | 210€ |\n",
    "\n",
    "| Resource | Amount <br> Available | Cost | \n",
    "| :-: | :-: | :-: |\n",
    "| Material | unlimited | 10€ / g |\n",
    "| Labor A | 80 hours | 50€ / hour |\n",
    "| Labor B | 100 hours | 40€ / hour | \n",
    "\n",
    "Two distinct sets of objects are evident from these tables. The first is the set of products comprised of $U$ and $V$. The second is the set of resources used to produce those products, which we abbreviate as $M$, $A$, and $B$. \n",
    "\n",
    "Having identified these sets, the data for this application be factored into three simple tables. The first two tables list attributes of the products and resources, the third table summarizes the process used to create the products from the resources:\n",
    "\n",
    "**Table: Products**\n",
    "\n",
    "| Product | Demand | Price |\n",
    "| :-: | :-: | :-: | \n",
    "| U |  $\\leq$ 40 units | 270€ |\n",
    "| V |  unlimited | 210€ |\n",
    "\n",
    "**Table: Resources**\n",
    "\n",
    "| Resource | Available | Cost | \n",
    "| :-: | :-: | :-: |\n",
    "| Material | unlimited | 10€ / g |\n",
    "| Labor A | 80 hours | 50€ / hour |\n",
    "| Labor B | 100 hours | 40€ / hour | \n",
    "\n",
    "**Table: Processes**\n",
    "\n",
    "| Product | Material | Labor A | Labor B \n",
    "| :-: | :-: | :-: | :-: |\n",
    "| U | 10 g | 1 hr | 2 hr |\n",
    "| V |  9 g | 1 hr | 1 hr |\n"
   ]
  },
  {
   "cell_type": "markdown",
   "metadata": {},
   "source": [
    "Python has many built-in data types and libraries that are useful for handling tabular data, and there are several options that would be appropriate for the task at hand. Nested dictionaries can be a good choice for smaller problems that have only a few columns. In the following examples, we will show how nested dictionaries can be used to represent the three tables that were described above.\n",
    "\n",
    "The first table of these describes the products. The product names will serve as keys for outermost dictionary, and attribute names as keys for the inner dictionaries. The attribute values will be interpreted as floating point numbers. `None` is used when a value is not present."
   ]
  },
  {
   "cell_type": "code",
   "execution_count": 13,
   "metadata": {},
   "outputs": [
    {
     "name": "stdout",
     "output_type": "stream",
     "text": [
      "U price      U\n",
      "U demand     U\n",
      "V price      V\n",
      "V demand     V\n"
     ]
    }
   ],
   "source": [
    "products = {\n",
    "    \"U\": {\"price\": 270, \"demand\": 40},\n",
    "    \"V\": {\"price\": 210, \"demand\": None},\n",
    "}\n",
    "\n",
    "# print data\n",
    "for product, attributes in products.items():\n",
    "    for attribute, value in attributes.items():\n",
    "        print(f\"{product} {attribute:10s} {product}\")"
   ]
  },
  {
   "cell_type": "markdown",
   "metadata": {},
   "source": [
    "The second table is the nested dictionary listing attributes and values for resources consumed. "
   ]
  },
  {
   "cell_type": "code",
   "execution_count": 24,
   "metadata": {},
   "outputs": [
    {
     "name": "stdout",
     "output_type": "stream",
     "text": [
      "M        price      10\n",
      "M        available  None\n",
      "labor A  price      50\n",
      "labor A  available  80\n",
      "labor B  price      40\n",
      "labor B  available  100\n"
     ]
    }
   ],
   "source": [
    "resources = {\n",
    "    \"M\": {\"price\": 10, \"available\": None},\n",
    "    \"labor A\": {\"price\": 50, \"available\":  80},\n",
    "    \"labor B\": {\"price\": 40, \"available\": 100},\n",
    "}\n",
    "\n",
    "for resource, attributes in resources.items():\n",
    "    for attribute, value in attributes.items():\n",
    "        print(f\"{resource:8s} {attribute:10s} {value}\")"
   ]
  },
  {
   "cell_type": "markdown",
   "metadata": {},
   "source": [
    "The third table data shows the amount of each resource needed to produce one unit of each product. The rows are labeled by product, and the columns labeled by by resource. "
   ]
  },
  {
   "cell_type": "code",
   "execution_count": 25,
   "metadata": {},
   "outputs": [
    {
     "name": "stdout",
     "output_type": "stream",
     "text": [
      "U    M          10\n",
      "U    labor A    1\n",
      "U    labor B    2\n",
      "V    M          9\n",
      "V    labor A    1\n",
      "V    labor B    1\n"
     ]
    }
   ],
   "source": [
    "processes = {\n",
    "    \"U\": {\"M\": 10, \"labor A\": 1, \"labor B\": 2},\n",
    "    \"V\": {\"M\":  9, \"labor A\": 1, \"labor B\": 1},\n",
    "}\n",
    "\n",
    "for product, process in processes.items():\n",
    "    for resource, value in process.items():\n",
    "        print(f\"{product:4s} {resource:10s} {value}\")"
   ]
  },
  {
   "cell_type": "markdown",
   "metadata": {
    "jp-MarkdownHeadingCollapsed": true,
    "tags": []
   },
   "source": [
    "## Mathematical model\n",
    "\n",
    "By rearranging the problem data into straightforward tables, the structure of the production planning problem becomes evident. We can identify a set of products, a set of resources, and a collection of parameters that specify the processes for transforming resources into products. Compared to the previous notebook, these abstractions allow us to create mathematical models that can adapt and scale with the supplied data.\n",
    "\n",
    "Let $\\cal{P}$ and $\\cal{R}$ be the set of products and resources, respectively, and let $p$ and $r$ be representative elements of those sets. We use indexed decision variables $x_r$ and $y_p$ to denote the amount of resource $r$ that is consumed in production, and $y_p$ to denote the amount of product $p$ produced. \n",
    "\n",
    "The problem data provides attributes that constrain the decision variables. For example, the decision variables all have lower bounds of zero, and some have upper bounds. We represent these as\n",
    "\n",
    "$$\n",
    "\\begin{aligned}\n",
    "    0 \\leq x_r \\leq b_r & & \\forall r\\in\\cal{R} \\\\\n",
    "    0 \\leq y_p \\leq b_p & & \\forall p\\in\\cal{P} \\\\\n",
    "\\end{aligned}\n",
    "$$\n",
    "\n",
    "where the upper bounds, $b_r$ and $b_q$, come from the tables of attributes. For cases where the upper bounds don't apply, we can either insert bounds larger than would ever be encountered, or, when we translate this model to Pyomo, designate a special value that causes the bound to be ignored.\n",
    "\n",
    "The objective is given as before,\n",
    "\n",
    "$$\n",
    "\\begin{aligned}\n",
    "    \\text{profit} & = \\text{revenue} - \\text{cost} \\\\\n",
    "\\end{aligned}\n",
    "$$\n",
    "\n",
    "but now the expressions for revenue and cost are\n",
    "\n",
    "$$\n",
    "\\begin{aligned}\n",
    "    \\text{revenue} & = \\sum_{p\\in\\cal{P}} c_p y_p  \\\\\n",
    "    \\text{cost} & = \\sum_{r\\in\\cal{R}} c_r x_r \\\\\n",
    "\\end{aligned}\n",
    "$$\n",
    "\n",
    "where $c_r$ and $c_p$ are parameters specifying the price for resources and products. The bounds on available resources can be written as\n",
    "\n",
    "$$\n",
    "\\begin{aligned}\n",
    "    \\sum_{p\\in\\cal{P}} a_{r, p} y_p & \\leq x_r & \\forall r\\in\\cal{R}\n",
    "\\end{aligned}\n",
    "$$\n",
    "\n",
    "Putting these pieces together, we have the following model for the production planning problem.\n",
    "\n",
    "$$\n",
    "\\begin{align}\n",
    "\\max \\quad & \\text{profit} = \\sum_{p\\in\\cal{P}} c_p y_p - \\sum_{r\\in\\cal{R}} c_r x_r \\\\\n",
    "\\text{such that} \\quad & \\sum_{p\\in\\cal{P}} a_{r, p} y_p  \\leq x_r & \\forall r\\in\\cal{R} \\nonumber \\\\\n",
    " &   0 \\leq x_r \\leq b_r & \\forall r\\in\\cal{R} \\nonumber  \\\\\n",
    " &   0 \\leq y_p \\leq b_p & \\forall p\\in\\cal{P} \\nonumber  \\\\\n",
    "\\end{align}\n",
    "$$\n",
    "\n",
    "Compared to the previous notebook, when formulated this way, the model can be applied to any problem with the same structure, regardless of the number of products or resources. This flexibility is possible due to the use of sets to describe the products and resources for a particular problem, indices to refer to elements of those sets, and data tables that hold the relevant parameter values.\n",
    "\n",
    "Generalizing mathematical models in this fashion is a common feature of many data science applications. Next we will see how this type of generalization is facilitated in Pyomo."
   ]
  },
  {
   "cell_type": "markdown",
   "metadata": {},
   "source": [
    "## The production model in Pyomo\n",
    "\n",
    "As before, we begin the construction of a Pyomo model by creating a `ConcreteModel`."
   ]
  },
  {
   "cell_type": "code",
   "execution_count": 26,
   "metadata": {},
   "outputs": [],
   "source": [
    "import pyomo.environ as pyo\n",
    "\n",
    "model = pyo.ConcreteModel()"
   ]
  },
  {
   "cell_type": "markdown",
   "metadata": {},
   "source": [
    "In mathematical optimization and modeling, a set serves as an indexed collection of elements that allows you to define variables, constraints, and other model components in a generalized way. Pyomo's `Set()` component serves the same purpose: it is used for defining index sets over which variables, parameters, constraints, or objectives can be defined. \n",
    "\n",
    "We use the Pyomo `Set()` to construct sets corresponding to the products and resources. Each set is initialized with the dictionary keys for the relevant attribute tables. These will later become indices for parameters, decision variables, and constraints."
   ]
  },
  {
   "cell_type": "code",
   "execution_count": 27,
   "metadata": {},
   "outputs": [],
   "source": [
    "model.PRODUCTS = pyo.Set(initialize=products.keys())\n",
    "model.RESOURCES = pyo.Set(initialize=resources.keys())"
   ]
  },
  {
   "cell_type": "markdown",
   "metadata": {},
   "source": [
    "The next step is to introduce parameters that will be used in the constraints and objective functions. These are indexed by products, or resources, or both. The parameter values are assigned to model name. We use Pyomo decorators to declare these parameters, where the function between decorated becomes the name of the parameter, and the function returns the parameter value from the problem data sets. This forms the interface between problem data and the Pyomo model.\n",
    "\n",
    "This step of declaring Pyomo `Param` objects is often omitted in Pyomo applications. In doing so, the modeler is making a choice to embed the external data representation directly into objectives and constraints of the problem. This can be effective, it does keep the code shorter, and may remove some computational overhead. However, it also blurs the boundary between the data representation and the model statements. Any change in data representation may require editing every place where that data is used in the model. By defining model parameters with `Param()`, the interface to the data representation is located in one clearly defined portion of a larger model, thereby significantly improving the long-term maintainabiity of models. This concern may be overkill in small models like we have here, but is a key consideration when constructing more complex applications.\n",
    "\n",
    "Note: The domain for the bounds is set to `Any` because some of them will take value `None`. Pyomo will omit a lower or upper bounds that has a value of `None`, so this is a way to keep the logic simple."
   ]
  },
  {
   "cell_type": "code",
   "execution_count": 28,
   "metadata": {},
   "outputs": [],
   "source": [
    "# parameter for bounds\n",
    "@model.Param(model.PRODUCTS, domain=pyo.Any)\n",
    "def demand(model, product):\n",
    "    return products[product]['demand']\n",
    "\n",
    "@model.Param(model.RESOURCES, domain=pyo.Any)\n",
    "def available(model, resource):\n",
    "    return resources[resource]['available']\n",
    "\n",
    "# parameter with price coefficients\n",
    "@model.Param(model.PRODUCTS)\n",
    "def cp(model, product):\n",
    "    return products[product]['price']\n",
    "\n",
    "@model.Param(model.RESOURCES)\n",
    "def cr(model, resource):\n",
    "    return resources[resource]['price']\n",
    "\n",
    "# process parameters: a[r,p]\n",
    "@model.Param(model.RESOURCES, model.PRODUCTS)\n",
    "def a(model, resource, product):\n",
    "    return processes[product][resource]"
   ]
  },
  {
   "cell_type": "markdown",
   "metadata": {},
   "source": [
    "The decision variables, $x$ and $y$, are indexed by the set of resources and products, respectively. The indexing is specified by passing the relevant sets as the first argumentns to Pyomo `Var()`. In addition to indexing, it always good practice to specify any known and fixed bounds on the variables. This is done by specifying a function (in Pyomo parlance sometimes called a rule) that returns the bound for a given index. Here we use a Python lambda function with two arguments, model and an index referring to a member of a set, to return a tuple with the lower and upper bound."
   ]
  },
  {
   "cell_type": "code",
   "execution_count": 29,
   "metadata": {},
   "outputs": [],
   "source": [
    "model.x = pyo.Var(model.RESOURCES, bounds=lambda model, resource: (0,  model.available[resource]))\n",
    "model.y = pyo.Var(model.PRODUCTS, bounds=lambda model, product: (0, model.demand[product]))"
   ]
  },
  {
   "cell_type": "markdown",
   "metadata": {},
   "source": [
    "The objective is expressed with Pyomo `quicksum` which accepts a Python generator to successive terms in the sum. Here we use the parameters $c_p$ and $c_r$ that appear in the mathematical version of the model, and which were declared above in the Pyomo version of the model."
   ]
  },
  {
   "cell_type": "code",
   "execution_count": 30,
   "metadata": {},
   "outputs": [],
   "source": [
    "model.revenue = pyo.quicksum(model.cp[product] * model.y[product] for product in model.PRODUCTS)\n",
    "model.cost = pyo.quicksum(model.cr[resource] * model.x[resource] for resource in model.RESOURCES)\n",
    "\n",
    "# create objective\n",
    "@model.Objective(sense=pyo.maximize)\n",
    "def profit(model):\n",
    "    return model.revenue - model.cost"
   ]
  },
  {
   "cell_type": "markdown",
   "metadata": {},
   "source": [
    "The Pyomo `Constraint` decorator accepts one or more sets as arguments. Then, for every member of every set, the decorated function creates an associated constraint. Creating indexed constraints indexed in this manner are an essential building block for more complex models."
   ]
  },
  {
   "cell_type": "code",
   "execution_count": 31,
   "metadata": {},
   "outputs": [],
   "source": [
    "# create indexed constraint\n",
    "@model.Constraint(model.RESOURCES)\n",
    "def materials_used(model, resource):\n",
    "    return pyo.quicksum(model.a[resource, product] * model.y[product] for product in model.PRODUCTS) <= model.x[resource]"
   ]
  },
  {
   "cell_type": "markdown",
   "metadata": {},
   "source": [
    "The final step is to solve the model and report the solution. Here we create a simple report using `pyo.value()` to access values of the decision variables, and using the model sets to construct iterators to report the value of indexed variables."
   ]
  },
  {
   "cell_type": "code",
   "execution_count": 32,
   "metadata": {},
   "outputs": [
    {
     "name": "stdout",
     "output_type": "stream",
     "text": [
      "3 Set Declarations\n",
      "    PRODUCTS : Size=1, Index=None, Ordered=Insertion\n",
      "        Key  : Dimen : Domain : Size : Members\n",
      "        None :     1 :    Any :    2 : {'U', 'V'}\n",
      "    RESOURCES : Size=1, Index=None, Ordered=Insertion\n",
      "        Key  : Dimen : Domain : Size : Members\n",
      "        None :     1 :    Any :    3 : {'M', 'labor A', 'labor B'}\n",
      "    a_index : Size=1, Index=None, Ordered=True\n",
      "        Key  : Dimen : Domain             : Size : Members\n",
      "        None :     2 : RESOURCES*PRODUCTS :    6 : {('M', 'U'), ('M', 'V'), ('labor A', 'U'), ('labor A', 'V'), ('labor B', 'U'), ('labor B', 'V')}\n",
      "\n",
      "5 Param Declarations\n",
      "    a : Size=6, Index=a_index, Domain=Any, Default=None, Mutable=False\n",
      "        Key              : Value\n",
      "              ('M', 'U') :    10\n",
      "              ('M', 'V') :     9\n",
      "        ('labor A', 'U') :     1\n",
      "        ('labor A', 'V') :     1\n",
      "        ('labor B', 'U') :     2\n",
      "        ('labor B', 'V') :     1\n",
      "    available : Size=3, Index=RESOURCES, Domain=Any, Default=None, Mutable=False\n",
      "        Key     : Value\n",
      "              M :  None\n",
      "        labor A :    80\n",
      "        labor B :   100\n",
      "    cp : Size=2, Index=PRODUCTS, Domain=Any, Default=None, Mutable=False\n",
      "        Key : Value\n",
      "          U :   270\n",
      "          V :   210\n",
      "    cr : Size=3, Index=RESOURCES, Domain=Any, Default=None, Mutable=False\n",
      "        Key     : Value\n",
      "              M :    10\n",
      "        labor A :    50\n",
      "        labor B :    40\n",
      "    demand : Size=2, Index=PRODUCTS, Domain=Any, Default=None, Mutable=False\n",
      "        Key : Value\n",
      "          U :    40\n",
      "          V :  None\n",
      "\n",
      "2 Var Declarations\n",
      "    x : Size=3, Index=RESOURCES\n",
      "        Key     : Lower : Value : Upper : Fixed : Stale : Domain\n",
      "              M :     0 :  None :  None : False :  True :  Reals\n",
      "        labor A :     0 :  None :    80 : False :  True :  Reals\n",
      "        labor B :     0 :  None :   100 : False :  True :  Reals\n",
      "    y : Size=2, Index=PRODUCTS\n",
      "        Key : Lower : Value : Upper : Fixed : Stale : Domain\n",
      "          U :     0 :  None :    40 : False :  True :  Reals\n",
      "          V :     0 :  None :  None : False :  True :  Reals\n",
      "\n",
      "1 Objective Declarations\n",
      "    profit : Size=1, Index=None, Active=True\n",
      "        Key  : Active : Sense    : Expression\n",
      "        None :   True : maximize : 270*y[U] + 210*y[V] - (10*x[M] + 50*x[labor A] + 40*x[labor B])\n",
      "\n",
      "1 Constraint Declarations\n",
      "    materials_used : Size=3, Index=RESOURCES, Active=True\n",
      "        Key     : Lower : Body                       : Upper : Active\n",
      "              M :  -Inf :    10*y[U] + 9*y[V] - x[M] :   0.0 :   True\n",
      "        labor A :  -Inf :   y[U] + y[V] - x[labor A] :   0.0 :   True\n",
      "        labor B :  -Inf : 2*y[U] + y[V] - x[labor B] :   0.0 :   True\n",
      "\n",
      "12 Declarations: PRODUCTS RESOURCES demand available cp cr a_index a x y profit materials_used\n",
      "Profit = 2600.0\n",
      "\n",
      "Production Report\n",
      " U  produced =  20.0\n",
      " V  produced =  60.0\n",
      "\n",
      "Resource Report\n",
      " M consumed = 740.0\n",
      " labor A consumed = 80.0\n",
      " labor B consumed = 100.0\n"
     ]
    }
   ],
   "source": [
    "model.pprint()\n",
    "\n",
    "# solve\n",
    "SOLVER.solve(model)\n",
    "\n",
    "# create a solution report\n",
    "print(f\"Profit = {pyo.value(model.profit)}\")\n",
    "\n",
    "print(\"\\nProduction Report\")\n",
    "for product in model.PRODUCTS:\n",
    "    print(f\" {product}  produced =  {pyo.value(model.y[product])}\")\n",
    "    \n",
    "print(\"\\nResource Report\")\n",
    "for resource in model.RESOURCES:\n",
    "    print(f\" {resource} consumed = {pyo.value(model.x[resource])}\")"
   ]
  },
  {
   "cell_type": "markdown",
   "metadata": {},
   "source": [
    "## For Python experts: Creating subclasses of `ConcreteModel`\n",
    "\n",
    "Some readers of these notebooks may be more experienced Python developers who wish to apply Pyomo in more specialized, data driven applications. The following cell shows how the Pyomo `ConcreteModel()` class can be extended by subclassing to create specialized model classes. Here we create a subclass called `ProductionModel` that accepts a particular representation of the problem data to produce a production model object. The production model object inherits all of the methods associated with any `ConcreteModel`, such as `.display()`, `.solve()`, and `.pprint()`, but can be extended with additional methods. "
   ]
  },
  {
   "cell_type": "code",
   "execution_count": 33,
   "metadata": {},
   "outputs": [
    {
     "name": "stdout",
     "output_type": "stream",
     "text": [
      "Profit = 2600.0\n",
      "\n",
      "Production Report\n",
      " U  produced =  20.0\n",
      " V  produced =  60.0\n",
      "\n",
      "Resource Report\n",
      " M consumed = 740.0\n",
      " labor A consumed = 80.0\n",
      " labor B consumed = 100.0\n"
     ]
    }
   ],
   "source": [
    "import pyomo.environ as pyo\n",
    "\n",
    "class ProductionModel(pyo.ConcreteModel):\n",
    "    \"\"\"\n",
    "    A class representing a production model using Pyomo.\n",
    "    \"\"\"\n",
    "    \n",
    "    def __init__(self, products, resources, processes):\n",
    "        \"\"\"\n",
    "        Initialize ProductionModel as an instance of a ConcreteModel.\n",
    "        \n",
    "        :param products: A dictionary containing product information.\n",
    "        :param resources: A dictionary containing resource information.\n",
    "        :param processes: A dictionary containing process information.\n",
    "        \"\"\"\n",
    "        super().__init__(\"Production Model\")\n",
    "        \n",
    "        # save data in the model instance\n",
    "        self.products = products\n",
    "        self.resources = resources\n",
    "        self.processes = processes\n",
    "        \n",
    "        # flag to monitor solution status\n",
    "        self.solved = False\n",
    "        \n",
    "    def build_model(self):\n",
    "        \"\"\"\n",
    "        Build the optimization model.\n",
    "        \"\"\"\n",
    "        # access the model\n",
    "        model = self.model()\n",
    "        \n",
    "        # create sets to index variables and constraints\n",
    "        model.PRODUCTS = self.products.keys()\n",
    "        model.RESOURCES = self.resources.keys()\n",
    "        \n",
    "        # decision variables\n",
    "        model.x = pyo.Var(model.RESOURCES, bounds=lambda model, resource: (0,  self.resources[resource]['available']))\n",
    "        model.y = pyo.Var(model.PRODUCTS, bounds=lambda model, product: (0, self.products[product]['demand']))\n",
    "        \n",
    "        # use expressions to break up complex objectives\n",
    "        model.revenue = pyo.quicksum(self.products[product]['price'] * model.y[product] for product in model.products)\n",
    "        model.cost = pyo.quicksum(self.resources[resource]['price'] * model.x[resource] for resource in model.resources)\n",
    "        \n",
    "        # create objective\n",
    "        @model.Objective(sense=pyo.maximize)\n",
    "        def profit(model):\n",
    "            return model.revenue - model.cost\n",
    "        \n",
    "        # create indexed constraint\n",
    "        @model.Constraint(model.RESOURCES)\n",
    "        def materials_used(model, resource):\n",
    "            return pyo.quicksum(self.processes[product][resource] * model.y[product] for product in model.PRODUCTS) <= model.x[resource]\n",
    "        \n",
    "    def solve(self, solver=SOLVER):\n",
    "        \"\"\"\n",
    "        Buildthe model, if necessary, then solve the optimization model.\n",
    "        \"\"\"\n",
    "        self.build_model()\n",
    "        solver.solve(self)\n",
    "        self.solved = True\n",
    "        \n",
    "    def report(self):\n",
    "        \"\"\"\n",
    "        Solve, if necessary, then report the model solution.\n",
    "        \"\"\"\n",
    "        if not self.solved:\n",
    "            self.solve(SOLVER)\n",
    "        print(f\"Profit = {pyo.value(self.profit)}\")\n",
    "        print(\"\\nProduction Report\")\n",
    "        for product in m.PRODUCTS:\n",
    "            print(f\" {product}  produced =  {pyo.value(self.y[product])}\")\n",
    "        print(\"\\nResource Report\")\n",
    "        for resource in m.RESOURCES:\n",
    "            print(f\" {resource} consumed = {pyo.value(self.x[resource])}\")\n",
    "\n",
    "\n",
    "m = ProductionModel(products, resources, processes)\n",
    "m.report()\n"
   ]
  },
  {
   "cell_type": "code",
   "execution_count": null,
   "metadata": {},
   "outputs": [],
   "source": []
  }
 ],
 "metadata": {
  "colab": {
   "authorship_tag": "ABX9TyNdeOT6zd9sxPjQMDuW2VRf",
   "provenance": []
  },
  "kernelspec": {
   "display_name": "Python 3 (ipykernel)",
   "language": "python",
   "name": "python3"
  },
  "language_info": {
   "codemirror_mode": {
    "name": "ipython",
    "version": 3
   },
   "file_extension": ".py",
   "mimetype": "text/x-python",
   "name": "python",
   "nbconvert_exporter": "python",
   "pygments_lexer": "ipython3",
   "version": "3.9.16"
  },
  "latex_envs": {
   "LaTeX_envs_menu_present": true,
   "autoclose": false,
   "autocomplete": true,
   "bibliofile": "biblio.bib",
   "cite_by": "apalike",
   "current_citInitial": 1,
   "eqLabelWithNumbers": true,
   "eqNumInitial": 1,
   "hotkeys": {
    "equation": "Ctrl-E",
    "itemize": "Ctrl-I"
   },
   "labels_anchors": false,
   "latex_user_defs": false,
   "report_style_numbering": false,
   "user_envs_cfg": false
  }
 },
 "nbformat": 4,
 "nbformat_minor": 4
}
