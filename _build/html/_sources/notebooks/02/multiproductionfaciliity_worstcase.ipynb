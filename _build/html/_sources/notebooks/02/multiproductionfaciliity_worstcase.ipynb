{
 "cells": [
  {
   "cell_type": "markdown",
   "metadata": {},
   "source": [
    "```{index} single: Pyomo; sets\n",
    "```\n",
    "```{index} single: Pyomo; parameters\n",
    "```\n",
    "```{index} single: application; production planning\n",
    "```\n",
    "```{index} single: solver; cbc\n",
    "```\n",
    "```{index} single: solver; highs\n",
    "```\n",
    "```{index} pandas dataframe\n",
    "```\n",
    "\n",
    "# Extra material: Multi-product facility production"
   ]
  },
  {
   "cell_type": "markdown",
   "metadata": {},
   "source": [
    "## Preamble: Install Pyomo and a solver\n",
    "\n",
    "This cell selects and verifies a global SOLVER for the notebook.\n",
    "\n",
    "If run on Google Colab, the cell installs Pyomo and HiGHS, then sets SOLVER to \n",
    "use the Highs solver via the appsi module. If run elsewhere, it assumes Pyomo and CBC\n",
    "have been previously installed and sets SOLVER to use the CBC solver via the Pyomo \n",
    "SolverFactory. It then verifies that SOLVER is available."
   ]
  },
  {
   "cell_type": "code",
   "execution_count": 1,
   "metadata": {
    "colab": {
     "base_uri": "https://localhost:8080/"
    },
    "id": "5ssUqKOaPVaE",
    "outputId": "38c1005a-39f4-4307-e305-19a4c9819396"
   },
   "outputs": [],
   "source": [
    "import sys\n",
    "\n",
    "if 'google.colab' in sys.modules:\n",
    "    !pip install pyomo >/dev/null 2>/dev/null\n",
    "    !pip install highspy >/dev/null 2>/dev/null\n",
    "\n",
    "    from pyomo.contrib import appsi\n",
    "    SOLVER = appsi.solvers.Highs(only_child_vars=False)\n",
    "    \n",
    "else:\n",
    "    from pyomo.environ import SolverFactory\n",
    "    SOLVER = SolverFactory('cbc')\n",
    "\n",
    "assert SOLVER.available(), f\"Solver {SOLVER} is not available.\""
   ]
  },
  {
   "cell_type": "markdown",
   "metadata": {},
   "source": [
    "## Maximizing the profit in the worst case for a multi-product facility\n",
    "\n",
    "A common formulation for the problem of maximizing profit of a multi-product facility in a resource constrained environment is given by the following LP\n",
    "\n",
    "$$\n",
    "\\begin{align*}\n",
    "\\max\\ \\text{profit}  = \\sum_{j\\in J} c_j x_j &\\\\\n",
    "\\text{s.t.} \\qquad \\sum_{j\\in J} a_{ij}x_j & \\leq b_i & \\forall \\, i \\in I\\\\\n",
    "x_j & \\geq 0 & \\forall \\, j\\in J,\n",
    "\\end{align*}\n",
    "$$\n",
    "\n",
    "where $x_j$ is the production of product $j\\in J$, $c_j$ is the net profit from producing and selling one unit of product $j$, $a_{i, j}$ is the amount of resource $i$ required to product a unit of product $j$, and $b_i$ is amount of resource $i\\in I$ available. If this data is available, then the linear programming solution can provide a considerable of information regarding an optimal production plan and the marginal value of additional resources.\n",
    "\n",
    "But what if coefficients of the model are uncertain? What should be the objective then? Does uncertainty change the production plan? Does the uncertainty change the marginal value assigned to resources? These are complex and thorny questions that will be largely reserved for later chapters of this book. However, it is possible to consider a specific situation within the current context.\n",
    "\n",
    "Consider a situation where there are multiple plausible models for the net profit. These might be a result of marketing studies or from considering plant operation under multiple scenarios, which we collect in a set $S$. The set of profit models could be written\n",
    "\n",
    "$$\n",
    "\\begin{align*}\n",
    "\\text{profit}_s & = \\sum_{j} c_j^s x_j & \\forall \\, s\\in S\n",
    "\\end{align*}\n",
    "$$\n",
    "\n",
    "where $s$ indexes the set of possible scenarios. The scenarios are all deemed equal, no probabilistic interpretation is given. \n",
    "\n",
    "One conservative criterion is to find maximize profit for the worst case. Letting $z$ denote the profit for the worst case, this criterion requires finding a solution for ${x_j}$ for ${j\\in J}$ that satisfies\n",
    "\n",
    "$$\n",
    "\\begin{align*}\n",
    "\\max_{x_j} z & \\\\\n",
    "\\\\\n",
    "\\text{s.t.} \\qquad \\sum_{j\\in J} c_j^s x_j & \\geq z& \\forall \\, s\\in S\\\\\n",
    "\\sum_{j\\in J} a_{ij}x_j & \\leq b_i & \\forall \\, i \\in I\\\\\n",
    "x_j & \\geq 0 & \\forall \\, j\\in J\n",
    "\\end{align*}\n",
    "$$\n",
    "\n",
    "where $z$ is lowest profit that would be encountered under any condition.\n"
   ]
  },
  {
   "cell_type": "markdown",
   "metadata": {
    "tags": []
   },
   "source": [
    "## Data"
   ]
  },
  {
   "cell_type": "code",
   "execution_count": 2,
   "metadata": {
    "colab": {
     "base_uri": "https://localhost:8080/"
    },
    "id": "l5emuDb-2xFf",
    "outputId": "640ac337-93f9-431d-a73b-b58f199c0489"
   },
   "outputs": [
    {
     "name": "stdout",
     "output_type": "stream",
     "text": [
      "\n",
      "Profit scenarios\n"
     ]
    },
    {
     "data": {
      "text/html": [
       "<div>\n",
       "<style scoped>\n",
       "    .dataframe tbody tr th:only-of-type {\n",
       "        vertical-align: middle;\n",
       "    }\n",
       "\n",
       "    .dataframe tbody tr th {\n",
       "        vertical-align: top;\n",
       "    }\n",
       "\n",
       "    .dataframe thead th {\n",
       "        text-align: right;\n",
       "    }\n",
       "</style>\n",
       "<table border=\"1\" class=\"dataframe\">\n",
       "  <thead>\n",
       "    <tr style=\"text-align: right;\">\n",
       "      <th></th>\n",
       "      <th>product 1</th>\n",
       "      <th>product 2</th>\n",
       "    </tr>\n",
       "    <tr>\n",
       "      <th>scenarios</th>\n",
       "      <th></th>\n",
       "      <th></th>\n",
       "    </tr>\n",
       "  </thead>\n",
       "  <tbody>\n",
       "    <tr>\n",
       "      <th>0</th>\n",
       "      <td>12</td>\n",
       "      <td>9</td>\n",
       "    </tr>\n",
       "    <tr>\n",
       "      <th>1</th>\n",
       "      <td>11</td>\n",
       "      <td>10</td>\n",
       "    </tr>\n",
       "    <tr>\n",
       "      <th>2</th>\n",
       "      <td>8</td>\n",
       "      <td>11</td>\n",
       "    </tr>\n",
       "  </tbody>\n",
       "</table>\n",
       "</div>"
      ],
      "text/plain": [
       "           product 1  product 2\n",
       "scenarios                      \n",
       "0                 12          9\n",
       "1                 11         10\n",
       "2                  8         11"
      ]
     },
     "metadata": {},
     "output_type": "display_data"
    },
    {
     "name": "stdout",
     "output_type": "stream",
     "text": [
      "\n",
      "Available resources and resource requirements\n"
     ]
    },
    {
     "data": {
      "text/html": [
       "<div>\n",
       "<style scoped>\n",
       "    .dataframe tbody tr th:only-of-type {\n",
       "        vertical-align: middle;\n",
       "    }\n",
       "\n",
       "    .dataframe tbody tr th {\n",
       "        vertical-align: top;\n",
       "    }\n",
       "\n",
       "    .dataframe thead th {\n",
       "        text-align: right;\n",
       "    }\n",
       "</style>\n",
       "<table border=\"1\" class=\"dataframe\">\n",
       "  <thead>\n",
       "    <tr style=\"text-align: right;\">\n",
       "      <th></th>\n",
       "      <th>available</th>\n",
       "      <th>product 1</th>\n",
       "      <th>product 2</th>\n",
       "    </tr>\n",
       "    <tr>\n",
       "      <th>resource</th>\n",
       "      <th></th>\n",
       "      <th></th>\n",
       "      <th></th>\n",
       "    </tr>\n",
       "  </thead>\n",
       "  <tbody>\n",
       "    <tr>\n",
       "      <th>silicon</th>\n",
       "      <td>1000</td>\n",
       "      <td>1</td>\n",
       "      <td>0</td>\n",
       "    </tr>\n",
       "    <tr>\n",
       "      <th>germanium</th>\n",
       "      <td>1500</td>\n",
       "      <td>0</td>\n",
       "      <td>1</td>\n",
       "    </tr>\n",
       "    <tr>\n",
       "      <th>plastic</th>\n",
       "      <td>1750</td>\n",
       "      <td>1</td>\n",
       "      <td>1</td>\n",
       "    </tr>\n",
       "    <tr>\n",
       "      <th>copper</th>\n",
       "      <td>4000</td>\n",
       "      <td>1</td>\n",
       "      <td>2</td>\n",
       "    </tr>\n",
       "  </tbody>\n",
       "</table>\n",
       "</div>"
      ],
      "text/plain": [
       "           available  product 1  product 2\n",
       "resource                                  \n",
       "silicon         1000          1          0\n",
       "germanium       1500          0          1\n",
       "plastic         1750          1          1\n",
       "copper          4000          1          2"
      ]
     },
     "metadata": {},
     "output_type": "display_data"
    }
   ],
   "source": [
    "import pandas as pd\n",
    "\n",
    "BIM_scenarios = pd.DataFrame([\n",
    "    [12, 9], \n",
    "    [11, 10], \n",
    "    [8, 11]], \n",
    "    columns=[\"product 1\", \"product 2\"])\n",
    "\n",
    "BIM_scenarios.index.name = \"scenarios\"\n",
    "print(\"\\nProfit scenarios\")\n",
    "display(BIM_scenarios)\n",
    "\n",
    "BIM_resources = pd.DataFrame([\n",
    "    [\"silicon\", 1000, 1, 0],\n",
    "    [\"germanium\", 1500, 0, 1],\n",
    "    [\"plastic\", 1750, 1, 1],\n",
    "    [\"copper\", 4000, 1, 2]],\n",
    "    columns = [\"resource\", \"available\", \"product 1\", \"product 2\"])\n",
    "BIM_resources = BIM_resources.set_index(\"resource\")\n",
    "    \n",
    "print(\"\\nAvailable resources and resource requirements\")\n",
    "display(BIM_resources)\n",
    "    "
   ]
  },
  {
   "cell_type": "markdown",
   "metadata": {},
   "source": [
    "## Pyomo Model\n",
    "\n",
    "An implementation of the maximum worst-case profit model."
   ]
  },
  {
   "cell_type": "code",
   "execution_count": 3,
   "metadata": {
    "id": "m33AGCU_PSJw",
    "tags": []
   },
   "outputs": [
    {
     "name": "stdout",
     "output_type": "stream",
     "text": [
      "\n",
      "Worst case profit = 17500.0\n",
      "\n",
      "Worst case production plan:\n"
     ]
    },
    {
     "data": {
      "text/plain": [
       "product 1     583.33333\n",
       "product 2    1166.66670\n",
       "Name: worst case, dtype: float64"
      ]
     },
     "metadata": {},
     "output_type": "display_data"
    }
   ],
   "source": [
    "import pyomo.environ as pyo\n",
    "\n",
    "def maxmin(scenarios, resources):\n",
    "    \n",
    "    model    = pyo.ConcreteModel('BIM')\n",
    "    \n",
    "    products = resources.columns.tolist()\n",
    "    products.remove('available')\n",
    "    \n",
    "    model.I = pyo.Set(initialize=resources.index)\n",
    "    model.J = pyo.Set(initialize=products)\n",
    "    model.S = pyo.Set(initialize=scenarios.index)\n",
    "    \n",
    "    model.a = pyo.Param(model.I, model.J, rule = lambda model, i, j: resources.loc[i, j])\n",
    "    model.b = pyo.Param(model.I, rule = lambda model, i: resources.loc[i, \"available\"])\n",
    "    model.c = pyo.Param(model.S, model.J, rule = lambda model, s, j: scenarios.loc[s, j])\n",
    "    \n",
    "    model.x = pyo.Var(model.J, domain=pyo.NonNegativeReals)\n",
    "    model.z  = pyo.Var() \n",
    "    \n",
    "    @model.Objective(sense=pyo.maximize)\n",
    "    def profit(model):\n",
    "        return model.z\n",
    "    \n",
    "    @model.Constraint(model.S)\n",
    "    def scenario_profit(m, s):\n",
    "        return m.z <= sum(model.c[s, j] * model.x[j] for j in model.J)\n",
    "        \n",
    "    @model.Constraint(model.I)\n",
    "    def resource_limits(model, i):\n",
    "        return sum(model.a[i, j] * model.x[j] for j in model.J) <= model.b[i]\n",
    "\n",
    "    return model\n",
    "\n",
    "BIM = maxmin(BIM_scenarios, BIM_resources)\n",
    "SOLVER.solve(BIM)\n",
    "\n",
    "worst_case_plan = pd.Series({j: BIM.x[j]() for j in BIM.J}, name=\"worst case\")\n",
    "worst_case_profit = BIM.profit()\n",
    "\n",
    "print(\"\\nWorst case profit =\", worst_case_profit)\n",
    "print(f\"\\nWorst case production plan:\")\n",
    "display(worst_case_plan)"
   ]
  },
  {
   "cell_type": "markdown",
   "metadata": {},
   "source": [
    "## Is maximizing the worst case a good idea?\n",
    "\n",
    "Maximizing the worst case among all cases is a conservative planning outlook. It may be worth investigating alternative planning outlooks.\n",
    "\n",
    "The first step is to create a model to optimize a single scenario. Without repeating the mathematical description, the following Pyomo model is simply the `maxmin` model adapted to a single scenario."
   ]
  },
  {
   "cell_type": "code",
   "execution_count": 4,
   "metadata": {},
   "outputs": [],
   "source": [
    "def max_profit(scenario, resources):\n",
    "    \n",
    "    model    = pyo.ConcreteModel('BIM')\n",
    "    \n",
    "    products = resources.columns.tolist()\n",
    "    products.remove('available')\n",
    "    \n",
    "    model.I = pyo.Set(initialize=resources.index)\n",
    "    model.J = pyo.Set(initialize=products)\n",
    "    \n",
    "    model.a = pyo.Param(model.I, model.J, rule = lambda model, i, j: resources.loc[i, j])\n",
    "    model.b = pyo.Param(model.I, rule = lambda model, i: resources.loc[i, \"available\"])\n",
    "    model.c = pyo.Param(model.J, rule = lambda model, j: scenario[j])\n",
    "    \n",
    "    model.x = pyo.Var(model.J, domain=pyo.NonNegativeReals)\n",
    "    model.z  = pyo.Var() \n",
    "    \n",
    "    @model.Objective(sense=pyo.maximize)\n",
    "    def profit(m, s):\n",
    "        return sum(model.c[j] * model.x[j] for j in model.J)\n",
    "        \n",
    "    @model.Constraint(model.I)\n",
    "    def resource_limits(model, i):\n",
    "        return sum(model.a[i, j] * model.x[j] for j in model.J) <= model.b[i]\n",
    "\n",
    "    return model"
   ]
  },
  {
   "cell_type": "markdown",
   "metadata": {},
   "source": [
    "## Optimizing for the mean scenario\n",
    "\n",
    "The next cell computes the optimal plan for the mean scenario."
   ]
  },
  {
   "cell_type": "code",
   "execution_count": 5,
   "metadata": {
    "tags": []
   },
   "outputs": [
    {
     "name": "stdout",
     "output_type": "stream",
     "text": [
      "\n",
      "Mean case profit = 17833.3\n",
      "\n",
      "Mean case production plan:\n",
      "product 1    1000.0\n",
      "product 2     750.0\n",
      "Name: mean case, dtype: float64\n"
     ]
    }
   ],
   "source": [
    "# create mean scenario\n",
    "mean_case = max_profit(BIM_scenarios.mean(), BIM_resources)\n",
    "SOLVER.solve(mean_case)\n",
    "\n",
    "mean_case_profit = mean_case.profit()\n",
    "mean_case_plan = pd.Series({j: mean_case.x[j]() for j in mean_case.J}, name=\"mean case\")\n",
    "\n",
    "print(f\"\\nMean case profit = {mean_case_profit:0.1f}\")\n",
    "print(\"\\nMean case production plan:\")\n",
    "print(mean_case_plan)"
   ]
  },
  {
   "cell_type": "markdown",
   "metadata": {},
   "source": [
    "The expected profit under the mean scenario if 17,833 which is 333 greater than for the worst case. Also note the production plan is different.\n",
    "\n",
    "Which plan should be preferred? The one that produces a guaranteed profit of 17,500 under all scenarios, or one that produces expected profit of 17,833?"
   ]
  },
  {
   "cell_type": "code",
   "execution_count": 6,
   "metadata": {
    "tags": []
   },
   "outputs": [
    {
     "data": {
      "image/png": "[encoded data removed]",
      "text/plain": [
       "<Figure size 640x480 with 1 Axes>"
      ]
     },
     "metadata": {},
     "output_type": "display_data"
    }
   ],
   "source": [
    "mean_case_outcomes = BIM_scenarios.dot(mean_case_plan)\n",
    "mean_case_outcomes.name = \"mean outcomes\"\n",
    "\n",
    "worst_case_outcomes = BIM_scenarios.dot(worst_case_plan)\n",
    "worst_case_outcomes.name = \"worst case outcomes\"\n",
    "\n",
    "ax = pd.concat([worst_case_outcomes, mean_case_outcomes], axis=1).plot(kind=\"bar\", ylim=(15000, 20000))\n",
    "ax.axhline(worst_case_profit)\n",
    "ax.axhline(worst_case_outcomes.mean(), linestyle='--', label=\"worst case plan, mean\")\n",
    "ax.axhline(mean_case_outcomes.mean(), linestyle='--', color='orange', label=\"mean case plan, mean\")\n",
    "_ = ax.legend()"
   ]
  },
  {
   "cell_type": "code",
   "execution_count": 7,
   "metadata": {},
   "outputs": [
    {
     "data": {
      "image/png": "[encoded data removed]",
      "text/plain": [
       "<Figure size 640x480 with 1 Axes>"
      ]
     },
     "metadata": {},
     "output_type": "display_data"
    }
   ],
   "source": [
    "ax = pd.concat([worst_case_plan, mean_case_plan], axis=1).plot(kind=\"bar\")"
   ]
  },
  {
   "cell_type": "markdown",
   "metadata": {},
   "source": [
    "## Summary\n",
    "\n",
    "Planning for the worst case reduces the penalty of a bad outcome. But it comes at the cost of reducing the expected payout, the also the maximum payout should the most favorable scenario occur.\n",
    "\n",
    "1. Which plan would you choose.  Why?  \n",
    "\n",
    "2. Make a case for the other choice.\n",
    "\n"
   ]
  }
 ],
 "metadata": {
  "kernelspec": {
   "display_name": "Python 3 (ipykernel)",
   "language": "python",
   "name": "python3"
  },
  "language_info": {
   "codemirror_mode": {
    "name": "ipython",
    "version": 3
   },
   "file_extension": ".py",
   "mimetype": "text/x-python",
   "name": "python",
   "nbconvert_exporter": "python",
   "pygments_lexer": "ipython3",
   "version": "3.9.16"
  }
 },
 "nbformat": 4,
 "nbformat_minor": 4
}
