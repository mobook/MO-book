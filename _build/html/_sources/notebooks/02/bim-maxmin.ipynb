{
 "cells": [
  {
   "cell_type": "markdown",
   "metadata": {},
   "source": [
    "```{index} single: solver; cbc\n",
    "```\n",
    "```{index} single: solver; highs\n",
    "```\n",
    "\n",
    "# BIM production for worst case"
   ]
  },
  {
   "cell_type": "markdown",
   "metadata": {},
   "source": [
    "## Preamble: Install Pyomo and a solver\n",
    "\n",
    "This cell selects and verifies a global SOLVER for the notebook.\n",
    "\n",
    "If run on Google Colab, the cell installs Pyomo and HiGHS, then sets SOLVER to \n",
    "use the Highs solver via the appsi module. If run elsewhere, it assumes Pyomo and CBC\n",
    "have been previously installed and sets SOLVER to use the CBC solver via the Pyomo \n",
    "SolverFactory. It then verifies that SOLVER is available."
   ]
  },
  {
   "cell_type": "code",
   "execution_count": 1,
   "metadata": {
    "colab": {
     "base_uri": "https://localhost:8080/"
    },
    "id": "5ssUqKOaPVaE",
    "outputId": "38c1005a-39f4-4307-e305-19a4c9819396"
   },
   "outputs": [],
   "source": [
    "import sys\n",
    "\n",
    "if 'google.colab' in sys.modules:\n",
    "    !pip install pyomo >/dev/null 2>/dev/null\n",
    "    !pip install highspy >/dev/null 2>/dev/null\n",
    "\n",
    "    from pyomo.contrib import appsi\n",
    "    SOLVER = appsi.solvers.Highs(only_child_vars=False)\n",
    "    \n",
    "else:\n",
    "    from pyomo.environ import SolverFactory\n",
    "    SOLVER = SolverFactory('cbc')\n",
    "\n",
    "assert SOLVER.available(), f\"Solver {SOLVER} is not available.\""
   ]
  },
  {
   "cell_type": "markdown",
   "metadata": {},
   "source": [
    "## Minmax objective function\n",
    "\n",
    "Another class of seemingly complicated objective functions that can be easily rewritten as an LP are those stated as maxima over several linear functions. Given a finite set of indices $K$ and a collection of vectors $\\{c_k\\}_{k \\in K}$, the minimax problem given by\n",
    "\n",
    "$$\n",
    "\\begin{align}\n",
    "        \\min \\; \\max_{k \\in K} \\; c^\\top_{k} x\n",
    "\\end{align}\n",
    "$$\n",
    "\n",
    "General expressions like the latter can be linearized by introducing an auxiliary variable $z$ and setting\n",
    "\n",
    "$$\n",
    "\\begin{align*}\n",
    "    \\min \\quad & z  \\\\\n",
    "    \\text{s.t.} \\quad & c^\\top_{k} x \\leq z \\qquad \\forall\\, k \\in K.\n",
    "\\end{align*}\n",
    "$$\n",
    "\n",
    "This technique works because if *all* the quantities corresponding to different indices $k \\in K$ are below the auxiliary variable $z$, then we are guaranteed that also their maximum is also below $z$ and vice versa. Note that the absolute value function can be rewritten $|x_i|= \\max\\{x_i, -x_i\\}$, hence the linearization of the optimization problem involving absolute values in the objective functions is a special case of this. \n"
   ]
  },
  {
   "cell_type": "markdown",
   "metadata": {},
   "source": [
    "## BIM problem variant: Maximizing the lowest possible profit\n",
    "\n",
    "In the same way we can minimize a maximum like above, we can also maximize the minimum. Let us consider the [BIM microchip production problem](bim.ipynb), but suppose that there is uncertainty regarding the selling prices of the microchips. Instead of just the nominal prices 12 € and 9 €, BIM estimates that the prices may more generally take the values $P=\\{ (12,9), (11,10), (8, 11) \\}$. The optimization problem for a production plan that achieves the maximum among the lowest possible profits can be formulated using the trick mentioned above and can be implemented in Pyomo as follows."
   ]
  },
  {
   "cell_type": "code",
   "execution_count": 2,
   "metadata": {
    "id": "m33AGCU_PSJw"
   },
   "outputs": [
    {
     "name": "stdout",
     "output_type": "stream",
     "text": [
      "x = (583.3, 1166.7)\n",
      "revenue = 17500.00\n"
     ]
    }
   ],
   "source": [
    "import pyomo.environ as pyo\n",
    "\n",
    "def BIM_maxmin(costs):\n",
    "    \n",
    "    m = pyo.ConcreteModel('BIM with maxmin objective')\n",
    "    \n",
    "    m.x1 = pyo.Var(domain=pyo.NonNegativeReals)\n",
    "    m.x2 = pyo.Var(domain=pyo.NonNegativeReals)\n",
    "    m.z = pyo.Var() \n",
    "\n",
    "    m.profit = pyo.Objective(sense= pyo.maximize, expr = m.z)\n",
    "\n",
    "    m.maxmin = pyo.ConstraintList()\n",
    "    for (c1, c2) in costs:\n",
    "        m.maxmin.add(expr = m.z <= c1*m.x1 + c2*m.x2) \n",
    "\n",
    "    m.silicon = pyo.Constraint(expr = m.x1 <= 1000)\n",
    "    m.germanium = pyo.Constraint(expr = m.x2 <= 1500)\n",
    "    m.plastic = pyo.Constraint(expr = m.x1 + m.x2 <= 1750)\n",
    "    m.copper = pyo.Constraint(expr = 4*m.x1 + 2*m.x2 <= 4800)\n",
    "\n",
    "    return m\n",
    "    \n",
    "BIM = BIM_maxmin([[12, 9], [11, 10], [8, 11]])\n",
    "\n",
    "SOLVER.solve(BIM)\n",
    "\n",
    "print(f\"x = ({pyo.value(BIM.x1):.1f}, {pyo.value(BIM.x2):.1f})\")\n",
    "print(f\"revenue = {pyo.value(BIM.profit):.2f}\")"
   ]
  },
  {
   "cell_type": "code",
   "execution_count": null,
   "metadata": {},
   "outputs": [],
   "source": []
  }
 ],
 "metadata": {
  "kernelspec": {
   "display_name": "Python 3 (ipykernel)",
   "language": "python",
   "name": "python3"
  },
  "language_info": {
   "codemirror_mode": {
    "name": "ipython",
    "version": 3
   },
   "file_extension": ".py",
   "mimetype": "text/x-python",
   "name": "python",
   "nbconvert_exporter": "python",
   "pygments_lexer": "ipython3",
   "version": "3.9.16"
  }
 },
 "nbformat": 4,
 "nbformat_minor": 4
}
