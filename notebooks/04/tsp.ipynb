{
 "cells": [
  {
   "cell_type": "markdown",
   "metadata": {
    "id": "ZvYdCo_EVI5R"
   },
   "source": [
    "# Optimizing the Traveling Salesman Problem\n",
    "\n",
    "This notebook can be seen as an addition to Chapter 3 (since it concerns mixed integer models, and analyses differences in strength) and to Chapter 4 (since it addresses a network optimization problem).\n",
    "\n",
    "In this notebook we illustrate a number of things:\n",
    " 1. That different **correct** models for the same (mixed) integer optimization problem may require substantially different effort to optimize.\n",
    " 1. That different models can be combined, and why that may become interesting.\n",
    " 1. That very large models can be specified 'on a need basis' by adding only the constraints that are needed for a specific instance.  \n",
    " 1. That exploiting knowledge about the instance (e.g. symmetry of the cost function) may dramatically reduce optimization effort. \n",
    "\n",
    "This notebook focuses on the [Traveling Salesman Problem](https://en.wikipedia.org/wiki/Travelling_salesman_problem) which may be the most studied (combinatorial) optimization problem.\n",
    "\n",
    "A wonderful [source](https://www.math.uwaterloo.ca/tsp/) you may like to visit is maintained by [Prof. Bill Cook](https://www.math.uwaterloo.ca/~bico/).\n",
    "You may consider reading this enlightening and exciting [book on the pursuit](https://press.princeton.edu/books/paperback/9780691163529/in-pursuit-of-the-traveling-salesman).\n",
    "\n",
    "The main challenge when modelling the TSP is the _connectivity_ of the solution. \n",
    "\n",
    "The [WikiPedia page](https://en.wikipedia.org/wiki/Travelling_salesman_problem) lists two well-known models, the [Miller–Tucker–Zemlin](https://en.wikipedia.org/wiki/Travelling_salesman_problem#Miller%E2%80%93Tucker%E2%80%93Zemlin_formulation[21]) and the [Dantzig–Fulkerson–Johnson](https://en.wikipedia.org/wiki/Travelling_salesman_problem#Dantzig%E2%80%93Fulkerson%E2%80%93Johnson_formulation).\n",
    "\n",
    "These are not the only TSP models, see [this](https://co-enzyme.fr/blog/spanning-tree-flow-based-formulations-for-the-asymmetric-traveling-salesman-problem-tsp/) or [this](https://dm872.github.io/assets/dm872-TSP_Formulations.pdf) overviews. \n",
    "A thorough [comparison](https://www.sciencedirect.com/science/article/pii/S2192437620600115) is also available. \n",
    "\n",
    "Besides the practical computation difficulties, different formulations also have different merits as basis to model different business requirements. \n",
    "A good example is this [very rich routing problem](https://onlinelibrary.wiley.com/doi/full/10.1002/net.21962) for which the computational impact of different model choices for the TSP parts of it has also been [studied](https://www.ubvu.vu.nl/scripties/getpdf.cfm?facid=27&id=21392).\n",
    "\n",
    "As said, we focus on the [MTZ](https://en.wikipedia.org/wiki/Travelling_salesman_problem#Miller%E2%80%93Tucker%E2%80%93Zemlin_formulation[21]) and the [DFJ](https://en.wikipedia.org/wiki/Travelling_salesman_problem#Dantzig%E2%80%93Fulkerson%E2%80%93Johnson_formulation) models. \n",
    "\n",
    "A first inspection to these models may invite you to choose the former and abandon any consideration of the latter, on the grounds of compactness: the [MTZ](https://en.wikipedia.org/wiki/Travelling_salesman_problem#Miller%E2%80%93Tucker%E2%80%93Zemlin_formulation[21]) model consists of a polynomial number of variables and constraints, while the [DFJ](https://en.wikipedia.org/wiki/Travelling_salesman_problem#Dantzig%E2%80%93Fulkerson%E2%80%93Johnson_formulation) model requires an exponential number of constraints. \n",
    "\n",
    "In the case of the TSP, as this notebook shows, the strength of models is of paramount importance when we need to actually solve the problem. \n",
    "\n",
    "In the end, compactness may ***not*** be all what matters!"
   ]
  },
  {
   "cell_type": "markdown",
   "metadata": {
    "id": "16wFkKVWVI5U"
   },
   "source": [
    "## Preamble\n",
    "\n",
    "Let us start importing the modules that we will need. "
   ]
  },
  {
   "cell_type": "code",
   "execution_count": null,
   "metadata": {
    "colab": {
     "base_uri": "https://localhost:8080/"
    },
    "id": "TqNZMulSVkGi",
    "outputId": "b090f19b-6221-435e-bf02-2d9875f09955"
   },
   "outputs": [
    {
     "name": "stdout",
     "output_type": "stream",
     "text": [
      "Looking in indexes: https://pypi.org/simple, https://us-python.pkg.dev/colab-wheels/public/simple/\n",
      "Collecting highspy\n",
      "  Downloading highspy-1.5.3-cp310-cp310-manylinux_2_17_x86_64.manylinux2014_x86_64.whl (2.0 MB)\n",
      "\u001b[2K     \u001b[90m━━━━━━━━━━━━━━━━━━━━━━━━━━━━━━━━━━━━━━━━\u001b[0m \u001b[32m2.0/2.0 MB\u001b[0m \u001b[31m22.7 MB/s\u001b[0m eta \u001b[36m0:00:00\u001b[0m\n",
      "\u001b[?25hInstalling collected packages: highspy\n",
      "Successfully installed highspy-1.5.3\n",
      "Looking in indexes: https://pypi.org/simple, https://us-python.pkg.dev/colab-wheels/public/simple/\n",
      "Collecting gurobipy\n",
      "  Downloading gurobipy-10.0.1-cp310-cp310-manylinux2014_x86_64.whl (12.7 MB)\n",
      "\u001b[2K     \u001b[90m━━━━━━━━━━━━━━━━━━━━━━━━━━━━━━━━━━━━━━━━\u001b[0m \u001b[32m12.7/12.7 MB\u001b[0m \u001b[31m77.8 MB/s\u001b[0m eta \u001b[36m0:00:00\u001b[0m\n",
      "\u001b[?25hInstalling collected packages: gurobipy\n",
      "Successfully installed gurobipy-10.0.1\n",
      "Looking in indexes: https://pypi.org/simple, https://us-python.pkg.dev/colab-wheels/public/simple/\n",
      "Collecting pyomo\n",
      "  Downloading Pyomo-6.6.0-cp310-cp310-manylinux_2_17_x86_64.manylinux2014_x86_64.whl (11.9 MB)\n",
      "\u001b[2K     \u001b[90m━━━━━━━━━━━━━━━━━━━━━━━━━━━━━━━━━━━━━━━━\u001b[0m \u001b[32m11.9/11.9 MB\u001b[0m \u001b[31m64.2 MB/s\u001b[0m eta \u001b[36m0:00:00\u001b[0m\n",
      "\u001b[?25hCollecting ply (from pyomo)\n",
      "  Downloading ply-3.11-py2.py3-none-any.whl (49 kB)\n",
      "\u001b[2K     \u001b[90m━━━━━━━━━━━━━━━━━━━━━━━━━━━━━━━━━━━━━━━━\u001b[0m \u001b[32m49.6/49.6 kB\u001b[0m \u001b[31m6.6 MB/s\u001b[0m eta \u001b[36m0:00:00\u001b[0m\n",
      "\u001b[?25hInstalling collected packages: ply, pyomo\n",
      "Successfully installed ply-3.11 pyomo-6.6.0\n"
     ]
    }
   ],
   "source": [
    "# install pyomo and select solver\n",
    "import sys\n",
    "\n",
    "SOLVER = \"cbc\"\n",
    "\n",
    "if \"google.colab\" in sys.modules:\n",
    "    !pip install highspy #>/dev/null\n",
    "    !pip install gurobipy\n",
    "    !pip install pyomo\n",
    "    SOLVER = \"appsi_highs\""
   ]
  },
  {
   "cell_type": "code",
   "execution_count": null,
   "metadata": {
    "id": "bhuckK94VI5V"
   },
   "outputs": [],
   "source": [
    "import os, os.path, string, re, requests, numpy as np, matplotlib.pyplot as plt, itertools as it, pandas as pd, pyomo.environ as pyo\n",
    "from time import perf_counter as pc\n",
    "from tqdm.notebook import tqdm\n",
    "from datetime import timedelta\n",
    "from scipy.spatial import distance_matrix as euclidean"
   ]
  },
  {
   "cell_type": "markdown",
   "metadata": {
    "id": "ZtJdQEBXFeiY"
   },
   "source": [
    "# Solvers and utilities\n",
    "\n",
    "We will illustrate the differences between free and commercial solvers, and also the advantages of having the ability of modifying a model while solving with a persistent solver. "
   ]
  },
  {
   "cell_type": "code",
   "execution_count": null,
   "metadata": {
    "id": "oUZbzGlgYfBh"
   },
   "outputs": [],
   "source": [
    "# !pyomo help --solvers"
   ]
  },
  {
   "cell_type": "code",
   "execution_count": null,
   "metadata": {
    "id": "7On4m18pVI5Z"
   },
   "outputs": [],
   "source": [
    "free_solver       = pyo.SolverFactory( SOLVER )\n",
    "commercial_solver = pyo.SolverFactory( 'gurobi_direct' )\n",
    "persistent_solver = pyo.SolverFactory( 'gurobi_persistent' )"
   ]
  },
  {
   "cell_type": "markdown",
   "metadata": {
    "id": "eYK9U8IAFeiZ"
   },
   "source": [
    "A transformation to obtain the linear relaxation of a given model."
   ]
  },
  {
   "cell_type": "code",
   "execution_count": null,
   "metadata": {
    "id": "UU00bmNDFeiZ"
   },
   "outputs": [],
   "source": [
    "linear_relaxation = pyo.TransformationFactory('core.relax_integer_vars')"
   ]
  },
  {
   "cell_type": "markdown",
   "metadata": {
    "id": "lKvK0jHoFeiZ"
   },
   "source": [
    "A simple function to display an elapsed number of seconds as a digital clock."
   ]
  },
  {
   "cell_type": "code",
   "execution_count": null,
   "metadata": {
    "id": "-pIQallewhlt"
   },
   "outputs": [],
   "source": [
    "display_seconds = lambda sec : str( timedelta( seconds=sec ) )[:-3]"
   ]
  },
  {
   "cell_type": "markdown",
   "metadata": {
    "id": "lOLdeltgFeia"
   },
   "source": [
    "## Data format"
   ]
  },
  {
   "cell_type": "markdown",
   "metadata": {
    "id": "5Py7cDgNVI5W"
   },
   "source": [
    "Since the TSP is very well-known and widely studied, there exists a [de-facto standard](http://comopt.ifi.uni-heidelberg.de/software/TSPLIB95/tsp95.pdf) for the data format of its instances. \n",
    "\n",
    "This is important due to the richness of widely studied benchmark instances. \n",
    "Later down this notebook we will read such instances from the internet, we start generating random instances of convenient sizes and introduce some convenience functions to deal with their representation in `python` data structures. \n",
    "\n",
    "The most important part of the data is for now the `NODE_COORD_SECTION` which we model as a list of triplets: `(index,x,y)`.\n",
    "\n",
    "We limit us to the rounded integer values of the `EUC_2D` option for `EDGE_WEIGHT_TYPE` as described in [TSPLIB95](http://comopt.ifi.uni-heidelberg.de/software/TSPLIB95/tsp95.pdf) for the lengths of the route segments.\n",
    "\n",
    "Later we will read instances in that format from the internet.\n",
    "Now we generate instances of convenient sizes. "
   ]
  },
  {
   "cell_type": "code",
   "execution_count": null,
   "metadata": {
    "id": "m9vDH79FFeia"
   },
   "outputs": [],
   "source": [
    "def GenerateTSP( n=10, seed = 2023 ):\n",
    "    np.random.seed( seed )\n",
    "    instance = {}\n",
    "    instance['NAME'] = 'n=' + str(n) + ' seed=' + str(seed)\n",
    "    instance['NODE_COORD_SECTION'] = [ (i+1,np.random.randint( 100 ),np.random.randint( 100 )) for i in range(n) ]\n",
    "    return instance"
   ]
  },
  {
   "cell_type": "markdown",
   "metadata": {
    "id": "4dabxBOQFeib"
   },
   "source": [
    "## Functions to handle instances and solutions\n",
    "\n",
    "When we read (or generate instances) we create `python` data structures that we manipulate with the functions below."
   ]
  },
  {
   "cell_type": "code",
   "execution_count": null,
   "metadata": {
    "id": "QgNzs5rrVI5W"
   },
   "outputs": [],
   "source": [
    "def GetCostMatrix( instance ):\n",
    "    XY = np.asmatrix( [(x,y) for _,x,y in instance['NODE_COORD_SECTION']] )\n",
    "    return np.round(euclidean(XY,XY),0).astype(int)\n",
    "\n",
    "def GetRouteCost( route, C ):\n",
    "    departure = route[:-1]\n",
    "    arrival = route[1:]\n",
    "    return sum(C[departure,arrival])\n",
    "\n",
    "def GetIndicesAndReverseLookup( instance ):\n",
    "    I = [ i for i,*_ in instance['NODE_COORD_SECTION'] ]\n",
    "    R = { i : idx for idx,i in enumerate(I) }\n",
    "    return I, R\n",
    "\n",
    "def GetCoordinates( instance ):\n",
    "    XY  = [(x,y) for _,x,y in instance['NODE_COORD_SECTION']]\n",
    "    X,Y = zip(*XY)\n",
    "    return np.array(X), np.array(Y)\n",
    "\n",
    "def ShowTSP( instance, sol=[], node_labels=False, how='' ):\n",
    "    \n",
    "    I, R = GetIndicesAndReverseLookup( instance )\n",
    "    X, Y = GetCoordinates( instance )\n",
    "\n",
    "    C = GetCostMatrix( instance )\n",
    "    n = len( C )\n",
    "    if len( sol ) == n:\n",
    "        sol.append( sol[0] )\n",
    "        \n",
    "    S = [ R[s] for s in sol ]\n",
    "        \n",
    "    markersize = 15 if node_labels else 5\n",
    "    \n",
    "    plt.plot( X,Y, 'ro', markersize=markersize )\n",
    "    if len(sol) > 0:\n",
    "        plt.plot( X[S[0]],Y[S[0]], 'yo', markersize=markersize )    \n",
    "        \n",
    "    plt.plot( X[S], Y[S], 'g-' )\n",
    "    \n",
    "    if node_labels:\n",
    "        for i,x,y in zip(I,X,Y):\n",
    "            plt.annotate( f'{i}', (x,y), ha=\"center\", va=\"center\", color = 'white', fontsize=10 )\n",
    "        if len(sol) > 0:\n",
    "                plt.annotate( f'{sol[0]}', ( X[S[0]],Y[S[0]] ), ha=\"center\", va=\"center\", color = 'r', fontsize=10 )\n",
    "        \n",
    "    plt.gca().set_xlabel('x')\n",
    "    plt.gca().set_ylabel('y')\n",
    "\n",
    "    plt.title( f\"{instance['NAME']:s} {f'cost={GetRouteCost( S, C )}' if S else ''} {how:s}\" )\n",
    "    \n",
    "    plt.axis('equal')\n",
    "\n",
    "    plt.show()"
   ]
  },
  {
   "cell_type": "markdown",
   "metadata": {
    "id": "OWl7dLOtVI5X"
   },
   "source": [
    "# First impressions\n",
    "\n",
    "We generate a first instance of small size to start playing with. "
   ]
  },
  {
   "cell_type": "code",
   "execution_count": null,
   "metadata": {
    "colab": {
     "base_uri": "https://localhost:8080/",
     "height": 472
    },
    "id": "uJ1_P29AVI5X",
    "outputId": "73bf0176-37aa-4efa-ea01-ef75710a161d"
   },
   "outputs": [
    {
     "data": {
      "image/png": "[encoded data removed]",
      "text/plain": [
       "<Figure size 640x480 with 1 Axes>"
      ]
     },
     "metadata": {},
     "output_type": "display_data"
    }
   ],
   "source": [
    "instance = GenerateTSP( 10 )\n",
    "ShowTSP( instance, node_labels=True )"
   ]
  },
  {
   "cell_type": "markdown",
   "metadata": {
    "id": "WV60RNd1VI5X"
   },
   "source": [
    "Just to show that the node labels may be very generic, we replace the numerical (1-based) indices by letters. "
   ]
  },
  {
   "cell_type": "code",
   "execution_count": null,
   "metadata": {
    "colab": {
     "base_uri": "https://localhost:8080/",
     "height": 472
    },
    "id": "eP8Z5KzbVI5Y",
    "outputId": "f324c2c3-b57e-4ad1-ca42-1eb8c6e2d6fc"
   },
   "outputs": [
    {
     "data": {
      "image/png": "[encoded data removed]",
      "text/plain": [
       "<Figure size 640x480 with 1 Axes>"
      ]
     },
     "metadata": {},
     "output_type": "display_data"
    }
   ],
   "source": [
    "abc = list(string.ascii_lowercase)\n",
    "instance['NODE_COORD_SECTION'] = [(i,x,y) for (i,(_,x,y)) in zip(abc,instance['NODE_COORD_SECTION'])]\n",
    "ShowTSP( instance, node_labels=True )"
   ]
  },
  {
   "cell_type": "markdown",
   "metadata": {
    "id": "2vIVQOTPVI5Y"
   },
   "source": [
    "# The models\n",
    "\n",
    "Most of the models consider the decision variables: \n",
    "$$\n",
    "   x_{ij} = \\left\\{\n",
    "     \\begin{array}{lr}\n",
    "       1 & \\text{if node } j \\text{ follows node } i \\\\\n",
    "       0 & \\text{otherwise}                          \\\\\n",
    "     \\end{array}\n",
    "   \\right.\n",
    "$$\n",
    "Later we will see how to reduce these number of variables to (less than) half in case of symmetric distances. \n",
    "\n",
    "All models aim at minimizing the total distance traveled: $\\sum_{i,j \\in N} c_{ij}x_{ij}$.\n",
    "\n",
    "The models share a core: they model the degree of the nodes and the number of node pairs chosen in the solution.\n",
    "In the sequel, we refer to a chosen pair $(i,j)$ of nodes as an _arc_, which we may also call an _edge_ in case the distances are symmetric. \n",
    "Pair (or arc) $(i,j)$ being chosen means that node $j$ follows node $i$ in the solutions, i.e. $x_{ij} = 1$.\n",
    "\n",
    "Models based on arcs (i.e. listing all pairs $(i,j)$ of potential choices) share a **bipartite matching** or **linear assignment** core:\n",
    "$$\n",
    "\\begin{array}{rrcll}\n",
    "\\min    & \\sum_{i,j \\in N} c_{ij}x_{ij} \\\\\n",
    "s.t.    & \\sum_{i \\in N} x_{ij}              & =    & 1     & \\forall j \\in N                       \\\\\n",
    "        & \\sum_{j \\in N} x_{ij}              & =    & 1     & \\forall i \\in N                       \\\\\n",
    "        & x_{ij} \\in \\{0,1\\}                 &      &       & \\forall i, j \\in N                    \n",
    "\\end{array}\n",
    "$$\n",
    "As we learnt from Chapter 4, imposing the integrality (binary nature in this case) of the decision variables on the core model above is redundant, as it is natural integral by nature of its constraint matrix being [TUM](https://en.wikipedia.org/wiki/Unimodular_matrix#Total_unimodularity).\n",
    "\n",
    "Since this property vanishes as soon as we complement the model in any known way (albeit some [published work](https://arxiv.org/pdf/cs/0609005) erroneously saying otherwise, see also entry 17 of this wonderful [legacy page](https://www.win.tue.nl/~wscor/woeginger/P-versus-NP.htm)) to reach a valid TSP model, we state the variables $x_{ij}$ variables as binary.  \n",
    "\n",
    "The core model forces the degree of each node to be 2 (one arc entering the node and one leaving it) and also force $n$ arcs to be used (that this is implied by the model above can be easily seen by adding any of the two groups of constraints).\n",
    "\n",
    "Models vary in the way the way the enforce connectivity, as the core part fails in doing that. In fact, $x_{ii} = 1$ for all $i$ is feasible, but the TSP clearly leaves all vertices. \n",
    "\n",
    "An immediate improvement to the core model is just to fix the `self-loops` to 0, i.e. $x_{ii} = 0$, but that is not enough as pairwise loops $x_{ij} = x_{ji} = 1$ become the next culprit.\n",
    "\n",
    "An inductive reasoning on how to forbid all this _sub-tours_ leads to the well-known [**Dantzig, Fulkerson and Johnson**](https://en.wikipedia.org/wiki/Travelling_salesman_problem#Dantzig%E2%80%93Fulkerson%E2%80%93Johnson_formulation) model \n",
    "and formulates the TSP as:\n",
    "$$\n",
    "\\begin{array}{rrcll}\n",
    "\\min    & \\sum_{i,j \\in N} c_{ij}x_{ij} \\\\\n",
    "s.t.    & \\sum_{i \\in N} x_{ij}   & =    & 1     & \\forall j \\in N                       \\\\\n",
    "        & \\sum_{j \\in N} x_{ij}   & =    & 1     & \\forall i \\in N                       \\\\\n",
    "        & \\sum_{i,j \\in S} x_{ij} & \\leq & |S|-1 & \\forall \\emptyset \\subset S \\subset N \\\\\n",
    "        & x_{ij} \\in \\{0,1\\}      &      &       & \\forall i, j \\in N                    \\\\\n",
    "\\end{array}\n",
    "$$\n",
    "The model above prohibits the choice of enough arcs on each subset of nodes to sub-tour on those nodes. \n",
    "\n",
    "An equivalent version of the same seems to be more popular, enforcing each subset of nodes to be connected to its complement. \n",
    "$$\n",
    "\\begin{array}{rrcll}\n",
    "\\min    & \\sum_{i,j \\in N} c_{ij}x_{ij} \\\\\n",
    "s.t.    & \\sum_{i \\in N} x_{ij}              & =    & 1     & \\forall j \\in N                       \\\\\n",
    "        & \\sum_{j \\in N} x_{ij}              & =    & 1     & \\forall i \\in N                       \\\\\n",
    "        & \\sum_{i \\in S, j \\not\\in S} x_{ij} & \\geq & 1     & \\forall \\emptyset \\subset S \\subset N \\\\\n",
    "        & x_{ij} \\in \\{0,1\\}                 &      &       & \\forall i, j \\in N                    \\\\\n",
    "\\end{array}\n",
    "$$\n",
    "\n",
    "Since this model requires an exponential number of (so-called sub-tour elimination) constraints we may prefer to start with a more compact model. \n",
    "\n",
    "Fortunately, a [compact](https://en.wikipedia.org/wiki/Travelling_salesman_problem#Miller-Tucker-Zemlin_formulation) model exists. \n",
    "This ingenious model, devised by C. E. Miller, Alfred E. Tucker and R. A. Zemlin in 1960 adds _sequence_ variables $u_i$ and replace the connectivity (also known as subtour elimination) constraints which are in a exponential number by circa $n^2$ sequence constraints. \n",
    "\n",
    "$$\n",
    "\\begin{array}{rrcll}\n",
    "\\min    & \\sum_{i,j \\in N} c_{ij}x_{ij} \\\\\n",
    "s.t.    & \\sum_{i \\in N} x_{ij} & =    & 1    & \\forall j \\in N                              \\\\\n",
    "        & \\sum_{j \\in N} x_{ij} & =    & 1    & \\forall i \\in N                              \\\\\n",
    "        & x_{ij} \\in \\{0,1\\}    &      &      & \\forall i, j \\in N                           \\\\\n",
    "        & u_i - u_j + nx_{ij}   & \\leq & n-1  & \\forall i,j \\in N : 2 \\leq i \\not = j \\leq n \\\\\n",
    "        & u_i \\in [0,n-2]       &      &      & \\forall i \\in N                              \\\\\n",
    "\\end{array}\n",
    "$$\n",
    "\n",
    "In fact, this model has been strengthened by several authors, see [this paper](https://www.sciencedirect.com/science/article/pii/S0166218X00003139).\n",
    "\n",
    "The first improvement is as below:\n",
    "$$\n",
    "\\begin{array}{rrcll}\n",
    "\\min    & \\sum_{i,j \\in N} c_{ij}x_{ij} \\\\\n",
    "s.t.    & \\sum_{i \\in N} x_{ij}   & =    & 1    & \\forall j \\in N                              \\\\\n",
    "        & \\sum_{j \\in N} x_{ij}   & =    & 1    & \\forall i \\in N                              \\\\\n",
    "        & x_{ij} \\in \\{0,1\\}      &      &      & \\forall i, j \\in N                           \\\\\n",
    "        & u_i - u_j + (n-1)x_{ij} & \\leq & n-2  & \\forall i,j \\in N : 2 \\leq i \\not = j \\leq n \\\\\n",
    "        & u_i \\in [0,n-2]         &      &      & \\forall i \\in N                              \\\\\n",
    "\\end{array}\n",
    "$$\n",
    "\n",
    "The best known as below:\n",
    "$$\n",
    "\\begin{array}{rrcll}\n",
    "\\min    & \\sum_{i,j \\in N} c_{ij}x_{ij} \\\\\n",
    "s.t.    & \\sum_{i \\in N} x_{ij}                 & =    & 1    & \\forall j \\in N                              \\\\\n",
    "        & \\sum_{j \\in N} x_{ij}                 & =    & 1    & \\forall i \\in N                              \\\\\n",
    "        & x_{ij} \\in \\{0,1\\}                    &      &      & \\forall i, j \\in N                           \\\\\n",
    "        & u_i - u_j + (n-1)x_{ij} + (n-3)x_{ji} & \\leq & n-2  & \\forall i,j \\in N : 2 \\leq i \\not = j \\leq n \\\\\n",
    "        & u_i \\in [0,n-2]                       &      &      & \\forall i \\in N                              \\\\\n",
    "\\end{array}\n",
    "$$\n",
    "These versions of the MTZ model are equivalent in how they model connectivity, but have increasingly tighter linear relaxations.\n",
    "\n",
    "Below we will consider three MTZ models: the basic one, the one improved by [Desrochers and Laporte](https://www.sciencedirect.com/science/article/pii/0167637791900832) and the best one so far by [Gouveia and Pires](https://www.sciencedirect.com/science/article/pii/S0166218X00003139)."
   ]
  },
  {
   "cell_type": "markdown",
   "metadata": {
    "id": "_QPRXM_zVI5Z"
   },
   "source": [
    "## Building blocks for TSP models \n",
    "\n",
    "As the good programmers that we all are, we will strive for modularity and reuse.\n",
    "We will not regret!"
   ]
  },
  {
   "cell_type": "code",
   "execution_count": null,
   "metadata": {
    "id": "UJd00qLvVI5Z"
   },
   "outputs": [],
   "source": [
    "def LAP( instance ):\n",
    "    I, R = GetIndicesAndReverseLookup( instance )\n",
    "    C    = GetCostMatrix( instance )\n",
    "    \n",
    "    m = pyo.ConcreteModel('LAP')\n",
    "    \n",
    "    m.n = pyo.Param( initialize=len(C), mutable=False )\n",
    "    \n",
    "    m.I = pyo.Set( initialize=I )\n",
    "    m.IJ= m.I*m.I\n",
    "    m.c = pyo.Param( m.IJ, initialize=lambda m, i, j : C[R[i],R[j]], mutable=False )\n",
    "    m.x = pyo.Var( m.IJ, domain=pyo.Binary )\n",
    "    \n",
    "    @m.Objective( sense=pyo.minimize )\n",
    "    def Cost( m ):\n",
    "        return pyo.quicksum( m.c[i,j]*m.x[i,j] for i,j in m.IJ )\n",
    "    \n",
    "    @m.Constraint(m.I)\n",
    "    def DepartFromEach( m, i ):\n",
    "        return pyo.quicksum( m.x[i,j] for j in m.I ) ==  1 \n",
    "    \n",
    "    @m.Constraint(m.I)\n",
    "    def ArriveAtEach( m, i ):\n",
    "        return pyo.quicksum( m.x[j,i] for j in m.I ) ==  1 \n",
    "        \n",
    "    return m"
   ]
  },
  {
   "cell_type": "markdown",
   "metadata": {
    "id": "-ci5gfD9Feie"
   },
   "source": [
    "Note that the code below is a bit tricky: the functions **do** modify the model that they take as argument. \n",
    "The fact that they return the model could lead into believing that not to be the case, but it is. \n",
    "This construction has the convenience of allowing cascading (composing) function calls."
   ]
  },
  {
   "cell_type": "code",
   "execution_count": null,
   "metadata": {
    "id": "IBCBOE8CVI5Z"
   },
   "outputs": [],
   "source": [
    "def ForbidDiagonal( m ):\n",
    "    \n",
    "    @m.Constraint( m.I )\n",
    "    def ForbidStaying( m, i ):\n",
    "        return m.x[i,i] == 0\n",
    "    \n",
    "    return m"
   ]
  },
  {
   "cell_type": "code",
   "execution_count": null,
   "metadata": {
    "id": "ZTn6bFI9VI5Z"
   },
   "outputs": [],
   "source": [
    "def PrepareMTZ( m ):\n",
    "    \n",
    "    skip_first = list(m.I)[1:]\n",
    "    m.I1 = pyo.Set( initialize=skip_first ) \n",
    "    m.IJ1= pyo.Set( dimen=2, initialize=it.permutations(skip_first,2) )\n",
    "    \n",
    "    m.u = pyo.Var( m.I1, bounds=(0,m.n-2) )\n",
    "    \n",
    "    return m"
   ]
  },
  {
   "cell_type": "code",
   "execution_count": null,
   "metadata": {
    "id": "MCkaGRNqVI5a"
   },
   "outputs": [],
   "source": [
    "def OriginalMTZ( m ):\n",
    "        \n",
    "    @m.Constraint( m.IJ1 )\n",
    "    def MTZ( m, i, j ):\n",
    "        return m.u[i] - m.u[j] + m.n*m.x[i,j] <= m.n - 1\n",
    "    \n",
    "    return m"
   ]
  },
  {
   "cell_type": "code",
   "execution_count": null,
   "metadata": {
    "id": "a7WL6gfvVI5a"
   },
   "outputs": [],
   "source": [
    "def ImprovedMTZ( m ):\n",
    "        \n",
    "    @m.Constraint( m.IJ1 )\n",
    "    def MTZ( m, i, j ):\n",
    "        return m.u[i] - m.u[j] + (m.n-1)*m.x[i,j] <= m.n - 2\n",
    "    \n",
    "    return m"
   ]
  },
  {
   "cell_type": "code",
   "execution_count": null,
   "metadata": {
    "id": "JIr03AhRVI5a"
   },
   "outputs": [],
   "source": [
    "def BestMTZ( m ):\n",
    "        \n",
    "    @m.Constraint( m.IJ1 )\n",
    "    def MTZ( m, i, j ):\n",
    "        return m.u[i] - m.u[j] + (m.n-1)*m.x[i,j] +(m.n-3)*m.x[j,i] <= m.n - 2\n",
    "    \n",
    "    return m"
   ]
  },
  {
   "cell_type": "markdown",
   "metadata": {
    "id": "CJMZVDVcFeig"
   },
   "source": [
    "## Examining solutions"
   ]
  },
  {
   "cell_type": "code",
   "execution_count": null,
   "metadata": {
    "id": "kqOsEC_bVI5b"
   },
   "outputs": [],
   "source": [
    "def GetNodeSuccessorFromArcVariables( m ):\n",
    "    return { i : j for i,j in m.IJ if m.x[i,j]() > 0.5 }\n",
    "\n",
    "def PartitionSuccessorIntoCycles( successor ):\n",
    "    result    = [];\n",
    "    unvisited = set(successor.keys())\n",
    "    for i in successor.keys():\n",
    "        if i in unvisited:\n",
    "            current = i\n",
    "            cycle   = []\n",
    "            while current in unvisited:\n",
    "                unvisited.remove(current)\n",
    "                cycle.append( (current,successor[current]) )\n",
    "                current = successor[current]\n",
    "            result.append(cycle)\n",
    "    return result\n",
    "\n",
    "def GetArcsInSolutionPartitionedInCycles( m ):\n",
    "    return PartitionSuccessorIntoCycles( GetNodeSuccessorFromArcVariables( m ) )"
   ]
  },
  {
   "cell_type": "code",
   "execution_count": null,
   "metadata": {
    "id": "LyrrhfCcVI5c"
   },
   "outputs": [],
   "source": [
    "def ListNodesInSolution( m ):\n",
    "    succ = GetNodeSuccessorFromArcVariables(m)\n",
    "    sol = [ next(iter(succ.keys())) ]\n",
    "    while not succ[sol[-1]] in sol:\n",
    "        sol.append(succ[sol[-1]])\n",
    "    sol.append( sol[0] )\n",
    "    return sol"
   ]
  },
  {
   "cell_type": "code",
   "execution_count": null,
   "metadata": {
    "id": "5OikrhhBFeig"
   },
   "outputs": [],
   "source": [
    "def GetSolutionFromMTZFollowingU( m ):\n",
    "    sequence = ['']*(m.n()-1)\n",
    "    for k,v in m.u.items():\n",
    "        sequence[int(round(v()))] = k\n",
    "    return sequence"
   ]
  },
  {
   "cell_type": "markdown",
   "metadata": {
    "id": "RqVC25CzFeig"
   },
   "source": [
    "## Experiments"
   ]
  },
  {
   "cell_type": "code",
   "execution_count": null,
   "metadata": {
    "id": "BIpBL5XjFeih"
   },
   "outputs": [],
   "source": [
    "mtz_models = [OriginalMTZ,ImprovedMTZ,BestMTZ]"
   ]
  },
  {
   "cell_type": "code",
   "execution_count": null,
   "metadata": {
    "colab": {
     "base_uri": "https://localhost:8080/"
    },
    "id": "u4NwF2CGVI5b",
    "outputId": "f725cc2c-63ed-4271-ae60-470f66537255"
   },
   "outputs": [
    {
     "data": {
      "text/plain": [
       "{'OriginalMTZ': (True, 307.0, '0:00:00.379', 'gfdjciebh'),\n",
       " 'ImprovedMTZ': (True, 307.0, '0:00:00.223', 'gfdjciebh'),\n",
       " 'BestMTZ': (True, 307.0, '0:00:00.203', 'hbeicjdfg')}"
      ]
     },
     "execution_count": 21,
     "metadata": {},
     "output_type": "execute_result"
    }
   ],
   "source": [
    "results = dict()\n",
    "for f in mtz_models:\n",
    "    m = f(PrepareMTZ(ForbidDiagonal(LAP(instance))))\n",
    "    t = pc() \n",
    "    r = free_solver.solve( m, tee=False )\n",
    "    t = pc()-t\n",
    "    assert GetSolutionFromMTZFollowingU(m) == ListNodesInSolution(m)[1:-1]\n",
    "    results[ f.__name__] = pyo.check_optimal_termination( r ), round( m.Cost(), 1 ), display_seconds(t), ''.join(GetSolutionFromMTZFollowingU(m))\n",
    "results"
   ]
  },
  {
   "cell_type": "markdown",
   "metadata": {
    "id": "KYXZM4fbFeih"
   },
   "source": [
    "We can see that the solution found may differ due to the symmetry of the costs, when drawn they are all the same as the one below (the last one found above). \n",
    "Note the special role played by the first node: the tour starts and ends there, therefore the `u` variables list the order of the intermediate nodes. "
   ]
  },
  {
   "cell_type": "code",
   "execution_count": null,
   "metadata": {
    "colab": {
     "base_uri": "https://localhost:8080/",
     "height": 472
    },
    "id": "KayWXRYDwhly",
    "outputId": "3ebc20e3-8131-427c-cb72-b32028f415f7"
   },
   "outputs": [
    {
     "data": {
      "image/png": "[encoded data removed]",
      "text/plain": [
       "<Figure size 640x480 with 1 Axes>"
      ]
     },
     "metadata": {},
     "output_type": "display_data"
    }
   ],
   "source": [
    "ShowTSP( instance, ListNodesInSolution(m), True, display_seconds(t) )"
   ]
  },
  {
   "cell_type": "markdown",
   "metadata": {
    "id": "kpsLFmPZFeih"
   },
   "source": [
    "## How does the strength of the MTZ models differ?"
   ]
  },
  {
   "cell_type": "code",
   "execution_count": null,
   "metadata": {
    "id": "X3gr5aTFFein"
   },
   "outputs": [],
   "source": [
    "tsp_dimensions = list(range(5,101,5))"
   ]
  },
  {
   "cell_type": "code",
   "execution_count": null,
   "metadata": {
    "colab": {
     "base_uri": "https://localhost:8080/",
     "height": 708,
     "referenced_widgets": [
      "8f6c1441e3cc4b7d812885d6056cb410",
      "f2c9d9a23ffd4ee3a41cd34bfc9f7f18",
      "b4bed8b9a27b470cb43b3340d0420309",
      "c820c162decb4f4998ecb2ec6043766c",
      "0af6ac0c261341c49240bbf7064ffdc1",
      "efb6d5667bd14e829590118ec230f529",
      "6293385bed0146f0ba7eb045e85cfcdf",
      "b4732465a9644338aab47f55d27fb512",
      "863590793f1140a7abb3fbf67788eef2",
      "91e19c1c695a4f78bf867e9c7f621ec6",
      "c9d9e29c3545447b8d7a1640075be07e"
     ]
    },
    "id": "UWSNtMIiVI5a",
    "outputId": "c76a4ac6-35b6-42c3-c89f-5e8e5fbe8690"
   },
   "outputs": [
    {
     "data": {
      "application/vnd.jupyter.widget-view+json": {
       "model_id": "8f6c1441e3cc4b7d812885d6056cb410",
       "version_major": 2,
       "version_minor": 0
      },
      "text/plain": [
       "  0%|          | 0/20 [00:00<?, ?it/s]"
      ]
     },
     "metadata": {},
     "output_type": "display_data"
    },
    {
     "data": {
      "text/html": [
       "<style type=\"text/css\">\n",
       "</style>\n",
       "<table id=\"T_a1247\" class=\"dataframe\">\n",
       "  <thead>\n",
       "    <tr>\n",
       "      <th class=\"blank level0\" >&nbsp;</th>\n",
       "      <th id=\"T_a1247_level0_col0\" class=\"col_heading level0 col0\" >OriginalMTZ</th>\n",
       "      <th id=\"T_a1247_level0_col1\" class=\"col_heading level0 col1\" >ImprovedMTZ</th>\n",
       "      <th id=\"T_a1247_level0_col2\" class=\"col_heading level0 col2\" >BestMTZ</th>\n",
       "    </tr>\n",
       "  </thead>\n",
       "  <tbody>\n",
       "    <tr>\n",
       "      <th id=\"T_a1247_level0_row0\" class=\"row_heading level0 row0\" >5</th>\n",
       "      <td id=\"T_a1247_row0_col0\" class=\"data row0 col0\" >255.400</td>\n",
       "      <td id=\"T_a1247_row0_col1\" class=\"data row0 col1\" >257.000</td>\n",
       "      <td id=\"T_a1247_row0_col2\" class=\"data row0 col2\" >265.000</td>\n",
       "    </tr>\n",
       "    <tr>\n",
       "      <th id=\"T_a1247_level0_row1\" class=\"row_heading level0 row1\" >10</th>\n",
       "      <td id=\"T_a1247_row1_col0\" class=\"data row1 col0\" >271.300</td>\n",
       "      <td id=\"T_a1247_row1_col1\" class=\"data row1 col1\" >271.333</td>\n",
       "      <td id=\"T_a1247_row1_col2\" class=\"data row1 col2\" >286.000</td>\n",
       "    </tr>\n",
       "    <tr>\n",
       "      <th id=\"T_a1247_level0_row2\" class=\"row_heading level0 row2\" >15</th>\n",
       "      <td id=\"T_a1247_row2_col0\" class=\"data row2 col0\" >232.267</td>\n",
       "      <td id=\"T_a1247_row2_col1\" class=\"data row2 col1\" >233.143</td>\n",
       "      <td id=\"T_a1247_row2_col2\" class=\"data row2 col2\" >314.000</td>\n",
       "    </tr>\n",
       "    <tr>\n",
       "      <th id=\"T_a1247_level0_row3\" class=\"row_heading level0 row3\" >20</th>\n",
       "      <td id=\"T_a1247_row3_col0\" class=\"data row3 col0\" >291.300</td>\n",
       "      <td id=\"T_a1247_row3_col1\" class=\"data row3 col1\" >291.579</td>\n",
       "      <td id=\"T_a1247_row3_col2\" class=\"data row3 col2\" >349.000</td>\n",
       "    </tr>\n",
       "    <tr>\n",
       "      <th id=\"T_a1247_level0_row4\" class=\"row_heading level0 row4\" >25</th>\n",
       "      <td id=\"T_a1247_row4_col0\" class=\"data row4 col0\" >311.080</td>\n",
       "      <td id=\"T_a1247_row4_col1\" class=\"data row4 col1\" >311.167</td>\n",
       "      <td id=\"T_a1247_row4_col2\" class=\"data row4 col2\" >347.000</td>\n",
       "    </tr>\n",
       "    <tr>\n",
       "      <th id=\"T_a1247_level0_row5\" class=\"row_heading level0 row5\" >30</th>\n",
       "      <td id=\"T_a1247_row5_col0\" class=\"data row5 col0\" >312.867</td>\n",
       "      <td id=\"T_a1247_row5_col1\" class=\"data row5 col1\" >313.034</td>\n",
       "      <td id=\"T_a1247_row5_col2\" class=\"data row5 col2\" >388.000</td>\n",
       "    </tr>\n",
       "    <tr>\n",
       "      <th id=\"T_a1247_level0_row6\" class=\"row_heading level0 row6\" >35</th>\n",
       "      <td id=\"T_a1247_row6_col0\" class=\"data row6 col0\" >380.314</td>\n",
       "      <td id=\"T_a1247_row6_col1\" class=\"data row6 col1\" >380.471</td>\n",
       "      <td id=\"T_a1247_row6_col2\" class=\"data row6 col2\" >468.000</td>\n",
       "    </tr>\n",
       "    <tr>\n",
       "      <th id=\"T_a1247_level0_row7\" class=\"row_heading level0 row7\" >40</th>\n",
       "      <td id=\"T_a1247_row7_col0\" class=\"data row7 col0\" >406.125</td>\n",
       "      <td id=\"T_a1247_row7_col1\" class=\"data row7 col1\" >406.231</td>\n",
       "      <td id=\"T_a1247_row7_col2\" class=\"data row7 col2\" >487.000</td>\n",
       "    </tr>\n",
       "    <tr>\n",
       "      <th id=\"T_a1247_level0_row8\" class=\"row_heading level0 row8\" >45</th>\n",
       "      <td id=\"T_a1247_row8_col0\" class=\"data row8 col0\" >453.022</td>\n",
       "      <td id=\"T_a1247_row8_col1\" class=\"data row8 col1\" >453.091</td>\n",
       "      <td id=\"T_a1247_row8_col2\" class=\"data row8 col2\" >526.000</td>\n",
       "    </tr>\n",
       "    <tr>\n",
       "      <th id=\"T_a1247_level0_row9\" class=\"row_heading level0 row9\" >50</th>\n",
       "      <td id=\"T_a1247_row9_col0\" class=\"data row9 col0\" >473.340</td>\n",
       "      <td id=\"T_a1247_row9_col1\" class=\"data row9 col1\" >473.388</td>\n",
       "      <td id=\"T_a1247_row9_col2\" class=\"data row9 col2\" >545.500</td>\n",
       "    </tr>\n",
       "    <tr>\n",
       "      <th id=\"T_a1247_level0_row10\" class=\"row_heading level0 row10\" >55</th>\n",
       "      <td id=\"T_a1247_row10_col0\" class=\"data row10 col0\" >504.873</td>\n",
       "      <td id=\"T_a1247_row10_col1\" class=\"data row10 col1\" >504.907</td>\n",
       "      <td id=\"T_a1247_row10_col2\" class=\"data row10 col2\" >569.000</td>\n",
       "    </tr>\n",
       "    <tr>\n",
       "      <th id=\"T_a1247_level0_row11\" class=\"row_heading level0 row11\" >60</th>\n",
       "      <td id=\"T_a1247_row11_col0\" class=\"data row11 col0\" >512.667</td>\n",
       "      <td id=\"T_a1247_row11_col1\" class=\"data row11 col1\" >512.712</td>\n",
       "      <td id=\"T_a1247_row11_col2\" class=\"data row11 col2\" >605.000</td>\n",
       "    </tr>\n",
       "    <tr>\n",
       "      <th id=\"T_a1247_level0_row12\" class=\"row_heading level0 row12\" >65</th>\n",
       "      <td id=\"T_a1247_row12_col0\" class=\"data row12 col0\" >550.369</td>\n",
       "      <td id=\"T_a1247_row12_col1\" class=\"data row12 col1\" >550.406</td>\n",
       "      <td id=\"T_a1247_row12_col2\" class=\"data row12 col2\" >629.500</td>\n",
       "    </tr>\n",
       "    <tr>\n",
       "      <th id=\"T_a1247_level0_row13\" class=\"row_heading level0 row13\" >70</th>\n",
       "      <td id=\"T_a1247_row13_col0\" class=\"data row13 col0\" >550.443</td>\n",
       "      <td id=\"T_a1247_row13_col1\" class=\"data row13 col1\" >550.478</td>\n",
       "      <td id=\"T_a1247_row13_col2\" class=\"data row13 col2\" >643.500</td>\n",
       "    </tr>\n",
       "    <tr>\n",
       "      <th id=\"T_a1247_level0_row14\" class=\"row_heading level0 row14\" >75</th>\n",
       "      <td id=\"T_a1247_row14_col0\" class=\"data row14 col0\" >572.013</td>\n",
       "      <td id=\"T_a1247_row14_col1\" class=\"data row14 col1\" >572.041</td>\n",
       "      <td id=\"T_a1247_row14_col2\" class=\"data row14 col2\" >655.000</td>\n",
       "    </tr>\n",
       "    <tr>\n",
       "      <th id=\"T_a1247_level0_row15\" class=\"row_heading level0 row15\" >80</th>\n",
       "      <td id=\"T_a1247_row15_col0\" class=\"data row15 col0\" >579.750</td>\n",
       "      <td id=\"T_a1247_row15_col1\" class=\"data row15 col1\" >579.772</td>\n",
       "      <td id=\"T_a1247_row15_col2\" class=\"data row15 col2\" >660.500</td>\n",
       "    </tr>\n",
       "    <tr>\n",
       "      <th id=\"T_a1247_level0_row16\" class=\"row_heading level0 row16\" >85</th>\n",
       "      <td id=\"T_a1247_row16_col0\" class=\"data row16 col0\" >602.565</td>\n",
       "      <td id=\"T_a1247_row16_col1\" class=\"data row16 col1\" >602.583</td>\n",
       "      <td id=\"T_a1247_row16_col2\" class=\"data row16 col2\" >673.000</td>\n",
       "    </tr>\n",
       "    <tr>\n",
       "      <th id=\"T_a1247_level0_row17\" class=\"row_heading level0 row17\" >90</th>\n",
       "      <td id=\"T_a1247_row17_col0\" class=\"data row17 col0\" >603.900</td>\n",
       "      <td id=\"T_a1247_row17_col1\" class=\"data row17 col1\" >603.921</td>\n",
       "      <td id=\"T_a1247_row17_col2\" class=\"data row17 col2\" >693.500</td>\n",
       "    </tr>\n",
       "    <tr>\n",
       "      <th id=\"T_a1247_level0_row18\" class=\"row_heading level0 row18\" >95</th>\n",
       "      <td id=\"T_a1247_row18_col0\" class=\"data row18 col0\" >621.821</td>\n",
       "      <td id=\"T_a1247_row18_col1\" class=\"data row18 col1\" >621.840</td>\n",
       "      <td id=\"T_a1247_row18_col2\" class=\"data row18 col2\" >718.000</td>\n",
       "    </tr>\n",
       "    <tr>\n",
       "      <th id=\"T_a1247_level0_row19\" class=\"row_heading level0 row19\" >100</th>\n",
       "      <td id=\"T_a1247_row19_col0\" class=\"data row19 col0\" >660.670</td>\n",
       "      <td id=\"T_a1247_row19_col1\" class=\"data row19 col1\" >660.687</td>\n",
       "      <td id=\"T_a1247_row19_col2\" class=\"data row19 col2\" >751.500</td>\n",
       "    </tr>\n",
       "  </tbody>\n",
       "</table>\n"
      ],
      "text/plain": [
       "<pandas.io.formats.style.Styler at 0x7efe99129f90>"
      ]
     },
     "execution_count": 24,
     "metadata": {},
     "output_type": "execute_result"
    }
   ],
   "source": [
    "MTZ_bounds = pd.DataFrame( index=tsp_dimensions, columns=[f.__name__ for f in mtz_models] )\n",
    "for n in tqdm(MTZ_bounds.index):\n",
    "    instance = GenerateTSP( n )\n",
    "    for f in mtz_models:\n",
    "        m = f(PrepareMTZ(ForbidDiagonal(LAP(instance))))\n",
    "        linear_relaxation.apply_to( m )\n",
    "        r = free_solver.solve( m, tee=False )\n",
    "        assert pyo.check_optimal_termination(r)\n",
    "        MTZ_bounds.at[n,f.__name__] = m.Cost()\n",
    "MTZ_bounds.style.format(precision=3)"
   ]
  },
  {
   "cell_type": "markdown",
   "metadata": {
    "id": "bcZ0EJC9Feio"
   },
   "source": [
    "We can see above the optimal values of the linear relaxations of the three different MTZ models for (on each line) the same instance. \n",
    "\n",
    "Note that the instance of 10 nodes that we solved before is the same as in the table above (due to seeding the generator). \n",
    "\n",
    "The increase of the third version is quite impressive! \n",
    "How is that affecting the times required to solve the integer versions? \n",
    "\n",
    "Small spoiler about the remainder of this notebook: it is not wise to try to solve instances of more than 15 nodes with these models! "
   ]
  },
  {
   "cell_type": "code",
   "execution_count": null,
   "metadata": {
    "colab": {
     "base_uri": "https://localhost:8080/",
     "height": 175,
     "referenced_widgets": [
      "b68bad79898e469c9ce8e1e520ccae42",
      "347496d2c89f4872b0629b3c957ad820",
      "02b9b4defa24400aa10e2e77b2b18dba",
      "2321d83dba1e48d59f0ce8330b06c4c4",
      "1d82c2c31997427ca17226a279a752bf",
      "3832915170e44f34a0a95162774b23c0",
      "ea34b405edaa4ad1bef5762fc6d4519a",
      "1bd7d725f5b045e7bcd6845947b3de31",
      "37c651e259bb41b7a7d4bf16d6e809cc",
      "a6d8c0bd7d454734a6c534a0b2913dad",
      "2aa1b6dcda7943498946006df98084e3"
     ]
    },
    "id": "PziT57mZVI5b",
    "outputId": "55674c34-f754-4be4-ccdf-8bb7d6c7b91f"
   },
   "outputs": [
    {
     "data": {
      "application/vnd.jupyter.widget-view+json": {
       "model_id": "b68bad79898e469c9ce8e1e520ccae42",
       "version_major": 2,
       "version_minor": 0
      },
      "text/plain": [
       "  0%|          | 0/3 [00:00<?, ?it/s]"
      ]
     },
     "metadata": {},
     "output_type": "display_data"
    },
    {
     "data": {
      "text/html": [
       "\n",
       "  <div id=\"df-bb110427-4d79-4e89-99cb-9c5013a8ccd1\">\n",
       "    <div class=\"colab-df-container\">\n",
       "      <div>\n",
       "<style scoped>\n",
       "    .dataframe tbody tr th:only-of-type {\n",
       "        vertical-align: middle;\n",
       "    }\n",
       "\n",
       "    .dataframe tbody tr th {\n",
       "        vertical-align: top;\n",
       "    }\n",
       "\n",
       "    .dataframe thead th {\n",
       "        text-align: right;\n",
       "    }\n",
       "</style>\n",
       "<table border=\"1\" class=\"dataframe\">\n",
       "  <thead>\n",
       "    <tr style=\"text-align: right;\">\n",
       "      <th></th>\n",
       "      <th>OriginalMTZ</th>\n",
       "      <th>ImprovedMTZ</th>\n",
       "      <th>BestMTZ</th>\n",
       "      <th>cost</th>\n",
       "    </tr>\n",
       "  </thead>\n",
       "  <tbody>\n",
       "    <tr>\n",
       "      <th>5</th>\n",
       "      <td>0:00:00.020</td>\n",
       "      <td>0:00:00.006</td>\n",
       "      <td>0:00:00.004</td>\n",
       "      <td>269</td>\n",
       "    </tr>\n",
       "    <tr>\n",
       "      <th>10</th>\n",
       "      <td>0:00:00.145</td>\n",
       "      <td>0:00:00.153</td>\n",
       "      <td>0:00:00.137</td>\n",
       "      <td>307</td>\n",
       "    </tr>\n",
       "    <tr>\n",
       "      <th>15</th>\n",
       "      <td>0:00:00.807</td>\n",
       "      <td>0:00:00.791</td>\n",
       "      <td>0:00:01.108</td>\n",
       "      <td>335</td>\n",
       "    </tr>\n",
       "  </tbody>\n",
       "</table>\n",
       "</div>\n",
       "      <button class=\"colab-df-convert\" onclick=\"convertToInteractive('df-bb110427-4d79-4e89-99cb-9c5013a8ccd1')\"\n",
       "              title=\"Convert this dataframe to an interactive table.\"\n",
       "              style=\"display:none;\">\n",
       "        \n",
       "  <svg xmlns=\"http://www.w3.org/2000/svg\" height=\"24px\"viewBox=\"0 0 24 24\"\n",
       "       width=\"24px\">\n",
       "    <path d=\"M0 0h24v24H0V0z\" fill=\"none\"/>\n",
       "    <path d=\"M18.56 5.44l.94 2.06.94-2.06 2.06-.94-2.06-.94-.94-2.06-.94 2.06-2.06.94zm-11 1L8.5 8.5l.94-2.06 2.06-.94-2.06-.94L8.5 2.5l-.94 2.06-2.06.94zm10 10l.94 2.06.94-2.06 2.06-.94-2.06-.94-.94-2.06-.94 2.06-2.06.94z\"/><path d=\"M17.41 7.96l-1.37-1.37c-.4-.4-.92-.59-1.43-.59-.52 0-1.04.2-1.43.59L10.3 9.45l-7.72 7.72c-.78.78-.78 2.05 0 2.83L4 21.41c.39.39.9.59 1.41.59.51 0 1.02-.2 1.41-.59l7.78-7.78 2.81-2.81c.8-.78.8-2.07 0-2.86zM5.41 20L4 18.59l7.72-7.72 1.47 1.35L5.41 20z\"/>\n",
       "  </svg>\n",
       "      </button>\n",
       "      \n",
       "  <style>\n",
       "    .colab-df-container {\n",
       "      display:flex;\n",
       "      flex-wrap:wrap;\n",
       "      gap: 12px;\n",
       "    }\n",
       "\n",
       "    .colab-df-convert {\n",
       "      background-color: #E8F0FE;\n",
       "      border: none;\n",
       "      border-radius: 50%;\n",
       "      cursor: pointer;\n",
       "      display: none;\n",
       "      fill: #1967D2;\n",
       "      height: 32px;\n",
       "      padding: 0 0 0 0;\n",
       "      width: 32px;\n",
       "    }\n",
       "\n",
       "    .colab-df-convert:hover {\n",
       "      background-color: #E2EBFA;\n",
       "      box-shadow: 0px 1px 2px rgba(60, 64, 67, 0.3), 0px 1px 3px 1px rgba(60, 64, 67, 0.15);\n",
       "      fill: #174EA6;\n",
       "    }\n",
       "\n",
       "    [theme=dark] .colab-df-convert {\n",
       "      background-color: #3B4455;\n",
       "      fill: #D2E3FC;\n",
       "    }\n",
       "\n",
       "    [theme=dark] .colab-df-convert:hover {\n",
       "      background-color: #434B5C;\n",
       "      box-shadow: 0px 1px 3px 1px rgba(0, 0, 0, 0.15);\n",
       "      filter: drop-shadow(0px 1px 2px rgba(0, 0, 0, 0.3));\n",
       "      fill: #FFFFFF;\n",
       "    }\n",
       "  </style>\n",
       "\n",
       "      <script>\n",
       "        const buttonEl =\n",
       "          document.querySelector('#df-bb110427-4d79-4e89-99cb-9c5013a8ccd1 button.colab-df-convert');\n",
       "        buttonEl.style.display =\n",
       "          google.colab.kernel.accessAllowed ? 'block' : 'none';\n",
       "\n",
       "        async function convertToInteractive(key) {\n",
       "          const element = document.querySelector('#df-bb110427-4d79-4e89-99cb-9c5013a8ccd1');\n",
       "          const dataTable =\n",
       "            await google.colab.kernel.invokeFunction('convertToInteractive',\n",
       "                                                     [key], {});\n",
       "          if (!dataTable) return;\n",
       "\n",
       "          const docLinkHtml = 'Like what you see? Visit the ' +\n",
       "            '<a target=\"_blank\" href=https://colab.research.google.com/notebooks/data_table.ipynb>data table notebook</a>'\n",
       "            + ' to learn more about interactive tables.';\n",
       "          element.innerHTML = '';\n",
       "          dataTable['output_type'] = 'display_data';\n",
       "          await google.colab.output.renderOutput(dataTable, element);\n",
       "          const docLink = document.createElement('div');\n",
       "          docLink.innerHTML = docLinkHtml;\n",
       "          element.appendChild(docLink);\n",
       "        }\n",
       "      </script>\n",
       "    </div>\n",
       "  </div>\n",
       "  "
      ],
      "text/plain": [
       "    OriginalMTZ  ImprovedMTZ      BestMTZ cost\n",
       "5   0:00:00.020  0:00:00.006  0:00:00.004  269\n",
       "10  0:00:00.145  0:00:00.153  0:00:00.137  307\n",
       "15  0:00:00.807  0:00:00.791  0:00:01.108  335"
      ]
     },
     "execution_count": 25,
     "metadata": {},
     "output_type": "execute_result"
    }
   ],
   "source": [
    "MTZ_times = pd.DataFrame( index=tsp_dimensions[:3], columns=[f.__name__ for f in mtz_models]+['cost'] )\n",
    "for n in tqdm(MTZ_times.index):\n",
    "    cost = []\n",
    "    instance = GenerateTSP( n )\n",
    "    for f in mtz_models:\n",
    "        m = f(PrepareMTZ(ForbidDiagonal(LAP(instance))))\n",
    "        t = pc()\n",
    "        r = free_solver.solve( m, tee=False )\n",
    "        MTZ_times.at[n,f.__name__] = display_seconds( pc()-t )\n",
    "        cost.append(np.round(m.Cost()))\n",
    "    assert len(set(cost)) == 1\n",
    "    MTZ_times.at[n,'cost'] = int(round(min(cost)))\n",
    "MTZ_times"
   ]
  },
  {
   "cell_type": "markdown",
   "metadata": {
    "id": "YEPIWfJbFeio"
   },
   "source": [
    "Note that the times above are likely to be very different if you run this notebook on your own machine, even if using the same solver and version. \n",
    "In particular, if your machine has more than two (virtual) processors the differences between the models will be much smaller. \n",
    "In fact, it may happen that the times taken to optimize do not directly reflect the strength of the model. "
   ]
  },
  {
   "cell_type": "code",
   "execution_count": null,
   "metadata": {
    "colab": {
     "base_uri": "https://localhost:8080/",
     "height": 143
    },
    "id": "BchMNAbXbVMM",
    "outputId": "fa015572-703e-4a4e-f43b-4a3477fac19d"
   },
   "outputs": [
    {
     "data": {
      "text/html": [
       "<style type=\"text/css\">\n",
       "</style>\n",
       "<table id=\"T_094b5\" class=\"dataframe\">\n",
       "  <thead>\n",
       "    <tr>\n",
       "      <th class=\"blank level0\" >&nbsp;</th>\n",
       "      <th id=\"T_094b5_level0_col0\" class=\"col_heading level0 col0\" >OriginalMTZ</th>\n",
       "      <th id=\"T_094b5_level0_col1\" class=\"col_heading level0 col1\" >ImprovedMTZ</th>\n",
       "      <th id=\"T_094b5_level0_col2\" class=\"col_heading level0 col2\" >BestMTZ</th>\n",
       "      <th id=\"T_094b5_level0_col3\" class=\"col_heading level0 col3\" >cost</th>\n",
       "      <th id=\"T_094b5_level0_col4\" class=\"col_heading level0 col4\" >OriginalMTZ</th>\n",
       "      <th id=\"T_094b5_level0_col5\" class=\"col_heading level0 col5\" >ImprovedMTZ</th>\n",
       "      <th id=\"T_094b5_level0_col6\" class=\"col_heading level0 col6\" >BestMTZ</th>\n",
       "    </tr>\n",
       "  </thead>\n",
       "  <tbody>\n",
       "    <tr>\n",
       "      <th id=\"T_094b5_level0_row0\" class=\"row_heading level0 row0\" >5</th>\n",
       "      <td id=\"T_094b5_row0_col0\" class=\"data row0 col0\" >0:00:00.020</td>\n",
       "      <td id=\"T_094b5_row0_col1\" class=\"data row0 col1\" >0:00:00.006</td>\n",
       "      <td id=\"T_094b5_row0_col2\" class=\"data row0 col2\" >0:00:00.004</td>\n",
       "      <td id=\"T_094b5_row0_col3\" class=\"data row0 col3\" >269</td>\n",
       "      <td id=\"T_094b5_row0_col4\" class=\"data row0 col4\" >255.400</td>\n",
       "      <td id=\"T_094b5_row0_col5\" class=\"data row0 col5\" >257.000</td>\n",
       "      <td id=\"T_094b5_row0_col6\" class=\"data row0 col6\" >265.000</td>\n",
       "    </tr>\n",
       "    <tr>\n",
       "      <th id=\"T_094b5_level0_row1\" class=\"row_heading level0 row1\" >10</th>\n",
       "      <td id=\"T_094b5_row1_col0\" class=\"data row1 col0\" >0:00:00.145</td>\n",
       "      <td id=\"T_094b5_row1_col1\" class=\"data row1 col1\" >0:00:00.153</td>\n",
       "      <td id=\"T_094b5_row1_col2\" class=\"data row1 col2\" >0:00:00.137</td>\n",
       "      <td id=\"T_094b5_row1_col3\" class=\"data row1 col3\" >307</td>\n",
       "      <td id=\"T_094b5_row1_col4\" class=\"data row1 col4\" >271.300</td>\n",
       "      <td id=\"T_094b5_row1_col5\" class=\"data row1 col5\" >271.333</td>\n",
       "      <td id=\"T_094b5_row1_col6\" class=\"data row1 col6\" >286.000</td>\n",
       "    </tr>\n",
       "    <tr>\n",
       "      <th id=\"T_094b5_level0_row2\" class=\"row_heading level0 row2\" >15</th>\n",
       "      <td id=\"T_094b5_row2_col0\" class=\"data row2 col0\" >0:00:00.807</td>\n",
       "      <td id=\"T_094b5_row2_col1\" class=\"data row2 col1\" >0:00:00.791</td>\n",
       "      <td id=\"T_094b5_row2_col2\" class=\"data row2 col2\" >0:00:01.108</td>\n",
       "      <td id=\"T_094b5_row2_col3\" class=\"data row2 col3\" >335</td>\n",
       "      <td id=\"T_094b5_row2_col4\" class=\"data row2 col4\" >232.267</td>\n",
       "      <td id=\"T_094b5_row2_col5\" class=\"data row2 col5\" >233.143</td>\n",
       "      <td id=\"T_094b5_row2_col6\" class=\"data row2 col6\" >314.000</td>\n",
       "    </tr>\n",
       "  </tbody>\n",
       "</table>\n"
      ],
      "text/plain": [
       "<pandas.io.formats.style.Styler at 0x7efe96925c60>"
      ]
     },
     "execution_count": 26,
     "metadata": {},
     "output_type": "execute_result"
    }
   ],
   "source": [
    "pd.concat( [MTZ_times, MTZ_bounds], axis=1 ).dropna().style.format(precision=3)"
   ]
  },
  {
   "cell_type": "markdown",
   "metadata": {
    "id": "QIyao7xPFeip"
   },
   "source": [
    "# A tale of two models\n",
    "\n",
    "The DFJ model is hard to use directly, since we would need to explicitly declare $2^n-2$ constraints, and that soon becomes impractical and soon after that, even impossible. \n",
    "\n",
    "Our first attempt to grasp its use follows the idea in [this educational paper](https://epubs.siam.org/doi/pdf/10.1137/S00361445023685) in combining DFJ and MTZ. \n",
    "\n",
    "The main idea is as follows: \n",
    " * Start by solving the linear assignment model.\n",
    " * For each sub-tour in the solution identify the set $S$ and add the corresponding DFJ sub-tour elimination constraint.\n",
    " * Solve again and repeat a pre-specified number of (`nof`) times.\n",
    "\n",
    "At the end of the procedure above we end up with the DFJ model confined to some sub-tour elimination constraints. \n",
    "These are redundant for the (mixed integer) MTZ model, but not for its linear relaxation. \n",
    "We add the MTZ variables and constraints and solve the resulting mixed model. "
   ]
  },
  {
   "cell_type": "code",
   "execution_count": null,
   "metadata": {
    "id": "_k0UePkWVI5d"
   },
   "outputs": [],
   "source": [
    "def AddSomeDFJConstraints( instance, nof, solver ):\n",
    "    optimal_at = None\n",
    "    m = ForbidDiagonal(LAP(instance))\n",
    "    m.cuts = pyo.ConstraintList()\n",
    "    for i in range(nof):\n",
    "        solver.solve(m)\n",
    "        cycles = GetArcsInSolutionPartitionedInCycles( m )\n",
    "        if len(cycles) == 1:\n",
    "            optimal_at = i\n",
    "            break\n",
    "        for cycle in cycles:\n",
    "            m.cuts.add( pyo.quicksum( m.x[i,j] for (i,j) in cycle ) <= len(cycle)-1 )    \n",
    "    return m, optimal_at"
   ]
  },
  {
   "cell_type": "code",
   "execution_count": null,
   "metadata": {
    "colab": {
     "base_uri": "https://localhost:8080/",
     "height": 238,
     "referenced_widgets": [
      "bb0d93a5a7994499bea53011c8e51be7",
      "63b09ce293434145ae91ce5325d48a1b",
      "011276c783b14e7a98e7317871d97aca",
      "e25eadb2da124ab3bfd89d14442d8658",
      "3ff29418b3ed456f8e6d0c1b36ff688f",
      "0782999a5eb24f5192fc383c91a0131b",
      "bf42b62aa4524b638a8e52debad18427",
      "8d8f072ea1004b2b915d3ea36697de7f",
      "cfcf2775083d4c929ddaa44626db6210",
      "e6d0e3331f9044bbbfde163b71605d7c",
      "ff82f51130ab41069cb7f8151e90afaf"
     ]
    },
    "id": "loGnnhaIFeip",
    "outputId": "643b9549-b9ff-48d9-a51e-ae488cd73313"
   },
   "outputs": [
    {
     "data": {
      "application/vnd.jupyter.widget-view+json": {
       "model_id": "bb0d93a5a7994499bea53011c8e51be7",
       "version_major": 2,
       "version_minor": 0
      },
      "text/plain": [
       "  0%|          | 0/5 [00:00<?, ?it/s]"
      ]
     },
     "metadata": {},
     "output_type": "display_data"
    },
    {
     "data": {
      "text/html": [
       "<style type=\"text/css\">\n",
       "</style>\n",
       "<table id=\"T_d0786\" class=\"dataframe\">\n",
       "  <thead>\n",
       "    <tr>\n",
       "      <th class=\"blank level0\" >&nbsp;</th>\n",
       "      <th id=\"T_d0786_level0_col0\" class=\"col_heading level0 col0\" >tDFJ.1</th>\n",
       "      <th id=\"T_d0786_level0_col1\" class=\"col_heading level0 col1\" >tMTZ.1</th>\n",
       "      <th id=\"T_d0786_level0_col2\" class=\"col_heading level0 col2\" >LR.1</th>\n",
       "      <th id=\"T_d0786_level0_col3\" class=\"col_heading level0 col3\" >tDFJ.2</th>\n",
       "      <th id=\"T_d0786_level0_col4\" class=\"col_heading level0 col4\" >tMTZ.2</th>\n",
       "      <th id=\"T_d0786_level0_col5\" class=\"col_heading level0 col5\" >LR.2</th>\n",
       "      <th id=\"T_d0786_level0_col6\" class=\"col_heading level0 col6\" >tDFJ.3</th>\n",
       "      <th id=\"T_d0786_level0_col7\" class=\"col_heading level0 col7\" >tMTZ.3</th>\n",
       "      <th id=\"T_d0786_level0_col8\" class=\"col_heading level0 col8\" >LR.3</th>\n",
       "      <th id=\"T_d0786_level0_col9\" class=\"col_heading level0 col9\" >tDFJ.4</th>\n",
       "      <th id=\"T_d0786_level0_col10\" class=\"col_heading level0 col10\" >tMTZ.4</th>\n",
       "      <th id=\"T_d0786_level0_col11\" class=\"col_heading level0 col11\" >LR.4</th>\n",
       "      <th id=\"T_d0786_level0_col12\" class=\"col_heading level0 col12\" >tDFJ.5</th>\n",
       "      <th id=\"T_d0786_level0_col13\" class=\"col_heading level0 col13\" >tMTZ.5</th>\n",
       "      <th id=\"T_d0786_level0_col14\" class=\"col_heading level0 col14\" >LR.5</th>\n",
       "      <th id=\"T_d0786_level0_col15\" class=\"col_heading level0 col15\" >cost</th>\n",
       "    </tr>\n",
       "  </thead>\n",
       "  <tbody>\n",
       "    <tr>\n",
       "      <th id=\"T_d0786_level0_row0\" class=\"row_heading level0 row0\" >5</th>\n",
       "      <td id=\"T_d0786_row0_col0\" class=\"data row0 col0\" >0.020</td>\n",
       "      <td id=\"T_d0786_row0_col1\" class=\"data row0 col1\" >0.010</td>\n",
       "      <td id=\"T_d0786_row0_col2\" class=\"data row0 col2\" >265.000</td>\n",
       "      <td id=\"T_d0786_row0_col3\" class=\"data row0 col3\" >0.010</td>\n",
       "      <td id=\"T_d0786_row0_col4\" class=\"data row0 col4\" >0.010</td>\n",
       "      <td id=\"T_d0786_row0_col5\" class=\"data row0 col5\" >269.000</td>\n",
       "      <td id=\"T_d0786_row0_col6\" class=\"data row0 col6\" >0.010</td>\n",
       "      <td id=\"T_d0786_row0_col7\" class=\"data row0 col7\" >nan</td>\n",
       "      <td id=\"T_d0786_row0_col8\" class=\"data row0 col8\" >269.000</td>\n",
       "      <td id=\"T_d0786_row0_col9\" class=\"data row0 col9\" >0.010</td>\n",
       "      <td id=\"T_d0786_row0_col10\" class=\"data row0 col10\" >nan</td>\n",
       "      <td id=\"T_d0786_row0_col11\" class=\"data row0 col11\" >269.000</td>\n",
       "      <td id=\"T_d0786_row0_col12\" class=\"data row0 col12\" >0.010</td>\n",
       "      <td id=\"T_d0786_row0_col13\" class=\"data row0 col13\" >nan</td>\n",
       "      <td id=\"T_d0786_row0_col14\" class=\"data row0 col14\" >269.000</td>\n",
       "      <td id=\"T_d0786_row0_col15\" class=\"data row0 col15\" >269</td>\n",
       "    </tr>\n",
       "    <tr>\n",
       "      <th id=\"T_d0786_level0_row1\" class=\"row_heading level0 row1\" >10</th>\n",
       "      <td id=\"T_d0786_row1_col0\" class=\"data row1 col0\" >0.010</td>\n",
       "      <td id=\"T_d0786_row1_col1\" class=\"data row1 col1\" >0.020</td>\n",
       "      <td id=\"T_d0786_row1_col2\" class=\"data row1 col2\" >292.000</td>\n",
       "      <td id=\"T_d0786_row1_col3\" class=\"data row1 col3\" >0.020</td>\n",
       "      <td id=\"T_d0786_row1_col4\" class=\"data row1 col4\" >0.020</td>\n",
       "      <td id=\"T_d0786_row1_col5\" class=\"data row1 col5\" >292.000</td>\n",
       "      <td id=\"T_d0786_row1_col6\" class=\"data row1 col6\" >0.020</td>\n",
       "      <td id=\"T_d0786_row1_col7\" class=\"data row1 col7\" >0.030</td>\n",
       "      <td id=\"T_d0786_row1_col8\" class=\"data row1 col8\" >292.000</td>\n",
       "      <td id=\"T_d0786_row1_col9\" class=\"data row1 col9\" >0.030</td>\n",
       "      <td id=\"T_d0786_row1_col10\" class=\"data row1 col10\" >nan</td>\n",
       "      <td id=\"T_d0786_row1_col11\" class=\"data row1 col11\" >292.000</td>\n",
       "      <td id=\"T_d0786_row1_col12\" class=\"data row1 col12\" >0.030</td>\n",
       "      <td id=\"T_d0786_row1_col13\" class=\"data row1 col13\" >nan</td>\n",
       "      <td id=\"T_d0786_row1_col14\" class=\"data row1 col14\" >292.000</td>\n",
       "      <td id=\"T_d0786_row1_col15\" class=\"data row1 col15\" >307</td>\n",
       "    </tr>\n",
       "    <tr>\n",
       "      <th id=\"T_d0786_level0_row2\" class=\"row_heading level0 row2\" >15</th>\n",
       "      <td id=\"T_d0786_row2_col0\" class=\"data row2 col0\" >0.020</td>\n",
       "      <td id=\"T_d0786_row2_col1\" class=\"data row2 col1\" >0.030</td>\n",
       "      <td id=\"T_d0786_row2_col2\" class=\"data row2 col2\" >335.000</td>\n",
       "      <td id=\"T_d0786_row2_col3\" class=\"data row2 col3\" >0.020</td>\n",
       "      <td id=\"T_d0786_row2_col4\" class=\"data row2 col4\" >0.030</td>\n",
       "      <td id=\"T_d0786_row2_col5\" class=\"data row2 col5\" >335.000</td>\n",
       "      <td id=\"T_d0786_row2_col6\" class=\"data row2 col6\" >0.030</td>\n",
       "      <td id=\"T_d0786_row2_col7\" class=\"data row2 col7\" >nan</td>\n",
       "      <td id=\"T_d0786_row2_col8\" class=\"data row2 col8\" >335.000</td>\n",
       "      <td id=\"T_d0786_row2_col9\" class=\"data row2 col9\" >0.030</td>\n",
       "      <td id=\"T_d0786_row2_col10\" class=\"data row2 col10\" >nan</td>\n",
       "      <td id=\"T_d0786_row2_col11\" class=\"data row2 col11\" >335.000</td>\n",
       "      <td id=\"T_d0786_row2_col12\" class=\"data row2 col12\" >0.030</td>\n",
       "      <td id=\"T_d0786_row2_col13\" class=\"data row2 col13\" >nan</td>\n",
       "      <td id=\"T_d0786_row2_col14\" class=\"data row2 col14\" >335.000</td>\n",
       "      <td id=\"T_d0786_row2_col15\" class=\"data row2 col15\" >335</td>\n",
       "    </tr>\n",
       "    <tr>\n",
       "      <th id=\"T_d0786_level0_row3\" class=\"row_heading level0 row3\" >20</th>\n",
       "      <td id=\"T_d0786_row3_col0\" class=\"data row3 col0\" >0.040</td>\n",
       "      <td id=\"T_d0786_row3_col1\" class=\"data row3 col1\" >2.320</td>\n",
       "      <td id=\"T_d0786_row3_col2\" class=\"data row3 col2\" >357.000</td>\n",
       "      <td id=\"T_d0786_row3_col3\" class=\"data row3 col3\" >0.040</td>\n",
       "      <td id=\"T_d0786_row3_col4\" class=\"data row3 col4\" >1.650</td>\n",
       "      <td id=\"T_d0786_row3_col5\" class=\"data row3 col5\" >357.000</td>\n",
       "      <td id=\"T_d0786_row3_col6\" class=\"data row3 col6\" >0.070</td>\n",
       "      <td id=\"T_d0786_row3_col7\" class=\"data row3 col7\" >1.340</td>\n",
       "      <td id=\"T_d0786_row3_col8\" class=\"data row3 col8\" >357.000</td>\n",
       "      <td id=\"T_d0786_row3_col9\" class=\"data row3 col9\" >0.100</td>\n",
       "      <td id=\"T_d0786_row3_col10\" class=\"data row3 col10\" >2.420</td>\n",
       "      <td id=\"T_d0786_row3_col11\" class=\"data row3 col11\" >357.000</td>\n",
       "      <td id=\"T_d0786_row3_col12\" class=\"data row3 col12\" >0.300</td>\n",
       "      <td id=\"T_d0786_row3_col13\" class=\"data row3 col13\" >2.190</td>\n",
       "      <td id=\"T_d0786_row3_col14\" class=\"data row3 col14\" >357.000</td>\n",
       "      <td id=\"T_d0786_row3_col15\" class=\"data row3 col15\" >380</td>\n",
       "    </tr>\n",
       "    <tr>\n",
       "      <th id=\"T_d0786_level0_row4\" class=\"row_heading level0 row4\" >25</th>\n",
       "      <td id=\"T_d0786_row4_col0\" class=\"data row4 col0\" >0.050</td>\n",
       "      <td id=\"T_d0786_row4_col1\" class=\"data row4 col1\" >1.680</td>\n",
       "      <td id=\"T_d0786_row4_col2\" class=\"data row4 col2\" >355.000</td>\n",
       "      <td id=\"T_d0786_row4_col3\" class=\"data row4 col3\" >0.070</td>\n",
       "      <td id=\"T_d0786_row4_col4\" class=\"data row4 col4\" >1.830</td>\n",
       "      <td id=\"T_d0786_row4_col5\" class=\"data row4 col5\" >355.000</td>\n",
       "      <td id=\"T_d0786_row4_col6\" class=\"data row4 col6\" >0.140</td>\n",
       "      <td id=\"T_d0786_row4_col7\" class=\"data row4 col7\" >1.760</td>\n",
       "      <td id=\"T_d0786_row4_col8\" class=\"data row4 col8\" >355.000</td>\n",
       "      <td id=\"T_d0786_row4_col9\" class=\"data row4 col9\" >0.250</td>\n",
       "      <td id=\"T_d0786_row4_col10\" class=\"data row4 col10\" >1.110</td>\n",
       "      <td id=\"T_d0786_row4_col11\" class=\"data row4 col11\" >355.000</td>\n",
       "      <td id=\"T_d0786_row4_col12\" class=\"data row4 col12\" >0.480</td>\n",
       "      <td id=\"T_d0786_row4_col13\" class=\"data row4 col13\" >1.040</td>\n",
       "      <td id=\"T_d0786_row4_col14\" class=\"data row4 col14\" >355.000</td>\n",
       "      <td id=\"T_d0786_row4_col15\" class=\"data row4 col15\" >395</td>\n",
       "    </tr>\n",
       "  </tbody>\n",
       "</table>\n"
      ],
      "text/plain": [
       "<pandas.io.formats.style.Styler at 0x7efe990c2cb0>"
      ]
     },
     "execution_count": 28,
     "metadata": {},
     "output_type": "execute_result"
    }
   ],
   "source": [
    "nof = list(range(1,6))\n",
    "combined_results = pd.DataFrame( index=tsp_dimensions[:5], columns=list(it.chain(*[(f'tDFJ.{k}',f'tMTZ.{k}',f'LR.{k}') for k in nof]))+['cost'] )\n",
    "for n in tqdm(combined_results.index):\n",
    "    cost = []\n",
    "    instance = GenerateTSP( n )\n",
    "    for k in nof:\n",
    "        t = pc()\n",
    "        m, optimal_at = AddSomeDFJConstraints( instance, k, free_solver)\n",
    "        combined_results.at[n,f'tDFJ.{k}'] = round(pc()-t,2)\n",
    "        if optimal_at is None:\n",
    "            t = pc()\n",
    "            m = BestMTZ(PrepareMTZ(m))\n",
    "            r = free_solver.solve( m, tee=False )\n",
    "            combined_results.at[n,f'tMTZ.{k}'] = round(pc()-t,2)\n",
    "        cost.append(int(round(m.Cost())))\n",
    "        linear_relaxation.apply_to(m)\n",
    "        r = free_solver.solve( m, tee=False )\n",
    "        combined_results.at[n,f'LR.{k}'] = m.Cost()\n",
    "    if not SOLVER == 'cbc':\n",
    "        assert len(set(cost)) == 1, cost\n",
    "    combined_results.at[n,'cost'] = int(round(min(cost)))\n",
    "combined_results.style.format(precision=3)"
   ]
  },
  {
   "cell_type": "code",
   "execution_count": null,
   "metadata": {
    "colab": {
     "base_uri": "https://localhost:8080/",
     "height": 163
    },
    "id": "XFgOBL3EFeiq",
    "outputId": "262a8fb3-9232-4013-d866-c49ea110bb31"
   },
   "outputs": [
    {
     "data": {
      "text/html": [
       "<style type=\"text/css\">\n",
       "</style>\n",
       "<table id=\"T_35d2f\" class=\"dataframe\">\n",
       "  <thead>\n",
       "    <tr>\n",
       "      <th class=\"blank level0\" >&nbsp;</th>\n",
       "      <th id=\"T_35d2f_level0_col0\" class=\"col_heading level0 col0\" >tDFJ.1</th>\n",
       "      <th id=\"T_35d2f_level0_col1\" class=\"col_heading level0 col1\" >tMTZ.1</th>\n",
       "      <th id=\"T_35d2f_level0_col2\" class=\"col_heading level0 col2\" >LR.1</th>\n",
       "      <th id=\"T_35d2f_level0_col3\" class=\"col_heading level0 col3\" >tDFJ.2</th>\n",
       "      <th id=\"T_35d2f_level0_col4\" class=\"col_heading level0 col4\" >tMTZ.2</th>\n",
       "      <th id=\"T_35d2f_level0_col5\" class=\"col_heading level0 col5\" >LR.2</th>\n",
       "      <th id=\"T_35d2f_level0_col6\" class=\"col_heading level0 col6\" >tDFJ.3</th>\n",
       "      <th id=\"T_35d2f_level0_col7\" class=\"col_heading level0 col7\" >tMTZ.3</th>\n",
       "      <th id=\"T_35d2f_level0_col8\" class=\"col_heading level0 col8\" >LR.3</th>\n",
       "      <th id=\"T_35d2f_level0_col9\" class=\"col_heading level0 col9\" >tDFJ.4</th>\n",
       "      <th id=\"T_35d2f_level0_col10\" class=\"col_heading level0 col10\" >tMTZ.4</th>\n",
       "      <th id=\"T_35d2f_level0_col11\" class=\"col_heading level0 col11\" >LR.4</th>\n",
       "      <th id=\"T_35d2f_level0_col12\" class=\"col_heading level0 col12\" >tDFJ.5</th>\n",
       "      <th id=\"T_35d2f_level0_col13\" class=\"col_heading level0 col13\" >tMTZ.5</th>\n",
       "      <th id=\"T_35d2f_level0_col14\" class=\"col_heading level0 col14\" >LR.5</th>\n",
       "      <th id=\"T_35d2f_level0_col15\" class=\"col_heading level0 col15\" >cost</th>\n",
       "      <th id=\"T_35d2f_level0_col16\" class=\"col_heading level0 col16\" >OriginalMTZ</th>\n",
       "      <th id=\"T_35d2f_level0_col17\" class=\"col_heading level0 col17\" >ImprovedMTZ</th>\n",
       "      <th id=\"T_35d2f_level0_col18\" class=\"col_heading level0 col18\" >BestMTZ</th>\n",
       "      <th id=\"T_35d2f_level0_col19\" class=\"col_heading level0 col19\" >cost</th>\n",
       "      <th id=\"T_35d2f_level0_col20\" class=\"col_heading level0 col20\" >OriginalMTZ</th>\n",
       "      <th id=\"T_35d2f_level0_col21\" class=\"col_heading level0 col21\" >ImprovedMTZ</th>\n",
       "      <th id=\"T_35d2f_level0_col22\" class=\"col_heading level0 col22\" >BestMTZ</th>\n",
       "    </tr>\n",
       "  </thead>\n",
       "  <tbody>\n",
       "    <tr>\n",
       "      <th id=\"T_35d2f_level0_row0\" class=\"row_heading level0 row0\" >5</th>\n",
       "      <td id=\"T_35d2f_row0_col0\" class=\"data row0 col0\" >0.020</td>\n",
       "      <td id=\"T_35d2f_row0_col1\" class=\"data row0 col1\" >0.010</td>\n",
       "      <td id=\"T_35d2f_row0_col2\" class=\"data row0 col2\" >265.000</td>\n",
       "      <td id=\"T_35d2f_row0_col3\" class=\"data row0 col3\" >0.010</td>\n",
       "      <td id=\"T_35d2f_row0_col4\" class=\"data row0 col4\" >0.010</td>\n",
       "      <td id=\"T_35d2f_row0_col5\" class=\"data row0 col5\" >269.000</td>\n",
       "      <td id=\"T_35d2f_row0_col6\" class=\"data row0 col6\" >0.010</td>\n",
       "      <td id=\"T_35d2f_row0_col7\" class=\"data row0 col7\" >nan</td>\n",
       "      <td id=\"T_35d2f_row0_col8\" class=\"data row0 col8\" >269.000</td>\n",
       "      <td id=\"T_35d2f_row0_col9\" class=\"data row0 col9\" >0.010</td>\n",
       "      <td id=\"T_35d2f_row0_col10\" class=\"data row0 col10\" >nan</td>\n",
       "      <td id=\"T_35d2f_row0_col11\" class=\"data row0 col11\" >269.000</td>\n",
       "      <td id=\"T_35d2f_row0_col12\" class=\"data row0 col12\" >0.010</td>\n",
       "      <td id=\"T_35d2f_row0_col13\" class=\"data row0 col13\" >nan</td>\n",
       "      <td id=\"T_35d2f_row0_col14\" class=\"data row0 col14\" >269.000</td>\n",
       "      <td id=\"T_35d2f_row0_col15\" class=\"data row0 col15\" >269</td>\n",
       "      <td id=\"T_35d2f_row0_col16\" class=\"data row0 col16\" >0:00:00.020</td>\n",
       "      <td id=\"T_35d2f_row0_col17\" class=\"data row0 col17\" >0:00:00.006</td>\n",
       "      <td id=\"T_35d2f_row0_col18\" class=\"data row0 col18\" >0:00:00.004</td>\n",
       "      <td id=\"T_35d2f_row0_col19\" class=\"data row0 col19\" >269</td>\n",
       "      <td id=\"T_35d2f_row0_col20\" class=\"data row0 col20\" >255.400</td>\n",
       "      <td id=\"T_35d2f_row0_col21\" class=\"data row0 col21\" >257.000</td>\n",
       "      <td id=\"T_35d2f_row0_col22\" class=\"data row0 col22\" >265.000</td>\n",
       "    </tr>\n",
       "    <tr>\n",
       "      <th id=\"T_35d2f_level0_row1\" class=\"row_heading level0 row1\" >10</th>\n",
       "      <td id=\"T_35d2f_row1_col0\" class=\"data row1 col0\" >0.010</td>\n",
       "      <td id=\"T_35d2f_row1_col1\" class=\"data row1 col1\" >0.020</td>\n",
       "      <td id=\"T_35d2f_row1_col2\" class=\"data row1 col2\" >292.000</td>\n",
       "      <td id=\"T_35d2f_row1_col3\" class=\"data row1 col3\" >0.020</td>\n",
       "      <td id=\"T_35d2f_row1_col4\" class=\"data row1 col4\" >0.020</td>\n",
       "      <td id=\"T_35d2f_row1_col5\" class=\"data row1 col5\" >292.000</td>\n",
       "      <td id=\"T_35d2f_row1_col6\" class=\"data row1 col6\" >0.020</td>\n",
       "      <td id=\"T_35d2f_row1_col7\" class=\"data row1 col7\" >0.030</td>\n",
       "      <td id=\"T_35d2f_row1_col8\" class=\"data row1 col8\" >292.000</td>\n",
       "      <td id=\"T_35d2f_row1_col9\" class=\"data row1 col9\" >0.030</td>\n",
       "      <td id=\"T_35d2f_row1_col10\" class=\"data row1 col10\" >nan</td>\n",
       "      <td id=\"T_35d2f_row1_col11\" class=\"data row1 col11\" >292.000</td>\n",
       "      <td id=\"T_35d2f_row1_col12\" class=\"data row1 col12\" >0.030</td>\n",
       "      <td id=\"T_35d2f_row1_col13\" class=\"data row1 col13\" >nan</td>\n",
       "      <td id=\"T_35d2f_row1_col14\" class=\"data row1 col14\" >292.000</td>\n",
       "      <td id=\"T_35d2f_row1_col15\" class=\"data row1 col15\" >307</td>\n",
       "      <td id=\"T_35d2f_row1_col16\" class=\"data row1 col16\" >0:00:00.145</td>\n",
       "      <td id=\"T_35d2f_row1_col17\" class=\"data row1 col17\" >0:00:00.153</td>\n",
       "      <td id=\"T_35d2f_row1_col18\" class=\"data row1 col18\" >0:00:00.137</td>\n",
       "      <td id=\"T_35d2f_row1_col19\" class=\"data row1 col19\" >307</td>\n",
       "      <td id=\"T_35d2f_row1_col20\" class=\"data row1 col20\" >271.300</td>\n",
       "      <td id=\"T_35d2f_row1_col21\" class=\"data row1 col21\" >271.333</td>\n",
       "      <td id=\"T_35d2f_row1_col22\" class=\"data row1 col22\" >286.000</td>\n",
       "    </tr>\n",
       "    <tr>\n",
       "      <th id=\"T_35d2f_level0_row2\" class=\"row_heading level0 row2\" >15</th>\n",
       "      <td id=\"T_35d2f_row2_col0\" class=\"data row2 col0\" >0.020</td>\n",
       "      <td id=\"T_35d2f_row2_col1\" class=\"data row2 col1\" >0.030</td>\n",
       "      <td id=\"T_35d2f_row2_col2\" class=\"data row2 col2\" >335.000</td>\n",
       "      <td id=\"T_35d2f_row2_col3\" class=\"data row2 col3\" >0.020</td>\n",
       "      <td id=\"T_35d2f_row2_col4\" class=\"data row2 col4\" >0.030</td>\n",
       "      <td id=\"T_35d2f_row2_col5\" class=\"data row2 col5\" >335.000</td>\n",
       "      <td id=\"T_35d2f_row2_col6\" class=\"data row2 col6\" >0.030</td>\n",
       "      <td id=\"T_35d2f_row2_col7\" class=\"data row2 col7\" >nan</td>\n",
       "      <td id=\"T_35d2f_row2_col8\" class=\"data row2 col8\" >335.000</td>\n",
       "      <td id=\"T_35d2f_row2_col9\" class=\"data row2 col9\" >0.030</td>\n",
       "      <td id=\"T_35d2f_row2_col10\" class=\"data row2 col10\" >nan</td>\n",
       "      <td id=\"T_35d2f_row2_col11\" class=\"data row2 col11\" >335.000</td>\n",
       "      <td id=\"T_35d2f_row2_col12\" class=\"data row2 col12\" >0.030</td>\n",
       "      <td id=\"T_35d2f_row2_col13\" class=\"data row2 col13\" >nan</td>\n",
       "      <td id=\"T_35d2f_row2_col14\" class=\"data row2 col14\" >335.000</td>\n",
       "      <td id=\"T_35d2f_row2_col15\" class=\"data row2 col15\" >335</td>\n",
       "      <td id=\"T_35d2f_row2_col16\" class=\"data row2 col16\" >0:00:00.807</td>\n",
       "      <td id=\"T_35d2f_row2_col17\" class=\"data row2 col17\" >0:00:00.791</td>\n",
       "      <td id=\"T_35d2f_row2_col18\" class=\"data row2 col18\" >0:00:01.108</td>\n",
       "      <td id=\"T_35d2f_row2_col19\" class=\"data row2 col19\" >335</td>\n",
       "      <td id=\"T_35d2f_row2_col20\" class=\"data row2 col20\" >232.267</td>\n",
       "      <td id=\"T_35d2f_row2_col21\" class=\"data row2 col21\" >233.143</td>\n",
       "      <td id=\"T_35d2f_row2_col22\" class=\"data row2 col22\" >314.000</td>\n",
       "    </tr>\n",
       "  </tbody>\n",
       "</table>\n"
      ],
      "text/plain": [
       "<pandas.io.formats.style.Styler at 0x7efe96357580>"
      ]
     },
     "execution_count": 29,
     "metadata": {},
     "output_type": "execute_result"
    }
   ],
   "source": [
    "pd.concat( [combined_results, MTZ_times, MTZ_bounds], axis=1 ).dropna(subset=['cost']).style.format(precision=3)"
   ]
  },
  {
   "cell_type": "markdown",
   "metadata": {
    "id": "_m26-B1TFeiq"
   },
   "source": [
    "Note that we have seen `cbc` give _some times_ a wrong answer! Maybe some ill-condition?"
   ]
  },
  {
   "cell_type": "markdown",
   "metadata": {
    "id": "SoV7Ro6LFeiq"
   },
   "source": [
    "# Symmetry\n",
    "\n",
    "So far, our models include variables $x_{ij}$ for all $i,j \\in N$. \n",
    "However, if the cost matrix happens to be symmetric (and that is the case is symmetric of all instances studied in this notebook) we may ignore the direction, i.e. consider only one of the two arcs $(i,j)$ or $(j,i)$. \n",
    "\n",
    "The number of edges $(i,j)$ for $i < j$ is less than half of the number of arcs. \n",
    "\n",
    "The symmetric model can be easily derived from the DFJ model: the linear assignment structure is replaced by constraining each node to have degree 2.\n",
    "\n",
    "Note that no variant of MTZ is known for the symmetric case! "
   ]
  },
  {
   "cell_type": "code",
   "execution_count": null,
   "metadata": {
    "id": "-pB9UxJhFeiq"
   },
   "outputs": [],
   "source": [
    "instance = GenerateTSP( 50 )"
   ]
  },
  {
   "cell_type": "code",
   "execution_count": null,
   "metadata": {
    "colab": {
     "base_uri": "https://localhost:8080/",
     "height": 576
    },
    "id": "6WnA0jS2Feiq",
    "outputId": "26f1454a-e69c-46ab-8a2b-410f8e8f9017"
   },
   "outputs": [
    {
     "name": "stdout",
     "output_type": "stream",
     "text": [
      "552.0 [28, 7, 3, 3, 3, 3, 3]\n",
      "571.0 [4, 15, 6, 3, 19, 3]\n",
      "577.0 [36, 4, 4, 6]\n",
      "581.0 [3, 16, 11, 20]\n",
      "583.0 [33, 17]\n",
      "583.0 [50]\n"
     ]
    },
    {
     "data": {
      "image/png": "[encoded data removed]",
      "text/plain": [
       "<Figure size 640x480 with 1 Axes>"
      ]
     },
     "metadata": {},
     "output_type": "display_data"
    }
   ],
   "source": [
    "def SymmetricBasicModel( instance ):\n",
    "    I,R = GetIndicesAndReverseLookup( instance )\n",
    "    C = GetCostMatrix( instance )\n",
    "    m = pyo.ConcreteModel('STSP')\n",
    "    m.n = pyo.Param( initialize=len(I))\n",
    "    m.I = pyo.Set( initialize=I )\n",
    "    m.E = pyo.Set( initialize=it.combinations( I, 2 ) )\n",
    "    m.x = pyo.Var( m.E, domain=pyo.Binary )\n",
    "    m.C = pyo.Param( m.E, initialize=lambda m, i,j : C[R[i],R[j]])\n",
    "    @m.Objective( sense=pyo.minimize )\n",
    "    def Cost(m):\n",
    "        return pyo.quicksum( m.C[e]*m.x[e] for e in m.E )\n",
    "    @m.Constraint(m.I)\n",
    "    def enter_and_leave(m,i):\n",
    "        return pyo.quicksum( m.x[e] for e in m.E if i in set(e) ) == 2\n",
    "    return m\n",
    "\n",
    "def GetSelected( m ):\n",
    "    return [ e for e in m.E if m.x[e]() > .5 ]\n",
    "\n",
    "def GetAdjacent( selected, I ):\n",
    "    adjacent = { i : [] for i in I }\n",
    "    for i,j in selected:\n",
    "        adjacent[i].append(j)\n",
    "        adjacent[j].append(i) \n",
    "    return adjacent        \n",
    "\n",
    "def GetSubTours( adjacent ):\n",
    "    all_nodes = set(list(adjacent.keys()))\n",
    "    sub_tours = []\n",
    "    while len(all_nodes) > 0:\n",
    "        node = next(iter(all_nodes))\n",
    "        tour = [node]\n",
    "        all_nodes.remove(node)\n",
    "        while not all( j in tour for j in adjacent[tour[-1]] ):\n",
    "            for j in adjacent[tour[-1]]:\n",
    "                if j not in tour:\n",
    "                    tour.append(j)\n",
    "                    all_nodes.remove(j)\n",
    "                    break\n",
    "        sub_tours.append(tour)\n",
    "    return sub_tours\n",
    "\n",
    "t = pc()\n",
    "    \n",
    "m = SymmetricBasicModel( instance )\n",
    "m.ellim = pyo.ConstraintList()\n",
    "\n",
    "while True:\n",
    "    free_solver.solve(m)\n",
    "    sub_tours = GetSubTours( GetAdjacent( GetSelected(m), m.I ) )\n",
    "    print( round(m.Cost(),1), [len(S) for S in sub_tours] )\n",
    "    if len(sub_tours[0]) == m.n:\n",
    "        break\n",
    "    for S in sub_tours:\n",
    "        m.ellim.add( pyo.quicksum( m.x[e] for e in m.E if all( i in S for i in e ) ) <= len(S)-1 )\n",
    "\n",
    "ShowTSP( instance, sol=sub_tours[0], node_labels=True, how=display_seconds(pc()-t) )"
   ]
  },
  {
   "cell_type": "markdown",
   "metadata": {
    "id": "0egH9ipSKc3Y"
   },
   "source": [
    "## Callbacks\n",
    "\n",
    "So far, we extended our model by adding the needed constraints and the solved again. \n",
    "\n",
    "Some solvers support a more sophisticated way to add constraints while solving. \n",
    "The mechanism to do so is called a _callback_: a function that we define and offer to the solver to call while solving the problem. \n",
    "\n",
    "The solver can do this at different moments. \n",
    "For us, the moment of interest is when the solver finds a feasible solution: we can check if it satisfies all the not yet defined constraints, and if needed add some new constraints.\n",
    "\n",
    "`Pyomo` supports callbacks for using with `gurobi`, `cplex` and `express`.\n",
    "These are all commercial solvers, of which the free (community edition) of gurobi is the most generous, allowing for up to 2000 variables and/or constraints. \n"
   ]
  },
  {
   "cell_type": "code",
   "execution_count": null,
   "metadata": {
    "id": "jEYw0xN0Kezj"
   },
   "outputs": [],
   "source": [
    "import gurobipy as gp\n",
    "from gurobipy import GRB"
   ]
  },
  {
   "cell_type": "code",
   "execution_count": null,
   "metadata": {
    "id": "Ob3yEppRFeir"
   },
   "outputs": [],
   "source": [
    "def my_callback(cb_m, cb_opt, cb_where):\n",
    "    if cb_where == GRB.Callback.MIPSOL:\n",
    "        cb_opt.cbGetSolution(vars = [cb_m.x[e] for e in cb_m.E])\n",
    "        sub_tours = GetSubTours( GetAdjacent( GetSelected( cb_m ), cb_m.I ) )\n",
    "        if len(sub_tours) > 1:\n",
    "            for S in sub_tours:\n",
    "                cb_opt.cbLazy(cb_m.ellim.add( pyo.quicksum( cb_m.x[e] for e in cb_m.E if all( i in S for i in e ) ) <= len(S)-1 ))"
   ]
  },
  {
   "cell_type": "code",
   "execution_count": null,
   "metadata": {
    "colab": {
     "base_uri": "https://localhost:8080/"
    },
    "id": "cM9r2KU9Feir",
    "outputId": "ee03052e-0da9-44a3-9e07-99cbe2c1660a"
   },
   "outputs": [
    {
     "name": "stdout",
     "output_type": "stream",
     "text": [
      "Restricted license - for non-production use only - expires 2024-10-28\n"
     ]
    }
   ],
   "source": [
    "t = pc()\n",
    "\n",
    "m = SymmetricBasicModel( instance )\n",
    "m.ellim = pyo.ConstraintList()\n",
    "persistent_solver.set_instance(m)\n",
    "persistent_solver.set_gurobi_param('OutputFlag', 0)\n",
    "persistent_solver.set_gurobi_param('PreCrush', 1)\n",
    "persistent_solver.set_gurobi_param('LazyConstraints', 1)\n",
    "persistent_solver.set_callback(my_callback)\n",
    "r = persistent_solver.solve()\n",
    "\n",
    "t = pc()-t"
   ]
  },
  {
   "cell_type": "code",
   "execution_count": null,
   "metadata": {
    "colab": {
     "base_uri": "https://localhost:8080/",
     "height": 472
    },
    "id": "ChqEin4uFeir",
    "outputId": "40b22207-2100-4681-8b6c-b1ff77f8144a"
   },
   "outputs": [
    {
     "data": {
      "image/png": "[encoded data removed]",
      "text/plain": [
       "<Figure size 640x480 with 1 Axes>"
      ]
     },
     "metadata": {},
     "output_type": "display_data"
    }
   ],
   "source": [
    "ShowTSP( instance, sol=GetSubTours( GetAdjacent( GetSelected( m ), m.I ) )[0], node_labels=True, how=display_seconds(t) )"
   ]
  },
  {
   "cell_type": "markdown",
   "metadata": {
    "id": "uLvCpnrYFeis"
   },
   "source": [
    "## Gray area\n",
    "\n",
    "Defining a callback forces us to adhere to solver specific knowledge. \n",
    "\n",
    "One may argue that the flexibility offered by `pyomo` is now somewhat lost. \n",
    "\n",
    "Maybe this is the moment to consider modeling the whole model in the solver's dialect (`gurobipy` in this case) and bypass the overhead of `pyomo` all together. "
   ]
  },
  {
   "cell_type": "code",
   "execution_count": null,
   "metadata": {
    "id": "jAX-DyOiiiFA"
   },
   "outputs": [],
   "source": [
    "def SymmetricTSPViaGurobi( C, trace ):\n",
    "    \n",
    "    assert np.allclose(C, C.T, rtol=1e-05, atol=1e-08), 'cost should be symmetric'\n",
    "    \n",
    "    m = gp.Model()\n",
    "\n",
    "    m._n = len(C)\n",
    "    m._I = range(m._n)\n",
    "    m._E = list(it.combinations(m._I,2))\n",
    "    \n",
    "    m._x = m.addVars(m._E, obj={(i,j):C[i,j] for (i,j) in m._E}, vtype=GRB.BINARY, name='x')\n",
    "    m.addConstrs( m._x.sum(i,'*') + m._x.sum('*',i) == 2 for i in m._I )\n",
    "    \n",
    "    def GetSelected( x ):\n",
    "        return [ e for e,v in x.items() if v > .5 ]\n",
    "    \n",
    "    def subtourelim(model, where):\n",
    "        if where == GRB.Callback.MIPSOL:\n",
    "            sub_tours = GetSubTours(GetAdjacent(GetSelected(model.cbGetSolution(model._x)),model._I))\n",
    "            for tour in sub_tours:\n",
    "                if len(tour) < model._n:\n",
    "                    model.cbLazy(gp.quicksum(model._x[i,j] for i,j in it.combinations(sorted(tour),2)) <= len(tour)-1)\n",
    "    \n",
    "    m.Params.OutputFlag = trace\n",
    "    m.Params.LazyConstraints = 1\n",
    "    m.optimize(subtourelim)\n",
    "    \n",
    "    sub_tours = GetSubTours(GetAdjacent(GetSelected(m.getAttr('X', m._x)),m._I))\n",
    "    assert len(sub_tours) == 1, sub_tours\n",
    "    tour = sub_tours[0]\n",
    "    assert len(tour) == m._n, tour\n",
    "    \n",
    "    m.printStats()\n",
    "    \n",
    "    return tour"
   ]
  },
  {
   "cell_type": "code",
   "execution_count": null,
   "metadata": {
    "id": "jzKH-awfFeis"
   },
   "outputs": [],
   "source": [
    "def GurobiSymmetric( instance, trace ):\n",
    "    \n",
    "    C = GetCostMatrix( instance )\n",
    "    \n",
    "    tour = SymmetricTSPViaGurobi( C, trace )\n",
    "    \n",
    "    I, _ = GetIndicesAndReverseLookup( instance )\n",
    "    \n",
    "    return [ I[i] for i in tour ]"
   ]
  },
  {
   "cell_type": "code",
   "execution_count": null,
   "metadata": {
    "colab": {
     "base_uri": "https://localhost:8080/",
     "height": 472
    },
    "id": "mRX-B3PBiiFA",
    "outputId": "c87c2d1d-7202-4e4b-9c87-2044f44f5740"
   },
   "outputs": [
    {
     "data": {
      "image/png": "[encoded data removed]",
      "text/plain": [
       "<Figure size 640x480 with 1 Axes>"
      ]
     },
     "metadata": {},
     "output_type": "display_data"
    }
   ],
   "source": [
    "t = pc()\n",
    "sol = GurobiSymmetric( instance, False )\n",
    "t = pc()-t\n",
    "ShowTSP( instance, sol=sol, node_labels=True, how=display_seconds(t) )"
   ]
  },
  {
   "cell_type": "markdown",
   "metadata": {
    "id": "52xTb07uiiFB"
   },
   "source": [
    "Since the number of variables is $n(n-1)/2$ dominates the number of explicit constraints $n$, the highest $n$ that fits the community edition is $n=63$ yielding $1953$ variables and $63$ constraints. "
   ]
  },
  {
   "cell_type": "code",
   "execution_count": null,
   "metadata": {
    "colab": {
     "base_uri": "https://localhost:8080/",
     "height": 472
    },
    "id": "HbBuMqggFeis",
    "outputId": "83b787af-e4b4-4603-bef6-d45ff14bfb4d"
   },
   "outputs": [
    {
     "data": {
      "image/png": "[encoded data removed]",
      "text/plain": [
       "<Figure size 640x480 with 1 Axes>"
      ]
     },
     "metadata": {},
     "output_type": "display_data"
    }
   ],
   "source": [
    "instance = GenerateTSP( 63 )\n",
    "t = pc()\n",
    "sol = GurobiSymmetric( instance, False )\n",
    "t = pc()-t\n",
    "ShowTSP( instance, sol=sol, node_labels=True, how=display_seconds(t) )"
   ]
  },
  {
   "cell_type": "markdown",
   "metadata": {
    "id": "tOk9fZ8gNlcz"
   },
   "source": [
    "Very fast, right? Maybe we can try some of the benchmarks now!"
   ]
  },
  {
   "cell_type": "markdown",
   "metadata": {
    "id": "LJjKacAYFeit"
   },
   "source": [
    "## Famous benchmark instances from the Internet"
   ]
  },
  {
   "cell_type": "code",
   "execution_count": null,
   "metadata": {
    "id": "6Lmk_uFAVI5d"
   },
   "outputs": [],
   "source": [
    "def ReadTextFromURL( url ):\n",
    "    return requests.get( url ).text\n",
    "\n",
    "def NumberOrString( text ):\n",
    "    if ( text.isdigit() ):\n",
    "        return int(text)\n",
    "    elif ( text.replace('.','',1).isdigit() ):\n",
    "        return float(text)\n",
    "    else:\n",
    "        return text\n",
    "\n",
    "def LeftPart( lineWithColon ):\n",
    "    return lineWithColon.split(':')[0].strip()\n",
    "\n",
    "def RightPart( lineWithColon ):\n",
    "    return NumberOrString(lineWithColon.split(':',1)[1].strip())\n",
    "\n",
    "def ParseComment( comment ):\n",
    "    asList = comment.replace('(','').replace(')','').split(',') \n",
    "    result = { LeftPart(line) : RightPart(line) for line in asList if ':' in line }\n",
    "    result[ 'COMMENT' ] = \",\".join( [ line for line in asList if not ':' in line ] )\n",
    "    return result\n",
    "\n",
    "def Dispatch(name, *args, **kwargs):\n",
    "    dispatcher = {'DIMENSION':int, 'CAPACITY':int, 'COMMENT':ParseComment}\n",
    "    if name in dispatcher.keys(): \n",
    "        return dispatcher[name](*args, **kwargs)    \n",
    "    else:\n",
    "        return NumberOrString(*args, **kwargs)\n",
    "\n",
    "def ReadCVRP( text ):\n",
    "    lines = [ line for line in text.split('\\n') if len(line) > 0 ]\n",
    "    if ( not 'EOF' in lines[-1] ):\n",
    "        lines.append( 'EOF' )\n",
    "    instance = { LeftPart(line) : Dispatch(LeftPart(line),RightPart(line)) for line in lines if ':' in line }\n",
    "    idxSections = [ i for i, line in enumerate(lines) if 'SECTION' in line or 'EOF' in line ]\n",
    "    for i,idx in enumerate(idxSections[:-1]):\n",
    "        key = lines[idx].strip()\n",
    "        instance[ key ] = [ [NumberOrString(x) for x in line.split()] for line in lines[idx+1:idxSections[i+1]] ]\n",
    "    return instance\n",
    "\n",
    "def GetNationalTSP( filename ):\n",
    "    return ReadCVRP( ReadTextFromURL( 'http://www.math.uwaterloo.ca/tsp/world/' + filename ) )"
   ]
  },
  {
   "cell_type": "code",
   "execution_count": null,
   "metadata": {
    "id": "1nKc-9v_VI5e"
   },
   "outputs": [],
   "source": [
    "world = 'https://www.math.uwaterloo.ca/tsp/world/'"
   ]
  },
  {
   "cell_type": "code",
   "execution_count": null,
   "metadata": {
    "colab": {
     "base_uri": "https://localhost:8080/",
     "height": 896
    },
    "id": "0ISRk5bCVI5m",
    "outputId": "8dd48116-86dd-4f66-d2ae-397776c82ce8"
   },
   "outputs": [
    {
     "data": {
      "text/html": [
       "\n",
       "  <div id=\"df-e7da7d9a-dc19-4fde-829f-76b4bc0936a3\">\n",
       "    <div class=\"colab-df-container\">\n",
       "      <div>\n",
       "<style scoped>\n",
       "    .dataframe tbody tr th:only-of-type {\n",
       "        vertical-align: middle;\n",
       "    }\n",
       "\n",
       "    .dataframe tbody tr th {\n",
       "        vertical-align: top;\n",
       "    }\n",
       "\n",
       "    .dataframe thead th {\n",
       "        text-align: right;\n",
       "    }\n",
       "</style>\n",
       "<table border=\"1\" class=\"dataframe\">\n",
       "  <thead>\n",
       "    <tr style=\"text-align: right;\">\n",
       "      <th></th>\n",
       "      <th>Name</th>\n",
       "      <th>Gap</th>\n",
       "      <th>Bound</th>\n",
       "      <th>Tour</th>\n",
       "      <th>Source of Tour</th>\n",
       "      <th>size</th>\n",
       "    </tr>\n",
       "  </thead>\n",
       "  <tbody>\n",
       "    <tr>\n",
       "      <th>0</th>\n",
       "      <td>wi29</td>\n",
       "      <td>Optimal</td>\n",
       "      <td>27603</td>\n",
       "      <td>27603</td>\n",
       "      <td>Concorde</td>\n",
       "      <td>29</td>\n",
       "    </tr>\n",
       "    <tr>\n",
       "      <th>1</th>\n",
       "      <td>dj38</td>\n",
       "      <td>Optimal</td>\n",
       "      <td>6656</td>\n",
       "      <td>6656</td>\n",
       "      <td>Concorde</td>\n",
       "      <td>38</td>\n",
       "    </tr>\n",
       "    <tr>\n",
       "      <th>2</th>\n",
       "      <td>qa194</td>\n",
       "      <td>Optimal</td>\n",
       "      <td>9352</td>\n",
       "      <td>9.352</td>\n",
       "      <td>Concorde</td>\n",
       "      <td>194</td>\n",
       "    </tr>\n",
       "    <tr>\n",
       "      <th>3</th>\n",
       "      <td>uy734</td>\n",
       "      <td>Optimal</td>\n",
       "      <td>79114</td>\n",
       "      <td>79114</td>\n",
       "      <td>Concorde</td>\n",
       "      <td>734</td>\n",
       "    </tr>\n",
       "    <tr>\n",
       "      <th>4</th>\n",
       "      <td>zi929</td>\n",
       "      <td>Optimal</td>\n",
       "      <td>95345</td>\n",
       "      <td>95345</td>\n",
       "      <td>Concorde</td>\n",
       "      <td>929</td>\n",
       "    </tr>\n",
       "    <tr>\n",
       "      <th>5</th>\n",
       "      <td>lu980</td>\n",
       "      <td>Optimal</td>\n",
       "      <td>11340</td>\n",
       "      <td>11340</td>\n",
       "      <td>Concorde</td>\n",
       "      <td>980</td>\n",
       "    </tr>\n",
       "    <tr>\n",
       "      <th>6</th>\n",
       "      <td>rw1621</td>\n",
       "      <td>Optimal</td>\n",
       "      <td>26051</td>\n",
       "      <td>26051</td>\n",
       "      <td>Concorde</td>\n",
       "      <td>1621</td>\n",
       "    </tr>\n",
       "    <tr>\n",
       "      <th>7</th>\n",
       "      <td>mu1979</td>\n",
       "      <td>Optimal</td>\n",
       "      <td>86891</td>\n",
       "      <td>86891</td>\n",
       "      <td>Concorde</td>\n",
       "      <td>1979</td>\n",
       "    </tr>\n",
       "    <tr>\n",
       "      <th>8</th>\n",
       "      <td>nu3496</td>\n",
       "      <td>Optimal</td>\n",
       "      <td>96132</td>\n",
       "      <td>96132</td>\n",
       "      <td>Concorde</td>\n",
       "      <td>3496</td>\n",
       "    </tr>\n",
       "    <tr>\n",
       "      <th>9</th>\n",
       "      <td>ca4663</td>\n",
       "      <td>Optimal</td>\n",
       "      <td>1290319</td>\n",
       "      <td>1290319</td>\n",
       "      <td>Concorde</td>\n",
       "      <td>4663</td>\n",
       "    </tr>\n",
       "    <tr>\n",
       "      <th>10</th>\n",
       "      <td>tz6117</td>\n",
       "      <td>Optimal</td>\n",
       "      <td>394718</td>\n",
       "      <td>394718</td>\n",
       "      <td>LKH + tmerge</td>\n",
       "      <td>6117</td>\n",
       "    </tr>\n",
       "    <tr>\n",
       "      <th>11</th>\n",
       "      <td>eg7146</td>\n",
       "      <td>Optimal</td>\n",
       "      <td>172386</td>\n",
       "      <td>172386</td>\n",
       "      <td>Keld Helsgaun</td>\n",
       "      <td>7146</td>\n",
       "    </tr>\n",
       "    <tr>\n",
       "      <th>12</th>\n",
       "      <td>ym7663</td>\n",
       "      <td>Optimal</td>\n",
       "      <td>238314</td>\n",
       "      <td>238314</td>\n",
       "      <td>LKH + tmerge</td>\n",
       "      <td>7663</td>\n",
       "    </tr>\n",
       "    <tr>\n",
       "      <th>13</th>\n",
       "      <td>pm8079</td>\n",
       "      <td>Optimal</td>\n",
       "      <td>114855</td>\n",
       "      <td>114855</td>\n",
       "      <td>Yuichi Nagata</td>\n",
       "      <td>8079</td>\n",
       "    </tr>\n",
       "    <tr>\n",
       "      <th>14</th>\n",
       "      <td>ei8246</td>\n",
       "      <td>Optimal</td>\n",
       "      <td>206171</td>\n",
       "      <td>206171</td>\n",
       "      <td>LKH</td>\n",
       "      <td>8246</td>\n",
       "    </tr>\n",
       "    <tr>\n",
       "      <th>15</th>\n",
       "      <td>ar9152</td>\n",
       "      <td>Optimal</td>\n",
       "      <td>837479</td>\n",
       "      <td>837479</td>\n",
       "      <td>Hung Dinh Nguyen</td>\n",
       "      <td>9152</td>\n",
       "    </tr>\n",
       "    <tr>\n",
       "      <th>16</th>\n",
       "      <td>ja9847</td>\n",
       "      <td>Optimal</td>\n",
       "      <td>491924</td>\n",
       "      <td>491924</td>\n",
       "      <td>Keld Helsgaun</td>\n",
       "      <td>9847</td>\n",
       "    </tr>\n",
       "    <tr>\n",
       "      <th>17</th>\n",
       "      <td>gr9882</td>\n",
       "      <td>Optimal</td>\n",
       "      <td>300899</td>\n",
       "      <td>300899</td>\n",
       "      <td>LKH + tmerge</td>\n",
       "      <td>9882</td>\n",
       "    </tr>\n",
       "    <tr>\n",
       "      <th>18</th>\n",
       "      <td>kz9976</td>\n",
       "      <td>Optimal</td>\n",
       "      <td>1061881</td>\n",
       "      <td>1061881</td>\n",
       "      <td>Keld Helsgaun</td>\n",
       "      <td>9976</td>\n",
       "    </tr>\n",
       "    <tr>\n",
       "      <th>19</th>\n",
       "      <td>fi10639</td>\n",
       "      <td>Optimal</td>\n",
       "      <td>520527</td>\n",
       "      <td>520527</td>\n",
       "      <td>LKH + tmerge</td>\n",
       "      <td>10639</td>\n",
       "    </tr>\n",
       "    <tr>\n",
       "      <th>20</th>\n",
       "      <td>mo14185</td>\n",
       "      <td>Optimal</td>\n",
       "      <td>427377</td>\n",
       "      <td>427377</td>\n",
       "      <td>Keld Helsgaun</td>\n",
       "      <td>14185</td>\n",
       "    </tr>\n",
       "    <tr>\n",
       "      <th>21</th>\n",
       "      <td>ho14473</td>\n",
       "      <td>Optimal</td>\n",
       "      <td>177092</td>\n",
       "      <td>177092</td>\n",
       "      <td>Yuichi Nagata</td>\n",
       "      <td>14473</td>\n",
       "    </tr>\n",
       "    <tr>\n",
       "      <th>22</th>\n",
       "      <td>it16862</td>\n",
       "      <td>Optimal</td>\n",
       "      <td>557315</td>\n",
       "      <td>557315</td>\n",
       "      <td>LKH + tmerge</td>\n",
       "      <td>16862</td>\n",
       "    </tr>\n",
       "    <tr>\n",
       "      <th>23</th>\n",
       "      <td>vm22775</td>\n",
       "      <td>Optimal</td>\n",
       "      <td>569288</td>\n",
       "      <td>569288</td>\n",
       "      <td>Keld Helsgaun</td>\n",
       "      <td>22775</td>\n",
       "    </tr>\n",
       "    <tr>\n",
       "      <th>24</th>\n",
       "      <td>sw24978</td>\n",
       "      <td>Optimal</td>\n",
       "      <td>855597</td>\n",
       "      <td>855597</td>\n",
       "      <td>Keld Helsgaun</td>\n",
       "      <td>24978</td>\n",
       "    </tr>\n",
       "    <tr>\n",
       "      <th>25</th>\n",
       "      <td>bm33708</td>\n",
       "      <td>0.031%</td>\n",
       "      <td>959011</td>\n",
       "      <td>959289</td>\n",
       "      <td>Yuichi Nagata</td>\n",
       "      <td>33708</td>\n",
       "    </tr>\n",
       "    <tr>\n",
       "      <th>26</th>\n",
       "      <td>ch71009</td>\n",
       "      <td>0.024%</td>\n",
       "      <td>4565452</td>\n",
       "      <td>4566506</td>\n",
       "      <td>Yuichi Nagata</td>\n",
       "      <td>71009</td>\n",
       "    </tr>\n",
       "  </tbody>\n",
       "</table>\n",
       "</div>\n",
       "      <button class=\"colab-df-convert\" onclick=\"convertToInteractive('df-e7da7d9a-dc19-4fde-829f-76b4bc0936a3')\"\n",
       "              title=\"Convert this dataframe to an interactive table.\"\n",
       "              style=\"display:none;\">\n",
       "        \n",
       "  <svg xmlns=\"http://www.w3.org/2000/svg\" height=\"24px\"viewBox=\"0 0 24 24\"\n",
       "       width=\"24px\">\n",
       "    <path d=\"M0 0h24v24H0V0z\" fill=\"none\"/>\n",
       "    <path d=\"M18.56 5.44l.94 2.06.94-2.06 2.06-.94-2.06-.94-.94-2.06-.94 2.06-2.06.94zm-11 1L8.5 8.5l.94-2.06 2.06-.94-2.06-.94L8.5 2.5l-.94 2.06-2.06.94zm10 10l.94 2.06.94-2.06 2.06-.94-2.06-.94-.94-2.06-.94 2.06-2.06.94z\"/><path d=\"M17.41 7.96l-1.37-1.37c-.4-.4-.92-.59-1.43-.59-.52 0-1.04.2-1.43.59L10.3 9.45l-7.72 7.72c-.78.78-.78 2.05 0 2.83L4 21.41c.39.39.9.59 1.41.59.51 0 1.02-.2 1.41-.59l7.78-7.78 2.81-2.81c.8-.78.8-2.07 0-2.86zM5.41 20L4 18.59l7.72-7.72 1.47 1.35L5.41 20z\"/>\n",
       "  </svg>\n",
       "      </button>\n",
       "      \n",
       "  <style>\n",
       "    .colab-df-container {\n",
       "      display:flex;\n",
       "      flex-wrap:wrap;\n",
       "      gap: 12px;\n",
       "    }\n",
       "\n",
       "    .colab-df-convert {\n",
       "      background-color: #E8F0FE;\n",
       "      border: none;\n",
       "      border-radius: 50%;\n",
       "      cursor: pointer;\n",
       "      display: none;\n",
       "      fill: #1967D2;\n",
       "      height: 32px;\n",
       "      padding: 0 0 0 0;\n",
       "      width: 32px;\n",
       "    }\n",
       "\n",
       "    .colab-df-convert:hover {\n",
       "      background-color: #E2EBFA;\n",
       "      box-shadow: 0px 1px 2px rgba(60, 64, 67, 0.3), 0px 1px 3px 1px rgba(60, 64, 67, 0.15);\n",
       "      fill: #174EA6;\n",
       "    }\n",
       "\n",
       "    [theme=dark] .colab-df-convert {\n",
       "      background-color: #3B4455;\n",
       "      fill: #D2E3FC;\n",
       "    }\n",
       "\n",
       "    [theme=dark] .colab-df-convert:hover {\n",
       "      background-color: #434B5C;\n",
       "      box-shadow: 0px 1px 3px 1px rgba(0, 0, 0, 0.15);\n",
       "      filter: drop-shadow(0px 1px 2px rgba(0, 0, 0, 0.3));\n",
       "      fill: #FFFFFF;\n",
       "    }\n",
       "  </style>\n",
       "\n",
       "      <script>\n",
       "        const buttonEl =\n",
       "          document.querySelector('#df-e7da7d9a-dc19-4fde-829f-76b4bc0936a3 button.colab-df-convert');\n",
       "        buttonEl.style.display =\n",
       "          google.colab.kernel.accessAllowed ? 'block' : 'none';\n",
       "\n",
       "        async function convertToInteractive(key) {\n",
       "          const element = document.querySelector('#df-e7da7d9a-dc19-4fde-829f-76b4bc0936a3');\n",
       "          const dataTable =\n",
       "            await google.colab.kernel.invokeFunction('convertToInteractive',\n",
       "                                                     [key], {});\n",
       "          if (!dataTable) return;\n",
       "\n",
       "          const docLinkHtml = 'Like what you see? Visit the ' +\n",
       "            '<a target=\"_blank\" href=https://colab.research.google.com/notebooks/data_table.ipynb>data table notebook</a>'\n",
       "            + ' to learn more about interactive tables.';\n",
       "          element.innerHTML = '';\n",
       "          dataTable['output_type'] = 'display_data';\n",
       "          await google.colab.output.renderOutput(dataTable, element);\n",
       "          const docLink = document.createElement('div');\n",
       "          docLink.innerHTML = docLinkHtml;\n",
       "          element.appendChild(docLink);\n",
       "        }\n",
       "      </script>\n",
       "    </div>\n",
       "  </div>\n",
       "  "
      ],
      "text/plain": [
       "       Name      Gap    Bound     Tour    Source of Tour   size\n",
       "0      wi29  Optimal    27603    27603          Concorde     29\n",
       "1      dj38  Optimal     6656     6656          Concorde     38\n",
       "2     qa194  Optimal     9352    9.352          Concorde    194\n",
       "3     uy734  Optimal    79114    79114          Concorde    734\n",
       "4     zi929  Optimal    95345    95345          Concorde    929\n",
       "5     lu980  Optimal    11340    11340          Concorde    980\n",
       "6    rw1621  Optimal    26051    26051          Concorde   1621\n",
       "7    mu1979  Optimal    86891    86891          Concorde   1979\n",
       "8    nu3496  Optimal    96132    96132          Concorde   3496\n",
       "9    ca4663  Optimal  1290319  1290319          Concorde   4663\n",
       "10   tz6117  Optimal   394718   394718      LKH + tmerge   6117\n",
       "11   eg7146  Optimal   172386   172386     Keld Helsgaun   7146\n",
       "12   ym7663  Optimal   238314   238314      LKH + tmerge   7663\n",
       "13   pm8079  Optimal   114855   114855     Yuichi Nagata   8079\n",
       "14   ei8246  Optimal   206171   206171               LKH   8246\n",
       "15   ar9152  Optimal   837479   837479  Hung Dinh Nguyen   9152\n",
       "16   ja9847  Optimal   491924   491924     Keld Helsgaun   9847\n",
       "17   gr9882  Optimal   300899   300899      LKH + tmerge   9882\n",
       "18   kz9976  Optimal  1061881  1061881     Keld Helsgaun   9976\n",
       "19  fi10639  Optimal   520527   520527      LKH + tmerge  10639\n",
       "20  mo14185  Optimal   427377   427377     Keld Helsgaun  14185\n",
       "21  ho14473  Optimal   177092   177092     Yuichi Nagata  14473\n",
       "22  it16862  Optimal   557315   557315      LKH + tmerge  16862\n",
       "23  vm22775  Optimal   569288   569288     Keld Helsgaun  22775\n",
       "24  sw24978  Optimal   855597   855597     Keld Helsgaun  24978\n",
       "25  bm33708   0.031%   959011   959289     Yuichi Nagata  33708\n",
       "26  ch71009   0.024%  4565452  4566506     Yuichi Nagata  71009"
      ]
     },
     "execution_count": 42,
     "metadata": {},
     "output_type": "execute_result"
    }
   ],
   "source": [
    "tt = pd.read_html(f'{world}summary.html')[-1]\n",
    "tt.rename(columns=tt.iloc[0],inplace=True)\n",
    "tt.drop(tt.index[0], inplace = True)\n",
    "tt['size'] = tt['Name'].str.extract('(\\d+)').astype(int)\n",
    "tt.sort_values('size',inplace=True,ignore_index=True)\n",
    "tt"
   ]
  },
  {
   "cell_type": "markdown",
   "metadata": {
    "id": "Rr4PMQX2Nt5k"
   },
   "source": [
    "Well, these sizes soon become too large for us! \n",
    "Definitely for the community edition of `gurobi` (we can go up to the first two).\n",
    "Actually, this technique becomes impractical soon after that, even when having a `gurobi` license in place. \n",
    "No mather how good the model is, the problem is still very hard! \n",
    "The solutions listed above where found by highly researched solvers, specific for the TSP. "
   ]
  },
  {
   "cell_type": "code",
   "execution_count": null,
   "metadata": {
    "colab": {
     "base_uri": "https://localhost:8080/",
     "height": 927
    },
    "id": "ogENv0IrVI5n",
    "outputId": "2f643640-f25f-4c4b-8235-231bd0541018"
   },
   "outputs": [
    {
     "data": {
      "image/png": "[encoded data removed]",
      "text/plain": [
       "<Figure size 640x480 with 1 Axes>"
      ]
     },
     "metadata": {},
     "output_type": "display_data"
    },
    {
     "data": {
      "image/png": "[encoded data removed]",
      "text/plain": [
       "<Figure size 640x480 with 1 Axes>"
      ]
     },
     "metadata": {},
     "output_type": "display_data"
    }
   ],
   "source": [
    "for name in tt.Name[:2]:\n",
    "    instance = GetNationalTSP( f'{name}.tsp' )\n",
    "    t   = pc()\n",
    "    sol = GurobiSymmetric( instance, False )\n",
    "    ShowTSP( instance, sol=sol, node_labels=False, how=str(timedelta(seconds=pc()-t))[:-4] )"
   ]
  },
  {
   "cell_type": "markdown",
   "metadata": {
    "id": "Y7x-IUP-Feiu"
   },
   "source": [
    "# Beyond this?\n",
    "\n",
    "Maybe read [the book](https://www.math.uwaterloo.ca/tsp/book/index.html) and write your own TSP solver or just run [concorde](https://github.com/jvkersch/pyconcorde)."
   ]
  }
 ],
 "metadata": {
  "colab": {
   "provenance": []
  },
  "kernelspec": {
   "display_name": "Python 3 (ipykernel)",
   "language": "python",
   "name": "python3"
  },
  "language_info": {
   "codemirror_mode": {
    "name": "ipython",
    "version": 3
   },
   "file_extension": ".py",
   "mimetype": "text/x-python",
   "name": "python",
   "nbconvert_exporter": "python",
   "pygments_lexer": "ipython3",
   "version": "3.9.16"
  },
  "widgets": {
   "application/vnd.jupyter.widget-state+json": {
    "011276c783b14e7a98e7317871d97aca": {
     "model_module": "@jupyter-widgets/controls",
     "model_module_version": "1.5.0",
     "model_name": "FloatProgressModel",
     "state": {
      "_dom_classes": [],
      "_model_module": "@jupyter-widgets/controls",
      "_model_module_version": "1.5.0",
      "_model_name": "FloatProgressModel",
      "_view_count": null,
      "_view_module": "@jupyter-widgets/controls",
      "_view_module_version": "1.5.0",
      "_view_name": "ProgressView",
      "bar_style": "success",
      "description": "",
      "description_tooltip": null,
      "layout": "IPY_MODEL_8d8f072ea1004b2b915d3ea36697de7f",
      "max": 5,
      "min": 0,
      "orientation": "horizontal",
      "style": "IPY_MODEL_cfcf2775083d4c929ddaa44626db6210",
      "value": 5
     }
    },
    "02b9b4defa24400aa10e2e77b2b18dba": {
     "model_module": "@jupyter-widgets/controls",
     "model_module_version": "1.5.0",
     "model_name": "FloatProgressModel",
     "state": {
      "_dom_classes": [],
      "_model_module": "@jupyter-widgets/controls",
      "_model_module_version": "1.5.0",
      "_model_name": "FloatProgressModel",
      "_view_count": null,
      "_view_module": "@jupyter-widgets/controls",
      "_view_module_version": "1.5.0",
      "_view_name": "ProgressView",
      "bar_style": "success",
      "description": "",
      "description_tooltip": null,
      "layout": "IPY_MODEL_1bd7d725f5b045e7bcd6845947b3de31",
      "max": 3,
      "min": 0,
      "orientation": "horizontal",
      "style": "IPY_MODEL_37c651e259bb41b7a7d4bf16d6e809cc",
      "value": 3
     }
    },
    "0782999a5eb24f5192fc383c91a0131b": {
     "model_module": "@jupyter-widgets/base",
     "model_module_version": "1.2.0",
     "model_name": "LayoutModel",
     "state": {
      "_model_module": "@jupyter-widgets/base",
      "_model_module_version": "1.2.0",
      "_model_name": "LayoutModel",
      "_view_count": null,
      "_view_module": "@jupyter-widgets/base",
      "_view_module_version": "1.2.0",
      "_view_name": "LayoutView",
      "align_content": null,
      "align_items": null,
      "align_self": null,
      "border": null,
      "bottom": null,
      "display": null,
      "flex": null,
      "flex_flow": null,
      "grid_area": null,
      "grid_auto_columns": null,
      "grid_auto_flow": null,
      "grid_auto_rows": null,
      "grid_column": null,
      "grid_gap": null,
      "grid_row": null,
      "grid_template_areas": null,
      "grid_template_columns": null,
      "grid_template_rows": null,
      "height": null,
      "justify_content": null,
      "justify_items": null,
      "left": null,
      "margin": null,
      "max_height": null,
      "max_width": null,
      "min_height": null,
      "min_width": null,
      "object_fit": null,
      "object_position": null,
      "order": null,
      "overflow": null,
      "overflow_x": null,
      "overflow_y": null,
      "padding": null,
      "right": null,
      "top": null,
      "visibility": null,
      "width": null
     }
    },
    "0af6ac0c261341c49240bbf7064ffdc1": {
     "model_module": "@jupyter-widgets/base",
     "model_module_version": "1.2.0",
     "model_name": "LayoutModel",
     "state": {
      "_model_module": "@jupyter-widgets/base",
      "_model_module_version": "1.2.0",
      "_model_name": "LayoutModel",
      "_view_count": null,
      "_view_module": "@jupyter-widgets/base",
      "_view_module_version": "1.2.0",
      "_view_name": "LayoutView",
      "align_content": null,
      "align_items": null,
      "align_self": null,
      "border": null,
      "bottom": null,
      "display": null,
      "flex": null,
      "flex_flow": null,
      "grid_area": null,
      "grid_auto_columns": null,
      "grid_auto_flow": null,
      "grid_auto_rows": null,
      "grid_column": null,
      "grid_gap": null,
      "grid_row": null,
      "grid_template_areas": null,
      "grid_template_columns": null,
      "grid_template_rows": null,
      "height": null,
      "justify_content": null,
      "justify_items": null,
      "left": null,
      "margin": null,
      "max_height": null,
      "max_width": null,
      "min_height": null,
      "min_width": null,
      "object_fit": null,
      "object_position": null,
      "order": null,
      "overflow": null,
      "overflow_x": null,
      "overflow_y": null,
      "padding": null,
      "right": null,
      "top": null,
      "visibility": null,
      "width": null
     }
    },
    "1bd7d725f5b045e7bcd6845947b3de31": {
     "model_module": "@jupyter-widgets/base",
     "model_module_version": "1.2.0",
     "model_name": "LayoutModel",
     "state": {
      "_model_module": "@jupyter-widgets/base",
      "_model_module_version": "1.2.0",
      "_model_name": "LayoutModel",
      "_view_count": null,
      "_view_module": "@jupyter-widgets/base",
      "_view_module_version": "1.2.0",
      "_view_name": "LayoutView",
      "align_content": null,
      "align_items": null,
      "align_self": null,
      "border": null,
      "bottom": null,
      "display": null,
      "flex": null,
      "flex_flow": null,
      "grid_area": null,
      "grid_auto_columns": null,
      "grid_auto_flow": null,
      "grid_auto_rows": null,
      "grid_column": null,
      "grid_gap": null,
      "grid_row": null,
      "grid_template_areas": null,
      "grid_template_columns": null,
      "grid_template_rows": null,
      "height": null,
      "justify_content": null,
      "justify_items": null,
      "left": null,
      "margin": null,
      "max_height": null,
      "max_width": null,
      "min_height": null,
      "min_width": null,
      "object_fit": null,
      "object_position": null,
      "order": null,
      "overflow": null,
      "overflow_x": null,
      "overflow_y": null,
      "padding": null,
      "right": null,
      "top": null,
      "visibility": null,
      "width": null
     }
    },
    "1d82c2c31997427ca17226a279a752bf": {
     "model_module": "@jupyter-widgets/base",
     "model_module_version": "1.2.0",
     "model_name": "LayoutModel",
     "state": {
      "_model_module": "@jupyter-widgets/base",
      "_model_module_version": "1.2.0",
      "_model_name": "LayoutModel",
      "_view_count": null,
      "_view_module": "@jupyter-widgets/base",
      "_view_module_version": "1.2.0",
      "_view_name": "LayoutView",
      "align_content": null,
      "align_items": null,
      "align_self": null,
      "border": null,
      "bottom": null,
      "display": null,
      "flex": null,
      "flex_flow": null,
      "grid_area": null,
      "grid_auto_columns": null,
      "grid_auto_flow": null,
      "grid_auto_rows": null,
      "grid_column": null,
      "grid_gap": null,
      "grid_row": null,
      "grid_template_areas": null,
      "grid_template_columns": null,
      "grid_template_rows": null,
      "height": null,
      "justify_content": null,
      "justify_items": null,
      "left": null,
      "margin": null,
      "max_height": null,
      "max_width": null,
      "min_height": null,
      "min_width": null,
      "object_fit": null,
      "object_position": null,
      "order": null,
      "overflow": null,
      "overflow_x": null,
      "overflow_y": null,
      "padding": null,
      "right": null,
      "top": null,
      "visibility": null,
      "width": null
     }
    },
    "2321d83dba1e48d59f0ce8330b06c4c4": {
     "model_module": "@jupyter-widgets/controls",
     "model_module_version": "1.5.0",
     "model_name": "HTMLModel",
     "state": {
      "_dom_classes": [],
      "_model_module": "@jupyter-widgets/controls",
      "_model_module_version": "1.5.0",
      "_model_name": "HTMLModel",
      "_view_count": null,
      "_view_module": "@jupyter-widgets/controls",
      "_view_module_version": "1.5.0",
      "_view_name": "HTMLView",
      "description": "",
      "description_tooltip": null,
      "layout": "IPY_MODEL_a6d8c0bd7d454734a6c534a0b2913dad",
      "placeholder": "​",
      "style": "IPY_MODEL_2aa1b6dcda7943498946006df98084e3",
      "value": " 3/3 [00:03&lt;00:00,  1.30s/it]"
     }
    },
    "2aa1b6dcda7943498946006df98084e3": {
     "model_module": "@jupyter-widgets/controls",
     "model_module_version": "1.5.0",
     "model_name": "DescriptionStyleModel",
     "state": {
      "_model_module": "@jupyter-widgets/controls",
      "_model_module_version": "1.5.0",
      "_model_name": "DescriptionStyleModel",
      "_view_count": null,
      "_view_module": "@jupyter-widgets/base",
      "_view_module_version": "1.2.0",
      "_view_name": "StyleView",
      "description_width": ""
     }
    },
    "347496d2c89f4872b0629b3c957ad820": {
     "model_module": "@jupyter-widgets/controls",
     "model_module_version": "1.5.0",
     "model_name": "HTMLModel",
     "state": {
      "_dom_classes": [],
      "_model_module": "@jupyter-widgets/controls",
      "_model_module_version": "1.5.0",
      "_model_name": "HTMLModel",
      "_view_count": null,
      "_view_module": "@jupyter-widgets/controls",
      "_view_module_version": "1.5.0",
      "_view_name": "HTMLView",
      "description": "",
      "description_tooltip": null,
      "layout": "IPY_MODEL_3832915170e44f34a0a95162774b23c0",
      "placeholder": "​",
      "style": "IPY_MODEL_ea34b405edaa4ad1bef5762fc6d4519a",
      "value": "100%"
     }
    },
    "37c651e259bb41b7a7d4bf16d6e809cc": {
     "model_module": "@jupyter-widgets/controls",
     "model_module_version": "1.5.0",
     "model_name": "ProgressStyleModel",
     "state": {
      "_model_module": "@jupyter-widgets/controls",
      "_model_module_version": "1.5.0",
      "_model_name": "ProgressStyleModel",
      "_view_count": null,
      "_view_module": "@jupyter-widgets/base",
      "_view_module_version": "1.2.0",
      "_view_name": "StyleView",
      "bar_color": null,
      "description_width": ""
     }
    },
    "3832915170e44f34a0a95162774b23c0": {
     "model_module": "@jupyter-widgets/base",
     "model_module_version": "1.2.0",
     "model_name": "LayoutModel",
     "state": {
      "_model_module": "@jupyter-widgets/base",
      "_model_module_version": "1.2.0",
      "_model_name": "LayoutModel",
      "_view_count": null,
      "_view_module": "@jupyter-widgets/base",
      "_view_module_version": "1.2.0",
      "_view_name": "LayoutView",
      "align_content": null,
      "align_items": null,
      "align_self": null,
      "border": null,
      "bottom": null,
      "display": null,
      "flex": null,
      "flex_flow": null,
      "grid_area": null,
      "grid_auto_columns": null,
      "grid_auto_flow": null,
      "grid_auto_rows": null,
      "grid_column": null,
      "grid_gap": null,
      "grid_row": null,
      "grid_template_areas": null,
      "grid_template_columns": null,
      "grid_template_rows": null,
      "height": null,
      "justify_content": null,
      "justify_items": null,
      "left": null,
      "margin": null,
      "max_height": null,
      "max_width": null,
      "min_height": null,
      "min_width": null,
      "object_fit": null,
      "object_position": null,
      "order": null,
      "overflow": null,
      "overflow_x": null,
      "overflow_y": null,
      "padding": null,
      "right": null,
      "top": null,
      "visibility": null,
      "width": null
     }
    },
    "3ff29418b3ed456f8e6d0c1b36ff688f": {
     "model_module": "@jupyter-widgets/base",
     "model_module_version": "1.2.0",
     "model_name": "LayoutModel",
     "state": {
      "_model_module": "@jupyter-widgets/base",
      "_model_module_version": "1.2.0",
      "_model_name": "LayoutModel",
      "_view_count": null,
      "_view_module": "@jupyter-widgets/base",
      "_view_module_version": "1.2.0",
      "_view_name": "LayoutView",
      "align_content": null,
      "align_items": null,
      "align_self": null,
      "border": null,
      "bottom": null,
      "display": null,
      "flex": null,
      "flex_flow": null,
      "grid_area": null,
      "grid_auto_columns": null,
      "grid_auto_flow": null,
      "grid_auto_rows": null,
      "grid_column": null,
      "grid_gap": null,
      "grid_row": null,
      "grid_template_areas": null,
      "grid_template_columns": null,
      "grid_template_rows": null,
      "height": null,
      "justify_content": null,
      "justify_items": null,
      "left": null,
      "margin": null,
      "max_height": null,
      "max_width": null,
      "min_height": null,
      "min_width": null,
      "object_fit": null,
      "object_position": null,
      "order": null,
      "overflow": null,
      "overflow_x": null,
      "overflow_y": null,
      "padding": null,
      "right": null,
      "top": null,
      "visibility": null,
      "width": null
     }
    },
    "6293385bed0146f0ba7eb045e85cfcdf": {
     "model_module": "@jupyter-widgets/controls",
     "model_module_version": "1.5.0",
     "model_name": "DescriptionStyleModel",
     "state": {
      "_model_module": "@jupyter-widgets/controls",
      "_model_module_version": "1.5.0",
      "_model_name": "DescriptionStyleModel",
      "_view_count": null,
      "_view_module": "@jupyter-widgets/base",
      "_view_module_version": "1.2.0",
      "_view_name": "StyleView",
      "description_width": ""
     }
    },
    "63b09ce293434145ae91ce5325d48a1b": {
     "model_module": "@jupyter-widgets/controls",
     "model_module_version": "1.5.0",
     "model_name": "HTMLModel",
     "state": {
      "_dom_classes": [],
      "_model_module": "@jupyter-widgets/controls",
      "_model_module_version": "1.5.0",
      "_model_name": "HTMLModel",
      "_view_count": null,
      "_view_module": "@jupyter-widgets/controls",
      "_view_module_version": "1.5.0",
      "_view_name": "HTMLView",
      "description": "",
      "description_tooltip": null,
      "layout": "IPY_MODEL_0782999a5eb24f5192fc383c91a0131b",
      "placeholder": "​",
      "style": "IPY_MODEL_bf42b62aa4524b638a8e52debad18427",
      "value": "100%"
     }
    },
    "863590793f1140a7abb3fbf67788eef2": {
     "model_module": "@jupyter-widgets/controls",
     "model_module_version": "1.5.0",
     "model_name": "ProgressStyleModel",
     "state": {
      "_model_module": "@jupyter-widgets/controls",
      "_model_module_version": "1.5.0",
      "_model_name": "ProgressStyleModel",
      "_view_count": null,
      "_view_module": "@jupyter-widgets/base",
      "_view_module_version": "1.2.0",
      "_view_name": "StyleView",
      "bar_color": null,
      "description_width": ""
     }
    },
    "8d8f072ea1004b2b915d3ea36697de7f": {
     "model_module": "@jupyter-widgets/base",
     "model_module_version": "1.2.0",
     "model_name": "LayoutModel",
     "state": {
      "_model_module": "@jupyter-widgets/base",
      "_model_module_version": "1.2.0",
      "_model_name": "LayoutModel",
      "_view_count": null,
      "_view_module": "@jupyter-widgets/base",
      "_view_module_version": "1.2.0",
      "_view_name": "LayoutView",
      "align_content": null,
      "align_items": null,
      "align_self": null,
      "border": null,
      "bottom": null,
      "display": null,
      "flex": null,
      "flex_flow": null,
      "grid_area": null,
      "grid_auto_columns": null,
      "grid_auto_flow": null,
      "grid_auto_rows": null,
      "grid_column": null,
      "grid_gap": null,
      "grid_row": null,
      "grid_template_areas": null,
      "grid_template_columns": null,
      "grid_template_rows": null,
      "height": null,
      "justify_content": null,
      "justify_items": null,
      "left": null,
      "margin": null,
      "max_height": null,
      "max_width": null,
      "min_height": null,
      "min_width": null,
      "object_fit": null,
      "object_position": null,
      "order": null,
      "overflow": null,
      "overflow_x": null,
      "overflow_y": null,
      "padding": null,
      "right": null,
      "top": null,
      "visibility": null,
      "width": null
     }
    },
    "8f6c1441e3cc4b7d812885d6056cb410": {
     "model_module": "@jupyter-widgets/controls",
     "model_module_version": "1.5.0",
     "model_name": "HBoxModel",
     "state": {
      "_dom_classes": [],
      "_model_module": "@jupyter-widgets/controls",
      "_model_module_version": "1.5.0",
      "_model_name": "HBoxModel",
      "_view_count": null,
      "_view_module": "@jupyter-widgets/controls",
      "_view_module_version": "1.5.0",
      "_view_name": "HBoxView",
      "box_style": "",
      "children": [
       "IPY_MODEL_f2c9d9a23ffd4ee3a41cd34bfc9f7f18",
       "IPY_MODEL_b4bed8b9a27b470cb43b3340d0420309",
       "IPY_MODEL_c820c162decb4f4998ecb2ec6043766c"
      ],
      "layout": "IPY_MODEL_0af6ac0c261341c49240bbf7064ffdc1"
     }
    },
    "91e19c1c695a4f78bf867e9c7f621ec6": {
     "model_module": "@jupyter-widgets/base",
     "model_module_version": "1.2.0",
     "model_name": "LayoutModel",
     "state": {
      "_model_module": "@jupyter-widgets/base",
      "_model_module_version": "1.2.0",
      "_model_name": "LayoutModel",
      "_view_count": null,
      "_view_module": "@jupyter-widgets/base",
      "_view_module_version": "1.2.0",
      "_view_name": "LayoutView",
      "align_content": null,
      "align_items": null,
      "align_self": null,
      "border": null,
      "bottom": null,
      "display": null,
      "flex": null,
      "flex_flow": null,
      "grid_area": null,
      "grid_auto_columns": null,
      "grid_auto_flow": null,
      "grid_auto_rows": null,
      "grid_column": null,
      "grid_gap": null,
      "grid_row": null,
      "grid_template_areas": null,
      "grid_template_columns": null,
      "grid_template_rows": null,
      "height": null,
      "justify_content": null,
      "justify_items": null,
      "left": null,
      "margin": null,
      "max_height": null,
      "max_width": null,
      "min_height": null,
      "min_width": null,
      "object_fit": null,
      "object_position": null,
      "order": null,
      "overflow": null,
      "overflow_x": null,
      "overflow_y": null,
      "padding": null,
      "right": null,
      "top": null,
      "visibility": null,
      "width": null
     }
    },
    "a6d8c0bd7d454734a6c534a0b2913dad": {
     "model_module": "@jupyter-widgets/base",
     "model_module_version": "1.2.0",
     "model_name": "LayoutModel",
     "state": {
      "_model_module": "@jupyter-widgets/base",
      "_model_module_version": "1.2.0",
      "_model_name": "LayoutModel",
      "_view_count": null,
      "_view_module": "@jupyter-widgets/base",
      "_view_module_version": "1.2.0",
      "_view_name": "LayoutView",
      "align_content": null,
      "align_items": null,
      "align_self": null,
      "border": null,
      "bottom": null,
      "display": null,
      "flex": null,
      "flex_flow": null,
      "grid_area": null,
      "grid_auto_columns": null,
      "grid_auto_flow": null,
      "grid_auto_rows": null,
      "grid_column": null,
      "grid_gap": null,
      "grid_row": null,
      "grid_template_areas": null,
      "grid_template_columns": null,
      "grid_template_rows": null,
      "height": null,
      "justify_content": null,
      "justify_items": null,
      "left": null,
      "margin": null,
      "max_height": null,
      "max_width": null,
      "min_height": null,
      "min_width": null,
      "object_fit": null,
      "object_position": null,
      "order": null,
      "overflow": null,
      "overflow_x": null,
      "overflow_y": null,
      "padding": null,
      "right": null,
      "top": null,
      "visibility": null,
      "width": null
     }
    },
    "b4732465a9644338aab47f55d27fb512": {
     "model_module": "@jupyter-widgets/base",
     "model_module_version": "1.2.0",
     "model_name": "LayoutModel",
     "state": {
      "_model_module": "@jupyter-widgets/base",
      "_model_module_version": "1.2.0",
      "_model_name": "LayoutModel",
      "_view_count": null,
      "_view_module": "@jupyter-widgets/base",
      "_view_module_version": "1.2.0",
      "_view_name": "LayoutView",
      "align_content": null,
      "align_items": null,
      "align_self": null,
      "border": null,
      "bottom": null,
      "display": null,
      "flex": null,
      "flex_flow": null,
      "grid_area": null,
      "grid_auto_columns": null,
      "grid_auto_flow": null,
      "grid_auto_rows": null,
      "grid_column": null,
      "grid_gap": null,
      "grid_row": null,
      "grid_template_areas": null,
      "grid_template_columns": null,
      "grid_template_rows": null,
      "height": null,
      "justify_content": null,
      "justify_items": null,
      "left": null,
      "margin": null,
      "max_height": null,
      "max_width": null,
      "min_height": null,
      "min_width": null,
      "object_fit": null,
      "object_position": null,
      "order": null,
      "overflow": null,
      "overflow_x": null,
      "overflow_y": null,
      "padding": null,
      "right": null,
      "top": null,
      "visibility": null,
      "width": null
     }
    },
    "b4bed8b9a27b470cb43b3340d0420309": {
     "model_module": "@jupyter-widgets/controls",
     "model_module_version": "1.5.0",
     "model_name": "FloatProgressModel",
     "state": {
      "_dom_classes": [],
      "_model_module": "@jupyter-widgets/controls",
      "_model_module_version": "1.5.0",
      "_model_name": "FloatProgressModel",
      "_view_count": null,
      "_view_module": "@jupyter-widgets/controls",
      "_view_module_version": "1.5.0",
      "_view_name": "ProgressView",
      "bar_style": "success",
      "description": "",
      "description_tooltip": null,
      "layout": "IPY_MODEL_b4732465a9644338aab47f55d27fb512",
      "max": 20,
      "min": 0,
      "orientation": "horizontal",
      "style": "IPY_MODEL_863590793f1140a7abb3fbf67788eef2",
      "value": 20
     }
    },
    "b68bad79898e469c9ce8e1e520ccae42": {
     "model_module": "@jupyter-widgets/controls",
     "model_module_version": "1.5.0",
     "model_name": "HBoxModel",
     "state": {
      "_dom_classes": [],
      "_model_module": "@jupyter-widgets/controls",
      "_model_module_version": "1.5.0",
      "_model_name": "HBoxModel",
      "_view_count": null,
      "_view_module": "@jupyter-widgets/controls",
      "_view_module_version": "1.5.0",
      "_view_name": "HBoxView",
      "box_style": "",
      "children": [
       "IPY_MODEL_347496d2c89f4872b0629b3c957ad820",
       "IPY_MODEL_02b9b4defa24400aa10e2e77b2b18dba",
       "IPY_MODEL_2321d83dba1e48d59f0ce8330b06c4c4"
      ],
      "layout": "IPY_MODEL_1d82c2c31997427ca17226a279a752bf"
     }
    },
    "bb0d93a5a7994499bea53011c8e51be7": {
     "model_module": "@jupyter-widgets/controls",
     "model_module_version": "1.5.0",
     "model_name": "HBoxModel",
     "state": {
      "_dom_classes": [],
      "_model_module": "@jupyter-widgets/controls",
      "_model_module_version": "1.5.0",
      "_model_name": "HBoxModel",
      "_view_count": null,
      "_view_module": "@jupyter-widgets/controls",
      "_view_module_version": "1.5.0",
      "_view_name": "HBoxView",
      "box_style": "",
      "children": [
       "IPY_MODEL_63b09ce293434145ae91ce5325d48a1b",
       "IPY_MODEL_011276c783b14e7a98e7317871d97aca",
       "IPY_MODEL_e25eadb2da124ab3bfd89d14442d8658"
      ],
      "layout": "IPY_MODEL_3ff29418b3ed456f8e6d0c1b36ff688f"
     }
    },
    "bf42b62aa4524b638a8e52debad18427": {
     "model_module": "@jupyter-widgets/controls",
     "model_module_version": "1.5.0",
     "model_name": "DescriptionStyleModel",
     "state": {
      "_model_module": "@jupyter-widgets/controls",
      "_model_module_version": "1.5.0",
      "_model_name": "DescriptionStyleModel",
      "_view_count": null,
      "_view_module": "@jupyter-widgets/base",
      "_view_module_version": "1.2.0",
      "_view_name": "StyleView",
      "description_width": ""
     }
    },
    "c820c162decb4f4998ecb2ec6043766c": {
     "model_module": "@jupyter-widgets/controls",
     "model_module_version": "1.5.0",
     "model_name": "HTMLModel",
     "state": {
      "_dom_classes": [],
      "_model_module": "@jupyter-widgets/controls",
      "_model_module_version": "1.5.0",
      "_model_name": "HTMLModel",
      "_view_count": null,
      "_view_module": "@jupyter-widgets/controls",
      "_view_module_version": "1.5.0",
      "_view_name": "HTMLView",
      "description": "",
      "description_tooltip": null,
      "layout": "IPY_MODEL_91e19c1c695a4f78bf867e9c7f621ec6",
      "placeholder": "​",
      "style": "IPY_MODEL_c9d9e29c3545447b8d7a1640075be07e",
      "value": " 20/20 [00:38&lt;00:00,  3.60s/it]"
     }
    },
    "c9d9e29c3545447b8d7a1640075be07e": {
     "model_module": "@jupyter-widgets/controls",
     "model_module_version": "1.5.0",
     "model_name": "DescriptionStyleModel",
     "state": {
      "_model_module": "@jupyter-widgets/controls",
      "_model_module_version": "1.5.0",
      "_model_name": "DescriptionStyleModel",
      "_view_count": null,
      "_view_module": "@jupyter-widgets/base",
      "_view_module_version": "1.2.0",
      "_view_name": "StyleView",
      "description_width": ""
     }
    },
    "cfcf2775083d4c929ddaa44626db6210": {
     "model_module": "@jupyter-widgets/controls",
     "model_module_version": "1.5.0",
     "model_name": "ProgressStyleModel",
     "state": {
      "_model_module": "@jupyter-widgets/controls",
      "_model_module_version": "1.5.0",
      "_model_name": "ProgressStyleModel",
      "_view_count": null,
      "_view_module": "@jupyter-widgets/base",
      "_view_module_version": "1.2.0",
      "_view_name": "StyleView",
      "bar_color": null,
      "description_width": ""
     }
    },
    "e25eadb2da124ab3bfd89d14442d8658": {
     "model_module": "@jupyter-widgets/controls",
     "model_module_version": "1.5.0",
     "model_name": "HTMLModel",
     "state": {
      "_dom_classes": [],
      "_model_module": "@jupyter-widgets/controls",
      "_model_module_version": "1.5.0",
      "_model_name": "HTMLModel",
      "_view_count": null,
      "_view_module": "@jupyter-widgets/controls",
      "_view_module_version": "1.5.0",
      "_view_name": "HTMLView",
      "description": "",
      "description_tooltip": null,
      "layout": "IPY_MODEL_e6d0e3331f9044bbbfde163b71605d7c",
      "placeholder": "​",
      "style": "IPY_MODEL_ff82f51130ab41069cb7f8151e90afaf",
      "value": " 5/5 [00:19&lt;00:00,  5.80s/it]"
     }
    },
    "e6d0e3331f9044bbbfde163b71605d7c": {
     "model_module": "@jupyter-widgets/base",
     "model_module_version": "1.2.0",
     "model_name": "LayoutModel",
     "state": {
      "_model_module": "@jupyter-widgets/base",
      "_model_module_version": "1.2.0",
      "_model_name": "LayoutModel",
      "_view_count": null,
      "_view_module": "@jupyter-widgets/base",
      "_view_module_version": "1.2.0",
      "_view_name": "LayoutView",
      "align_content": null,
      "align_items": null,
      "align_self": null,
      "border": null,
      "bottom": null,
      "display": null,
      "flex": null,
      "flex_flow": null,
      "grid_area": null,
      "grid_auto_columns": null,
      "grid_auto_flow": null,
      "grid_auto_rows": null,
      "grid_column": null,
      "grid_gap": null,
      "grid_row": null,
      "grid_template_areas": null,
      "grid_template_columns": null,
      "grid_template_rows": null,
      "height": null,
      "justify_content": null,
      "justify_items": null,
      "left": null,
      "margin": null,
      "max_height": null,
      "max_width": null,
      "min_height": null,
      "min_width": null,
      "object_fit": null,
      "object_position": null,
      "order": null,
      "overflow": null,
      "overflow_x": null,
      "overflow_y": null,
      "padding": null,
      "right": null,
      "top": null,
      "visibility": null,
      "width": null
     }
    },
    "ea34b405edaa4ad1bef5762fc6d4519a": {
     "model_module": "@jupyter-widgets/controls",
     "model_module_version": "1.5.0",
     "model_name": "DescriptionStyleModel",
     "state": {
      "_model_module": "@jupyter-widgets/controls",
      "_model_module_version": "1.5.0",
      "_model_name": "DescriptionStyleModel",
      "_view_count": null,
      "_view_module": "@jupyter-widgets/base",
      "_view_module_version": "1.2.0",
      "_view_name": "StyleView",
      "description_width": ""
     }
    },
    "efb6d5667bd14e829590118ec230f529": {
     "model_module": "@jupyter-widgets/base",
     "model_module_version": "1.2.0",
     "model_name": "LayoutModel",
     "state": {
      "_model_module": "@jupyter-widgets/base",
      "_model_module_version": "1.2.0",
      "_model_name": "LayoutModel",
      "_view_count": null,
      "_view_module": "@jupyter-widgets/base",
      "_view_module_version": "1.2.0",
      "_view_name": "LayoutView",
      "align_content": null,
      "align_items": null,
      "align_self": null,
      "border": null,
      "bottom": null,
      "display": null,
      "flex": null,
      "flex_flow": null,
      "grid_area": null,
      "grid_auto_columns": null,
      "grid_auto_flow": null,
      "grid_auto_rows": null,
      "grid_column": null,
      "grid_gap": null,
      "grid_row": null,
      "grid_template_areas": null,
      "grid_template_columns": null,
      "grid_template_rows": null,
      "height": null,
      "justify_content": null,
      "justify_items": null,
      "left": null,
      "margin": null,
      "max_height": null,
      "max_width": null,
      "min_height": null,
      "min_width": null,
      "object_fit": null,
      "object_position": null,
      "order": null,
      "overflow": null,
      "overflow_x": null,
      "overflow_y": null,
      "padding": null,
      "right": null,
      "top": null,
      "visibility": null,
      "width": null
     }
    },
    "f2c9d9a23ffd4ee3a41cd34bfc9f7f18": {
     "model_module": "@jupyter-widgets/controls",
     "model_module_version": "1.5.0",
     "model_name": "HTMLModel",
     "state": {
      "_dom_classes": [],
      "_model_module": "@jupyter-widgets/controls",
      "_model_module_version": "1.5.0",
      "_model_name": "HTMLModel",
      "_view_count": null,
      "_view_module": "@jupyter-widgets/controls",
      "_view_module_version": "1.5.0",
      "_view_name": "HTMLView",
      "description": "",
      "description_tooltip": null,
      "layout": "IPY_MODEL_efb6d5667bd14e829590118ec230f529",
      "placeholder": "​",
      "style": "IPY_MODEL_6293385bed0146f0ba7eb045e85cfcdf",
      "value": "100%"
     }
    },
    "ff82f51130ab41069cb7f8151e90afaf": {
     "model_module": "@jupyter-widgets/controls",
     "model_module_version": "1.5.0",
     "model_name": "DescriptionStyleModel",
     "state": {
      "_model_module": "@jupyter-widgets/controls",
      "_model_module_version": "1.5.0",
      "_model_name": "DescriptionStyleModel",
      "_view_count": null,
      "_view_module": "@jupyter-widgets/base",
      "_view_module_version": "1.2.0",
      "_view_name": "StyleView",
      "description_width": ""
     }
    }
   }
  }
 },
 "nbformat": 4,
 "nbformat_minor": 4
}
