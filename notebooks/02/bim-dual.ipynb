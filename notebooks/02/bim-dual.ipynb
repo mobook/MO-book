{
 "cells": [
  {
   "cell_type": "markdown",
   "id": "236fc575-3f76-4906-b795-7ff47cdcb2b8",
   "metadata": {
    "tags": []
   },
   "source": [
    "```{index} dual problem\n",
    "```\n",
    "```{index} single: solver; cbc\n",
    "```\n",
    "```{index} single: application; production planning\n",
    "```\n",
    "\n",
    "# Dual of the BIM production problem"
   ]
  },
  {
   "cell_type": "markdown",
   "id": "5af6767c-1635-43e9-b767-b5d8f29dbbd2",
   "metadata": {},
   "source": [
    "## Preamble: Install Pyomo and a solver\n",
    "\n",
    "This cell selects and verifies a global SOLVER for the notebook.\n",
    "\n",
    "If run on Google Colab, the cell installs Pyomo and HiGHS, then sets SOLVER to \n",
    "use the Highs solver via the appsi module. If run elsewhere, it assumes Pyomo and CBC\n",
    "have been previously installed and sets SOLVER to use the CBC solver via the Pyomo \n",
    "SolverFactory. It then verifies that SOLVER is available."
   ]
  },
  {
   "cell_type": "code",
   "execution_count": 1,
   "id": "ff74d051-1dfe-4df7-9604-75cdccb60176",
   "metadata": {
    "colab": {
     "base_uri": "https://localhost:8080/"
    },
    "id": "5ssUqKOaPVaE",
    "outputId": "38c1005a-39f4-4307-e305-19a4c9819396"
   },
   "outputs": [],
   "source": [
    "import sys\n",
    "\n",
    "if 'google.colab' in sys.modules:\n",
    "    !pip install pyomo >/dev/null 2>/dev/null\n",
    "    !pip install highspy >/dev/null 2>/dev/null\n",
    "\n",
    "    from pyomo.contrib import appsi\n",
    "    SOLVER = appsi.solvers.Highs(only_child_vars=False)\n",
    "    \n",
    "else:\n",
    "    from pyomo.environ import SolverFactory\n",
    "    SOLVER = SolverFactory('cbc')\n",
    "\n",
    "assert SOLVER.available(), f\"Solver {SOLVER} is not available.\""
   ]
  },
  {
   "cell_type": "markdown",
   "id": "c86c5987-096d-4268-9a11-e24eeff28aa4",
   "metadata": {},
   "source": [
    "## Derivation of the dual problem\n",
    "\n",
    "In a [previous notebook](bim.ipynb), we introduce the BIM production problem and showed that it can be modeled as the following LO problem:\n",
    "\n",
    "$$\n",
    "\\begin{align*}\n",
    "\\max  \\quad  & 12 x_1 + 9 x_2 \\\\\n",
    "\\text{s.t.} \\quad\n",
    "    &   x_1 \\leq 1000 &\\text{(silicon)}\\\\\n",
    "    &   x_2 \\leq 1500 &\\text{(germanium)}\\\\\n",
    "    &   x_1 + x_2  \\leq 1750 &\\text{(plastic)}\\\\\n",
    "    &  4 x_1 + 2 x_2 \\leq 4800 &\\text{(copper)}\\\\\n",
    "    &   x_1, x_2 \\geq 0.\n",
    "\\end{align*}\n",
    "$$\n",
    "\n",
    "In this notebook, we will derive step by step its **dual problem**. \n",
    "\n",
    "One can construct bounds for the value of objective function of the original problem by multiplying the constraints by non-negative numbers and adding them to each other so that the left-hand side looks like the objective function, while the right-hand side is the corresponding bound.\n",
    "\n",
    "Let $\\lambda_1,\\lambda_2,\\lambda_3,\\lambda_4$ be non-negative numbers. If we multiply each of these variables by one of the four constraints of the original problem and sum all of them side by side to obtain the inequality\n",
    "\n",
    "$$\n",
    "\\begin{align*}\n",
    "(\\lambda_1+\\lambda_3+4\\lambda_4) x_1 + (\\lambda_2+\\lambda_3+2 \\lambda_4) x_2 \\leq 1000 \\lambda_1 + 1500 \\lambda_2 + 1750 \\lambda_3 + 4800 \\lambda_4.\n",
    "\\end{align*}\n",
    "$$\n",
    "\n",
    "It is clear that if $\\lambda_1,\\lambda_2,\\lambda_3,\\lambda_4 \\geq 0$ satisfy\n",
    "\n",
    "$$\n",
    "\\begin{align*}\n",
    "\\lambda_1+\\lambda_3+4\\lambda_4 & \\geq 12,\\\\\n",
    "\\lambda_2+\\lambda_3+2 \\lambda_4 & \\geq 9,\n",
    "\\end{align*}\n",
    "$$\n",
    "\n",
    "then we have the following:\n",
    "\n",
    "$$\n",
    "\\begin{align*}\n",
    "12 x_1 + 9 x_2 & \\leq (\\lambda_1+\\lambda_3+4\\lambda_4) x_1 + (\\lambda_2+\\lambda_3+2 \\lambda_4) x_2 \\\\\n",
    "& \\leq 1000 \\lambda_1 + 1500 \\lambda_2 + 1750 \\lambda_3 + 4800 \\lambda_4,\n",
    "\\end{align*}\n",
    "$$\n",
    "\n",
    "where the first inequality follows from the fact that $x_1, x_2 \\geq 0$, and the most right-hand expression becomes an upper bound on the optimal value of the objective.\n",
    "\n",
    "If we seek $\\lambda_1,\\lambda_2,\\lambda_3,\\lambda_4 \\geq 0$ such that the upper bound on the RHS is as tight as possible, that means that we need to **minimize** the expression $1000 \\lambda_1 + 1500 \\lambda_2 + 1750 \\lambda_3 + 4800 \\lambda_4$. This can be formulated as the following LO, which we name the **dual problem**:\n",
    "\n",
    "$$\n",
    "\\begin{align*}\n",
    "        \\min \\quad & 1000 \\lambda_1 + 1500 \\lambda_2 + 1750 \\lambda_3 + 4800 \\lambda_4  \\\\\n",
    "        \\text{s.t.} \\quad & \\lambda_1+\\lambda_3+4\\lambda_4 \\geq 12,\\\\\n",
    "        & \\lambda_2+\\lambda_3+2 \\lambda_4 \\geq 9,\\\\\n",
    "        & \\lambda_1,\\lambda_2,\\lambda_3,\\lambda_4 \\geq 0.\n",
    "\\end{align*}\n",
    "$$\n",
    "\n",
    "It is easy to solve and find the optimal solution $(\\lambda_1,\\lambda_2,\\lambda_3,\\lambda_4)=(0,0,6,1.5)$, for which the objective functions takes the value $17700$. Such a value is (the tightest) upper bound for the original problem. \n",
    "\n",
    "The Pyomo code that implements and solves the dual problem is given below. "
   ]
  },
  {
   "cell_type": "code",
   "execution_count": 24,
   "id": "4c09c77c-8ace-43d1-b94d-dc6a11694f9b",
   "metadata": {},
   "outputs": [
    {
     "name": "stdout",
     "output_type": "stream",
     "text": [
      "y = (0.00, 0.00, 6.00, 1.50)\n",
      "optimal value = 17700.00\n"
     ]
    }
   ],
   "source": [
    "import pyomo.environ as pyo\n",
    "\n",
    "model = pyo.ConcreteModel('BIM dual')\n",
    "\n",
    "# Decision variables and their domain\n",
    "model.y1 = pyo.Var(domain=pyo.NonNegativeReals)\n",
    "model.y2 = pyo.Var(domain=pyo.NonNegativeReals)\n",
    "model.y3 = pyo.Var(domain=pyo.NonNegativeReals)\n",
    "model.y4 = pyo.Var(domain=pyo.NonNegativeReals)\n",
    "\n",
    "# Objective function\n",
    "model.obj = pyo.Objective(sense=pyo.minimize, \n",
    "                      expr=1000*model.y1 + 1500*model.y2 + 1750*model.y3 + 4800*model.y4)\n",
    "\n",
    "# Constraints\n",
    "model.x1 = pyo.Constraint(expr=model.y1 + model.y3 + 4*model.y4 >= 12)\n",
    "model.x2 = pyo.Constraint(expr=model.y2 + model.y3 + 2*model.y4 >= 9)\n",
    "\n",
    "# Solve and print solution\n",
    "SOLVER.solve(model)\n",
    "print(f'y = ({model.y1.value:.2f}, {model.y2.value:.2f}, {model.y3.value:.2f}, {model.y4.value:.2f})')\n",
    "print(f\"optimal value = {pyo.value(model.obj):.2f}\")"
   ]
  },
  {
   "cell_type": "markdown",
   "id": "da40407c-164d-4b47-a8af-5f610823b307",
   "metadata": {},
   "source": [
    "Note that since the original LO is feasible and bounded, strong duality holds and the optimal value of the primal problem coincides with the optimal value of the dual problem."
   ]
  },
  {
   "cell_type": "markdown",
   "id": "cb224036",
   "metadata": {},
   "source": [
    "If we are interested only in the optimal value of the dual variables, we can solve the original problem and ask Pyomo to return us the optimal values of the dual variables."
   ]
  },
  {
   "cell_type": "code",
   "execution_count": 28,
   "id": "fb583eba",
   "metadata": {},
   "outputs": [
    {
     "name": "stdout",
     "output_type": "stream",
     "text": [
      "Constraint name: silicon\n",
      "Optimal value corresponding dual variable: y_1 = -0.00\n",
      "\n",
      "Constraint name: germanium\n",
      "Optimal value corresponding dual variable: y_2 = -0.00\n",
      "\n",
      "Constraint name: plastic\n",
      "Optimal value corresponding dual variable: y_3 = 6.00\n",
      "\n",
      "Constraint name: copper\n",
      "Optimal value corresponding dual variable: y_4 = 1.50\n",
      "\n"
     ]
    }
   ],
   "source": [
    "model = pyo.ConcreteModel('BIM with decorators')\n",
    "\n",
    "# Decision variables and their domains\n",
    "model.x1 = pyo.Var(domain=pyo.NonNegativeReals)\n",
    "model.x2 = pyo.Var(domain=pyo.NonNegativeReals)\n",
    "\n",
    "# Objective function defined using a decorator\n",
    "@model.Objective(sense=pyo.maximize)\n",
    "def profit(m):\n",
    "    return 12 * m.x1 + 9 * m.x2\n",
    "\n",
    "# Constraints defined using decorators\n",
    "@model.Constraint()\n",
    "def silicon(m):\n",
    "    return m.x1 <= 1000\n",
    "\n",
    "@model.Constraint()\n",
    "def germanium(m):\n",
    "    return m.x2 <= 1500\n",
    "\n",
    "@model.Constraint()\n",
    "def plastic(m):\n",
    "    return m.x1 + m.x2 <= 1750\n",
    "\n",
    "@model.Constraint()\n",
    "def copper(m):\n",
    "    return 4 * m.x1 + 2 * m.x2 <= 4800\n",
    "\n",
    "model.dual = pyo.Suffix(direction=pyo.Suffix.IMPORT)\n",
    "SOLVER.solve(model)\n",
    "\n",
    "for i, c in enumerate(model.component_objects(pyo.Constraint)):\n",
    "    print(f\"Constraint name: {c}\\nOptimal value corresponding dual variable: y_{i+1} = {model.dual[c]:0.2f}\\n\")"
   ]
  }
 ],
 "metadata": {
  "kernelspec": {
   "display_name": "Python 3 (ipykernel)",
   "language": "python",
   "name": "python3"
  },
  "language_info": {
   "codemirror_mode": {
    "name": "ipython",
    "version": 3
   },
   "file_extension": ".py",
   "mimetype": "text/x-python",
   "name": "python",
   "nbconvert_exporter": "python",
   "pygments_lexer": "ipython3",
   "version": "3.11.2"
  }
 },
 "nbformat": 4,
 "nbformat_minor": 5
}
