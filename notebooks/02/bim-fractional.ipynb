{
 "cells": [
  {
   "cell_type": "markdown",
   "metadata": {},
   "source": [
    "```{index} single: solver; cbc\n",
    "```\n",
    "```{index} single: solver; highs\n",
    "```\n",
    "\n",
    "# BIM production variants"
   ]
  },
  {
   "cell_type": "markdown",
   "metadata": {},
   "source": [
    "## Preamble: Install Pyomo and a solver\n",
    "\n",
    "This cell selects and verifies a global SOLVER for the notebook.\n",
    "\n",
    "If run on Google Colab, the cell installs Pyomo and HiGHS, then sets SOLVER to \n",
    "use the Highs solver via the appsi module. If run elsewhere, it assumes Pyomo and CBC\n",
    "have been previously installed and sets SOLVER to use the CBC solver via the Pyomo \n",
    "SolverFactory. It then verifies that SOLVER is available."
   ]
  },
  {
   "cell_type": "code",
   "execution_count": 3,
   "metadata": {
    "colab": {
     "base_uri": "https://localhost:8080/"
    },
    "id": "5ssUqKOaPVaE",
    "outputId": "38c1005a-39f4-4307-e305-19a4c9819396"
   },
   "outputs": [],
   "source": [
    "import sys\n",
    "\n",
    "if 'google.colab' in sys.modules:\n",
    "    !pip install pyomo >/dev/null 2>/dev/null\n",
    "    !pip install highspy >/dev/null 2>/dev/null\n",
    "\n",
    "    from pyomo.contrib import appsi\n",
    "    SOLVER = appsi.solvers.Highs(only_child_vars=False)\n",
    "    \n",
    "else:\n",
    "    from pyomo.environ import SolverFactory\n",
    "    SOLVER = SolverFactory('cbc')\n",
    "\n",
    "assert SOLVER.available(), f\"Solver {SOLVER} is not available.\""
   ]
  },
  {
   "cell_type": "markdown",
   "metadata": {},
   "source": [
    "## Two variants of the BIM problem: fractional objective and additional fixed costs\n",
    "\n",
    "Recall the BIM production model introduced earlier [here](bim.ipynb), that is\n",
    "\n",
    "$$\n",
    "\\begin{array}{rrcrclr}\n",
    "\\max \\quad  \n",
    "        & 12x_1 & + & 9x_2               \\\\\n",
    "\\text{s.t.} \\quad\n",
    "        &   x_1 &   &      & \\leq & 1000 &\\text{(silicon)}\\\\\n",
    "        &       &   &  x_2 & \\leq & 1500 &\\text{(germanium)}\\\\\n",
    "        &   x_1 & + &  x_2 & \\leq & 1750 &\\text{(plastic)}\\\\\n",
    "        &  4x_1 & + & 2x_2 & \\leq & 4800 &\\text{(copper)}\\\\\n",
    "        &   x_1 &   &      & \\geq & 0 \\\\\n",
    "        &       &   &  x_2 & \\geq & 0.\n",
    "\\end{array}\n",
    "$$\n",
    "\n",
    "Assume the pair $(12,9)$ reflects the sales price (revenues) in € and not the profits made per unit produced. We then need to account for the production costs. Suppose that the production costs for $(x_1,x_2)$ chips are equal to a fixed cost of 100 (independent of the number of units produced) plus $7/6 x_1$ plus $5/6 x_2$. It is reasonable to maximize the difference between the revenues and the costs. This approach yields the following linear model:"
   ]
  },
  {
   "cell_type": "code",
   "execution_count": 4,
   "metadata": {
    "id": "m33AGCU_PSJw"
   },
   "outputs": [
    {
     "name": "stdout",
     "output_type": "stream",
     "text": [
      "x=(650.0,1100.0) value=15925.000 revenue=17700.00 cost=1775.00\n"
     ]
    }
   ],
   "source": [
    "import pyomo.environ as pyo\n",
    "\n",
    "def BIM_with_revenues_minus_costs():\n",
    "    \n",
    "    m = pyo.ConcreteModel('BIM with revenues minus costs')\n",
    "    \n",
    "    m.x1 = pyo.Var(domain=pyo.NonNegativeReals)\n",
    "    m.x2 = pyo.Var(domain=pyo.NonNegativeReals)\n",
    "\n",
    "    m.revenue = pyo.Expression(expr = 12 * m.x1 + 9 * m.x2)\n",
    "    m.variable_cost = pyo.Expression(expr = 7/6 * m.x1 + 5/6 * m.x2)\n",
    "    m.fixed_cost = 100\n",
    "\n",
    "    m.profit = pyo.Objective(sense= pyo.maximize, expr = m.revenue - m.variable_cost - m.fixed_cost)\n",
    "\n",
    "    m.silicon = pyo.Constraint(expr = m.x1 <= 1000)\n",
    "    m.germanium = pyo.Constraint(expr = m.x2 <= 1500)\n",
    "    m.plastic = pyo.Constraint(expr = m.x1 + m.x2 <= 1750)\n",
    "    m.copper = pyo.Constraint(expr = 4*m.x1 + 2*m.x2 <= 4800)\n",
    "\n",
    "    return m\n",
    "\n",
    "BIM_linear = BIM_with_revenues_minus_costs()\n",
    "SOLVER.solve(BIM_linear)\n",
    "\n",
    "print('x=({:.1f},{:.1f}) value={:.3f} revenue={:.2f} cost={:.2f}'.format(\n",
    "    pyo.value(BIM_linear.x1),\n",
    "    pyo.value(BIM_linear.x2),\n",
    "    pyo.value(BIM_linear.profit),\n",
    "    pyo.value(BIM_linear.revenue),\n",
    "    pyo.value(BIM_linear.variable_cost) + pyo.value(BIM_linear.fixed_cost)))"
   ]
  },
  {
   "cell_type": "markdown",
   "metadata": {},
   "source": [
    "This first model has the same optimal solution as the original BIM model, namely $(650,1100)$ with a revenue of $17700$ and a cost of $1775$."
   ]
  },
  {
   "cell_type": "markdown",
   "metadata": {},
   "source": [
    "Alternatively, we may aim to optimize the efficiency of the plan, expressed as the ratio between the revenues and the costs:\n",
    "\n",
    "$$\n",
    "\\begin{array}{lll}\n",
    "\\max \\quad \n",
    "        & {\\dfrac{12x_1+9x_2}{7/6x_1 + 5/6x_2 + 100}} \\\\\n",
    "\\text{s.t.} \\quad \n",
    "        &   x_1           \\leq  1000 &\\text{(silicon)}\\\\\n",
    "        &           x_2   \\leq 1500  &\\text{(germanium)}\\\\\n",
    "        &   x_1  +   x_2  \\leq  1750 &\\text{(plastic)}\\\\\n",
    "        &  4x_1  +  2x_2  \\leq  4800 &\\text{(copper)}\\\\\n",
    "        &   x_1  ,   x_2  \\geq  0.\n",
    "\\end{array}\n",
    "$$\n",
    "\n",
    "In order to solve this second version we need to deal with the fraction appearing in the objective function by introducing an auxiliary variable $t \\geq 0$. More specifically, we reformulate the model as follows\n",
    "\n",
    "$$\n",
    "\\begin{array}{rrcrcrclr}\n",
    "\\max \\quad \n",
    "        & 12y_1 & + & 9y_2             \\\\\n",
    "\\text{s.t.} \\quad \n",
    "        &   y_1 &   &       & & & \\leq & 1000 \\cdot t &\\text{(silicon)}\\\\\n",
    "        &       &   &   y_2 & & & \\leq & 1500 \\cdot t &\\text{(germanium)}\\\\\n",
    "        &   y_1 & + &   y_2 & & & \\leq & 1750 \\cdot t &\\text{(plastic)}\\\\\n",
    "        &  4y_1 & + &  2y_2 & & & \\leq & 4800 \\cdot t &\\text{(copper)}\\\\\n",
    "\t\t&7/6y_1 & + &5/6y_2 & + & 100y & = & 1 & \\text{(fraction)} \\\\ \n",
    "        &   y_1 & , &  y_2 & , & t & \\geq & 0  \\\\\n",
    "\\end{array}\n",
    "$$\n",
    "\n",
    "Despite the change of variables, we can always recover the solution as $(x_1,x_2)= (y_1/t,y_2/t)$."
   ]
  },
  {
   "cell_type": "code",
   "execution_count": 6,
   "metadata": {},
   "outputs": [
    {
     "name": "stdout",
     "output_type": "stream",
     "text": [
      "x=(250.0,1500.0) value=10.051 revenue=16500.00 cost=1641.67\n"
     ]
    }
   ],
   "source": [
    "def BIM_with_revenues_over_costs():\n",
    "    \n",
    "    m = pyo.ConcreteModel('BIM with revenues over costs')\n",
    "    \n",
    "    m.y1 = pyo.Var(domain=pyo.NonNegativeReals)\n",
    "    m.y2 = pyo.Var(domain=pyo.NonNegativeReals)\n",
    "    m.t = pyo.Var(domain=pyo.NonNegativeReals)\n",
    "\n",
    "    m.revenue = pyo.Expression(expr = 12 * m.y1 + 9 * m.y2 )\n",
    "    m.variable_cost = pyo.Expression(expr = 7/6 * m.y1 + 5/6 * m.y2)\n",
    "    m.fixed_cost = 100\n",
    "\n",
    "    m.profit = pyo.Objective(sense= pyo.maximize, expr = m.revenue)\n",
    "\n",
    "    m.silicon = pyo.Constraint(expr = m.y1 <= 1000 * m.t)\n",
    "    m.germanium = pyo.Constraint(expr = m.y2 <= 1500 * m.t)\n",
    "    m.plastic = pyo.Constraint(expr = m.y1 + m.y2 <= 1750 * m.t)\n",
    "    m.copper = pyo.Constraint(expr = 4*m.y1 + 2*m.y2 <= 4800 * m.t)\n",
    "    m.frac = pyo.Constraint(expr = m.variable_cost + m.fixed_cost * m.t == 1)\n",
    "    \n",
    "    return m\n",
    "\n",
    "BIM_fractional = BIM_with_revenues_over_costs()\n",
    "SOLVER.solve(BIM_fractional)\n",
    "\n",
    "t = pyo.value(BIM_fractional.t)\n",
    "print('x=({:.1f},{:.1f}) value={:.3f} revenue={:.2f} cost={:.2f}'.format(\n",
    "    pyo.value(BIM_fractional.y1 / t),\n",
    "    pyo.value(BIM_fractional.y2 / t),\n",
    "    pyo.value(BIM_fractional.profit / (BIM_fractional.variable_cost + BIM_fractional.fixed_cost * t)),\n",
    "    pyo.value(BIM_fractional.revenue / t),\n",
    "    pyo.value(BIM_fractional.variable_cost / t) + pyo.value(BIM_fractional.fixed_cost)))"
   ]
  },
  {
   "cell_type": "markdown",
   "metadata": {},
   "source": [
    "The second model has optimal solution $(250,1500)$ with a revenue of $16500$ and a cost of $1641.667$.\n",
    "\n",
    "The efficiency, measured as the ratio of revenue over costs for the optimal solution, is different for the two models. For the first model the efficiency is equal to $\\frac{17700}{1775}=9.972$, which is strictly smaller than that of the second model, that is $\\frac{16500}{1641.667}=10.051$."
   ]
  },
  {
   "cell_type": "code",
   "execution_count": null,
   "metadata": {},
   "outputs": [],
   "source": []
  }
 ],
 "metadata": {
  "kernelspec": {
   "display_name": "Python 3 (ipykernel)",
   "language": "python",
   "name": "python3"
  },
  "language_info": {
   "codemirror_mode": {
    "name": "ipython",
    "version": 3
   },
   "file_extension": ".py",
   "mimetype": "text/x-python",
   "name": "python",
   "nbconvert_exporter": "python",
   "pygments_lexer": "ipython3",
   "version": "3.9.16"
  }
 },
 "nbformat": 4,
 "nbformat_minor": 4
}
