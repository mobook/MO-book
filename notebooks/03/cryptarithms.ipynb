{
 "cells": [
  {
   "cell_type": "markdown",
   "metadata": {
    "id": "fRyPU77dbVRU"
   },
   "source": [
    "```{index} disjunctive programming\n",
    "```\n",
    "\n",
    "# Extra material: Cryptarithms puzzle\n",
    "\n",
    "The July 1924 issue of the famous British magazine *The Strand* included a word puzzle by Henry E. Dudeney in his regular contribution \"Perplexities\". The puzzle is to assign a unique digit to each letter appearing in the equation\n",
    "\n",
    "        S E N D\n",
    "      + M O R E\n",
    "    = M O N E Y\n",
    "\n",
    "such that the arithmetic equation is satisfied, and the leading digit for M is non-zero. There are [many more examples](http://cryptarithms.awardspace.us/puzzles.html) of these puzzles, but this is perhaps the most well-known."
   ]
  },
  {
   "cell_type": "markdown",
   "metadata": {},
   "source": [
    "## Preamble: Install Pyomo and a solver\n",
    "\n",
    "This cell selects and verifies a global SOLVER for the notebook.\n",
    "\n",
    "If run on Google Colab, the cell installs Pyomo and HiGHS, then sets SOLVER to \n",
    "use the Highs solver via the appsi module. If run elsewhere, it assumes Pyomo and CBC\n",
    "have been previously installed and sets SOLVER to use the CBC solver via the Pyomo \n",
    "SolverFactory. It then verifies that SOLVER is available."
   ]
  },
  {
   "cell_type": "code",
   "execution_count": 1,
   "metadata": {
    "colab": {
     "base_uri": "https://localhost:8080/"
    },
    "id": "5ssUqKOaPVaE",
    "outputId": "38c1005a-39f4-4307-e305-19a4c9819396"
   },
   "outputs": [],
   "source": [
    "import sys\n",
    "\n",
    "if 'google.colab' in sys.modules:\n",
    "    !pip install pyomo >/dev/null 2>/dev/null\n",
    "    !pip install highspy >/dev/null 2>/dev/null\n",
    "\n",
    "    from pyomo.contrib import appsi\n",
    "    SOLVER = appsi.solvers.Highs(only_child_vars=False)\n",
    "    \n",
    "else:\n",
    "    from pyomo.environ import SolverFactory\n",
    "    SOLVER = SolverFactory('cbc')\n",
    "\n",
    "assert SOLVER.available(), f\"Solver {SOLVER} is not available.\""
   ]
  },
  {
   "cell_type": "markdown",
   "metadata": {
    "id": "1P6EoEpxisaN"
   },
   "source": [
    "## Modeling and Solution\n",
    "\n",
    "There are several possible approaches to modeling this puzzle in Pyomo. \n",
    "\n",
    "[One approach](https://stackoverflow.com/questions/67456379/pyomo-model-constraint-programming-for-sendmore-money-task)  would be to using a matrix of binary variables $x_{a,d}$ indexed by letter $a$ and digit $d$ such that $x_{a,d} = 1$ designates the corresponding assignment. The problem constraints can then be implemented by summing the binary variables along the two axes. The arithmetic constraint becomes a more challenging.\n",
    "\n",
    "[Another approach](https://www.gecode.org/doc/6.0.1/MPG.pdf) is to use Pyomo integer variables indexed by letters, then setup an linear expression to represent the puzzle. If we use the notation $n_a$ to represent the digit assigned to letter $a$, the algebraic constraint becomes\n",
    "\n",
    "$$\n",
    "\\begin{align*}\n",
    "1000 n_s + 100 n_e + 10 n_n + n_d \\\\\n",
    "+ 1000 n_m + 100 n_o + 10 n_r + n_e \\\\ \n",
    "= 10000 n_m + 1000 n_o + 100 n_n + 10 n_e + n_y\n",
    "\\end{align*}\n",
    "$$\n",
    "\n",
    "The requirement that no two letters be assigned the same digit can be represented as a disjunction. Letting $n_a$ and $n_b$ denote the integers assigned to letters $a$ and $b$, the disjunction becomes\n",
    "\n",
    "$$\n",
    "\\begin{align*}\n",
    "\\begin{bmatrix}n_a \\lt n_b\\end{bmatrix} \n",
    "\\ \\veebar\\  &\n",
    "\\begin{bmatrix}n_b \\lt n_a\\end{bmatrix} \n",
    "& \\forall a \\lt b\n",
    "\\end{align*}$$\n"
   ]
  },
  {
   "cell_type": "code",
   "execution_count": 2,
   "metadata": {
    "colab": {
     "base_uri": "https://localhost:8080/"
    },
    "executionInfo": {
     "elapsed": 640,
     "status": "ok",
     "timestamp": 1647633791981,
     "user": {
      "displayName": "Jeffrey Kantor",
      "photoUrl": "https://lh3.googleusercontent.com/a-/AOh14Gg_n8V7bVINy02QRuRgOoMo11Ri7NKU3OUKdC1bkQ=s64",
      "userId": "09038942003589296665"
     },
     "user_tz": 240
    },
    "id": "krDXKLopgjr-",
    "outputId": "94c3c4da-f118-4a42-d620-3d7a71d49df9"
   },
   "outputs": [
    {
     "name": "stdout",
     "output_type": "stream",
     "text": [
      "     9 5 6 7\n",
      "  +  1 0 8 5\n",
      "  ----------\n",
      "=  1 0 6 5 2\n"
     ]
    }
   ],
   "source": [
    "import pyomo.environ as pyo\n",
    "import pyomo.gdp as gdp\n",
    "\n",
    "m = pyo.ConcreteModel()\n",
    "\n",
    "m.LETTERS = pyo.Set(initialize=['S', 'E', 'N', 'D', 'M', 'O', 'R', 'Y'])\n",
    "m.PAIRS = pyo.Set(initialize=m.LETTERS * m.LETTERS, filter = lambda m, a, b: a < b)\n",
    "m.n = pyo.Var(m.LETTERS, domain=pyo.Integers, bounds=(0, 9))\n",
    "\n",
    "@m.Constraint()\n",
    "def message(m):\n",
    "    return               1000*m.n['S'] + 100*m.n['E'] + 10*m.n['N'] + m.n['D'] \\\n",
    "                       + 1000*m.n['M'] + 100*m.n['O'] + 10*m.n['R'] + m.n['E'] \\\n",
    "     == 10000*m.n['M'] + 1000*m.n['O'] + 100*m.n['N'] + 10*m.n['E'] + m.n['Y']\n",
    "\n",
    "# leading digit must be non-zero\n",
    "@m.Constraint()\n",
    "def leading_digit_nonzero(m):\n",
    "    return m.n['M'] >= 1\n",
    "\n",
    "# assign a different number to each letter\n",
    "@m.Disjunction(m.PAIRS)\n",
    "def unique_assignment(m, a, b):\n",
    "    return [m.n[a] >= m.n[b] + 1, m.n[b] >= m.n[a] + 1]\n",
    "\n",
    "# assign a \"dummy\" objective to avoid solver errors\n",
    "@m.Objective()\n",
    "def dummy_objective(m):\n",
    "    return m.n['M']\n",
    "\n",
    "pyo.TransformationFactory('gdp.bigm').apply_to(m)\n",
    "SOLVER.solve(m)\n",
    "\n",
    "def letters2num(s):\n",
    "    return ' '.join(map(lambda s: f\"{int(m.n[s]())}\", list(s)))\n",
    "\n",
    "print(\"    \", letters2num('SEND'))\n",
    "print(\"  + \", letters2num('MORE'))\n",
    "print(\"  ----------\")\n",
    "print(\"= \", letters2num('MONEY'))"
   ]
  },
  {
   "cell_type": "markdown",
   "metadata": {
    "id": "ka68BXoTkbjw"
   },
   "source": [
    "## Suggested exercises\n",
    "\n",
    "1. Pyomo includes a logic-based solver `GDPopt` for generalized disjunctive programming problems. Implement and test `GDPopt` using combinations of solution strategies and MIP solvers. Compare the performance of `GDPopt` to the constraint solver `gecode`.\n",
    "\n",
    "2. There are [many more examples](http://cryptarithms.awardspace.us/puzzles.html) of cryptarithm puzzles. Refactor this code and create a function that can be used to solve generic puzzles of this type."
   ]
  },
  {
   "cell_type": "code",
   "execution_count": null,
   "metadata": {},
   "outputs": [],
   "source": []
  }
 ],
 "metadata": {
  "colab": {
   "authorship_tag": "ABX9TyN4MNrWBGDy5YGPH38fzjvZ",
   "collapsed_sections": [],
   "name": "cryptarithms-end-more-money.ipynb",
   "provenance": []
  },
  "kernelspec": {
   "display_name": "Python 3 (ipykernel)",
   "language": "python",
   "name": "python3"
  },
  "language_info": {
   "codemirror_mode": {
    "name": "ipython",
    "version": 3
   },
   "file_extension": ".py",
   "mimetype": "text/x-python",
   "name": "python",
   "nbconvert_exporter": "python",
   "pygments_lexer": "ipython3",
   "version": "3.9.16"
  }
 },
 "nbformat": 4,
 "nbformat_minor": 4
}
